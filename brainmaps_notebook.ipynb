{
 "cells": [
  {
   "cell_type": "code",
   "execution_count": 4,
   "metadata": {
    "collapsed": true
   },
   "outputs": [],
   "source": [
    "import numpy as np\n",
    "import pandas as pd\n",
    "\n",
    "import napari\n",
    "\n",
    "from scipy.spatial import ConvexHull\n",
    "from matplotlib import pyplot as plt\n",
    "\n",
    "from brainmaps_api_fcn.equivalence_requests import EquivalenceRequests\n",
    "from brainmaps_api_fcn.subvolume_requests import SubvolumeRequest\n",
    "\n",
    "# Get the agglomerated ID that contains EM centroid\n",
    "def get_agglo_group_from_point(sa, volume_id, stack_change, centroid_xyz):\n",
    "    sr = SubvolumeRequest(sa, volume_id)\n",
    "    vol = sr.get_subvolume(centroid_xyz, size= [1,1,1], change_stack_id = stack_change)\n",
    "    agglo_id  = int(np.unique(vol[vol>0]))\n",
    "    print(f\"ID found: {agglo_id}\")\n",
    "\n",
    "    er = EquivalenceRequests(sa, volume_id, stack_change)\n",
    "    group = er.get_groups(agglo_id)\n",
    "    return group\n"
   ]
  },
  {
   "cell_type": "code",
   "execution_count": 5,
   "outputs": [],
   "source": [
    "\n",
    "sa = r\"\\\\tungsten-nas.fmi.ch\\tungsten\\scratch\\gfriedri\\montruth\\Reconstruction\\fmi-friedrich-4dd3f21e665d.json\"\n",
    "volume_id = r\"280984173682:montano_rm2_ngff:raw_230701_seg_240316fb\"\n",
    "stack_change = \"240705d_rsg9_spl\""
   ],
   "metadata": {
    "collapsed": false
   }
  },
  {
   "cell_type": "code",
   "execution_count": 6,
   "outputs": [
    {
     "name": "stderr",
     "output_type": "stream",
     "text": [
      "C:\\Users\\montruth\\AppData\\Local\\Temp\\ipykernel_20312\\1364787394.py:16: DeprecationWarning: Conversion of an array with ndim > 0 to a scalar is deprecated, and will error in future. Ensure you extract a single element from your array before performing this operation. (Deprecated NumPy 1.25.)\n",
      "  agglo_id  = int(np.unique(vol[vol>0]))\n"
     ]
    },
    {
     "name": "stdout",
     "output_type": "stream",
     "text": [
      "ID found: 67017133\n",
      "ID found: 66090332\n",
      "ID found: 67016897\n",
      "ID found: 67016249\n",
      "ID found: 72815935\n",
      "ID found: 67016897\n",
      "ID found: 66120761\n",
      "ID found: 66892606\n",
      "ID found: 23602233\n"
     ]
    }
   ],
   "source": [
    "#TODO: Read list/csv\n",
    "centroids_xyz = np.array([[10656, 10878, 1463], [10384, 10242, 1348], [10837, 10333, 1251], [11177, 10700, 724], [10566, 14567, 1828], [10817, 10322, 1268],\n",
    "                          [11615, 13345, 1800],[11189, 12162, 2454],[11483, 12210, 2088]])\n",
    "\n",
    "\n",
    "\n",
    "# Create dictionary of groups\n",
    "groups_dict = {}\n",
    "for point in centroids_xyz:\n",
    "    group = get_agglo_group_from_point(sa, volume_id, stack_change, point)\n",
    "    groups_dict[tuple(point)] = group"
   ],
   "metadata": {
    "collapsed": false
   }
  },
  {
   "cell_type": "code",
   "execution_count": 7,
   "outputs": [
    {
     "data": {
      "text/plain": "                                              volume_id      stack_change  \\\n2701  280984173682:montano_rm2_ngff:raw_230701_seg_2...  240705d_rsg9_spl   \n2702  280984173682:montano_rm2_ngff:raw_230701_seg_2...  240705d_rsg9_spl   \n2703  280984173682:montano_rm2_ngff:raw_230701_seg_2...  240705d_rsg9_spl   \n2704  280984173682:montano_rm2_ngff:raw_230701_seg_2...  240705d_rsg9_spl   \n2705  280984173682:montano_rm2_ngff:raw_230701_seg_2...  240705d_rsg9_spl   \n\n      point_x  point_y  point_z  agglo_id  segment_id  \n2701    11483    12210     2088  23602233    23602233  \n2702    11483    12210     2088  23602233    23602348  \n2703    11483    12210     2088  23602233    23602349  \n2704    11483    12210     2088  23602233    23602352  \n2705    11483    12210     2088  23602233    23602356  ",
      "text/html": "<div>\n<style scoped>\n    .dataframe tbody tr th:only-of-type {\n        vertical-align: middle;\n    }\n\n    .dataframe tbody tr th {\n        vertical-align: top;\n    }\n\n    .dataframe thead th {\n        text-align: right;\n    }\n</style>\n<table border=\"1\" class=\"dataframe\">\n  <thead>\n    <tr style=\"text-align: right;\">\n      <th></th>\n      <th>volume_id</th>\n      <th>stack_change</th>\n      <th>point_x</th>\n      <th>point_y</th>\n      <th>point_z</th>\n      <th>agglo_id</th>\n      <th>segment_id</th>\n    </tr>\n  </thead>\n  <tbody>\n    <tr>\n      <th>2701</th>\n      <td>280984173682:montano_rm2_ngff:raw_230701_seg_2...</td>\n      <td>240705d_rsg9_spl</td>\n      <td>11483</td>\n      <td>12210</td>\n      <td>2088</td>\n      <td>23602233</td>\n      <td>23602233</td>\n    </tr>\n    <tr>\n      <th>2702</th>\n      <td>280984173682:montano_rm2_ngff:raw_230701_seg_2...</td>\n      <td>240705d_rsg9_spl</td>\n      <td>11483</td>\n      <td>12210</td>\n      <td>2088</td>\n      <td>23602233</td>\n      <td>23602348</td>\n    </tr>\n    <tr>\n      <th>2703</th>\n      <td>280984173682:montano_rm2_ngff:raw_230701_seg_2...</td>\n      <td>240705d_rsg9_spl</td>\n      <td>11483</td>\n      <td>12210</td>\n      <td>2088</td>\n      <td>23602233</td>\n      <td>23602349</td>\n    </tr>\n    <tr>\n      <th>2704</th>\n      <td>280984173682:montano_rm2_ngff:raw_230701_seg_2...</td>\n      <td>240705d_rsg9_spl</td>\n      <td>11483</td>\n      <td>12210</td>\n      <td>2088</td>\n      <td>23602233</td>\n      <td>23602352</td>\n    </tr>\n    <tr>\n      <th>2705</th>\n      <td>280984173682:montano_rm2_ngff:raw_230701_seg_2...</td>\n      <td>240705d_rsg9_spl</td>\n      <td>11483</td>\n      <td>12210</td>\n      <td>2088</td>\n      <td>23602233</td>\n      <td>23602356</td>\n    </tr>\n  </tbody>\n</table>\n</div>"
     },
     "execution_count": 7,
     "metadata": {},
     "output_type": "execute_result"
    }
   ],
   "source": [
    "# Create list to store data\n",
    "data_rows = []\n",
    "\n",
    "# Iterate through the dictionary\n",
    "for point, agglo_groups in groups_dict.items():\n",
    "    for agglo_id, segments in agglo_groups.items():\n",
    "        # Add a row for each segment in the group\n",
    "        for segment_id in segments:\n",
    "            data_rows.append({\n",
    "                'volume_id': volume_id,\n",
    "                'stack_change': stack_change,\n",
    "                'point_x': point[0],\n",
    "                'point_y': point[1],\n",
    "                'point_z': point[2],\n",
    "                'agglo_id': agglo_id,\n",
    "                'segment_id': segment_id\n",
    "            })\n",
    "\n",
    "# Create DataFrame\n",
    "df = pd.DataFrame(data_rows)\n",
    "\n",
    "# Sort the DataFrame\n",
    "df = df.sort_values(['agglo_id', 'segment_id'])\n",
    "\n",
    "# Display the first few rows\n",
    "df.head()"
   ],
   "metadata": {
    "collapsed": false
   }
  },
  {
   "cell_type": "code",
   "execution_count": 8,
   "outputs": [],
   "source": [
    "df.to_csv('segment_mapping.csv', index=False)"
   ],
   "metadata": {
    "collapsed": false
   }
  },
  {
   "cell_type": "code",
   "execution_count": 9,
   "outputs": [],
   "source": [
    "segment_list = df.segment_id.to_list()"
   ],
   "metadata": {
    "collapsed": false
   }
  },
  {
   "cell_type": "code",
   "execution_count": 10,
   "outputs": [],
   "source": [
    "# Alternative: save as comma-separated values\n",
    "with open('segment_list.txt', 'w') as f:\n",
    "    f.write(','.join(map(str, segment_list)))"
   ],
   "metadata": {
    "collapsed": false
   }
  },
  {
   "cell_type": "code",
   "execution_count": 11,
   "outputs": [],
   "source": [
    "# QUERY command: SELECT id, bbox FROM `fmi-friedrich.ruth_ob.raw_230701_seg_240316fb_objinfo` WHERE id IN(segment1, segment2,...)\n",
    "\n",
    "# saved as csv"
   ],
   "metadata": {
    "collapsed": false
   }
  },
  {
   "cell_type": "code",
   "execution_count": 12,
   "outputs": [
    {
     "data": {
      "text/plain": "          id      x      y     z  x_1  y_1  z_1\n0  116984326  11315  11368  1028   40   16   15\n1  166056496   9297  12240  1780   44   25   18\n2  120252491   9360  13494  1030   15   44   19\n3  171037175   8856  15263  1546   51   29   21\n4  215268150  11459  13141  1802   62   68   34",
      "text/html": "<div>\n<style scoped>\n    .dataframe tbody tr th:only-of-type {\n        vertical-align: middle;\n    }\n\n    .dataframe tbody tr th {\n        vertical-align: top;\n    }\n\n    .dataframe thead th {\n        text-align: right;\n    }\n</style>\n<table border=\"1\" class=\"dataframe\">\n  <thead>\n    <tr style=\"text-align: right;\">\n      <th></th>\n      <th>id</th>\n      <th>x</th>\n      <th>y</th>\n      <th>z</th>\n      <th>x_1</th>\n      <th>y_1</th>\n      <th>z_1</th>\n    </tr>\n  </thead>\n  <tbody>\n    <tr>\n      <th>0</th>\n      <td>116984326</td>\n      <td>11315</td>\n      <td>11368</td>\n      <td>1028</td>\n      <td>40</td>\n      <td>16</td>\n      <td>15</td>\n    </tr>\n    <tr>\n      <th>1</th>\n      <td>166056496</td>\n      <td>9297</td>\n      <td>12240</td>\n      <td>1780</td>\n      <td>44</td>\n      <td>25</td>\n      <td>18</td>\n    </tr>\n    <tr>\n      <th>2</th>\n      <td>120252491</td>\n      <td>9360</td>\n      <td>13494</td>\n      <td>1030</td>\n      <td>15</td>\n      <td>44</td>\n      <td>19</td>\n    </tr>\n    <tr>\n      <th>3</th>\n      <td>171037175</td>\n      <td>8856</td>\n      <td>15263</td>\n      <td>1546</td>\n      <td>51</td>\n      <td>29</td>\n      <td>21</td>\n    </tr>\n    <tr>\n      <th>4</th>\n      <td>215268150</td>\n      <td>11459</td>\n      <td>13141</td>\n      <td>1802</td>\n      <td>62</td>\n      <td>68</td>\n      <td>34</td>\n    </tr>\n  </tbody>\n</table>\n</div>"
     },
     "execution_count": 12,
     "metadata": {},
     "output_type": "execute_result"
    }
   ],
   "source": [
    "segment_info = pd.read_csv(\"bquxjob_338f3367_19330a661a5.csv\")\n",
    "segment_info.head()"
   ],
   "metadata": {
    "collapsed": false
   }
  },
  {
   "cell_type": "code",
   "execution_count": 13,
   "outputs": [],
   "source": [
    "coords_df = segment_info.rename(columns={\n",
    "    'x': 'start_x',\n",
    "    'y': 'start_y',\n",
    "    'z': 'start_z',\n",
    "    'x_1': 'size_x',\n",
    "    'y_1': 'size_y',\n",
    "    'z_1': 'size_z'\n",
    "})"
   ],
   "metadata": {
    "collapsed": false
   }
  },
  {
   "cell_type": "code",
   "execution_count": 14,
   "outputs": [
    {
     "data": {
      "text/plain": "          id  start_x  start_y  start_z  size_x  size_y  size_z\n0  116984326    11315    11368     1028      40      16      15\n1  166056496     9297    12240     1780      44      25      18\n2  120252491     9360    13494     1030      15      44      19\n3  171037175     8856    15263     1546      51      29      21\n4  215268150    11459    13141     1802      62      68      34",
      "text/html": "<div>\n<style scoped>\n    .dataframe tbody tr th:only-of-type {\n        vertical-align: middle;\n    }\n\n    .dataframe tbody tr th {\n        vertical-align: top;\n    }\n\n    .dataframe thead th {\n        text-align: right;\n    }\n</style>\n<table border=\"1\" class=\"dataframe\">\n  <thead>\n    <tr style=\"text-align: right;\">\n      <th></th>\n      <th>id</th>\n      <th>start_x</th>\n      <th>start_y</th>\n      <th>start_z</th>\n      <th>size_x</th>\n      <th>size_y</th>\n      <th>size_z</th>\n    </tr>\n  </thead>\n  <tbody>\n    <tr>\n      <th>0</th>\n      <td>116984326</td>\n      <td>11315</td>\n      <td>11368</td>\n      <td>1028</td>\n      <td>40</td>\n      <td>16</td>\n      <td>15</td>\n    </tr>\n    <tr>\n      <th>1</th>\n      <td>166056496</td>\n      <td>9297</td>\n      <td>12240</td>\n      <td>1780</td>\n      <td>44</td>\n      <td>25</td>\n      <td>18</td>\n    </tr>\n    <tr>\n      <th>2</th>\n      <td>120252491</td>\n      <td>9360</td>\n      <td>13494</td>\n      <td>1030</td>\n      <td>15</td>\n      <td>44</td>\n      <td>19</td>\n    </tr>\n    <tr>\n      <th>3</th>\n      <td>171037175</td>\n      <td>8856</td>\n      <td>15263</td>\n      <td>1546</td>\n      <td>51</td>\n      <td>29</td>\n      <td>21</td>\n    </tr>\n    <tr>\n      <th>4</th>\n      <td>215268150</td>\n      <td>11459</td>\n      <td>13141</td>\n      <td>1802</td>\n      <td>62</td>\n      <td>68</td>\n      <td>34</td>\n    </tr>\n  </tbody>\n</table>\n</div>"
     },
     "execution_count": 14,
     "metadata": {},
     "output_type": "execute_result"
    }
   ],
   "source": [
    "coords_df.head()"
   ],
   "metadata": {
    "collapsed": false
   }
  },
  {
   "cell_type": "code",
   "execution_count": 15,
   "outputs": [
    {
     "data": {
      "text/plain": "                                           volume_id      stack_change  \\\n0  280984173682:montano_rm2_ngff:raw_230701_seg_2...  240705d_rsg9_spl   \n1  280984173682:montano_rm2_ngff:raw_230701_seg_2...  240705d_rsg9_spl   \n2  280984173682:montano_rm2_ngff:raw_230701_seg_2...  240705d_rsg9_spl   \n3  280984173682:montano_rm2_ngff:raw_230701_seg_2...  240705d_rsg9_spl   \n4  280984173682:montano_rm2_ngff:raw_230701_seg_2...  240705d_rsg9_spl   \n\n   point_x  point_y  point_z  agglo_id  segment_id        id  start_x  \\\n0    11483    12210     2088  23602233    23602233  23602233     8128   \n1    11483    12210     2088  23602233    23602348  23602348     8139   \n2    11483    12210     2088  23602233    23602349  23602349     8136   \n3    11483    12210     2088  23602233    23602352  23602352     8134   \n4    11483    12210     2088  23602233    23602356  23602356     8093   \n\n   start_y  start_z  size_x  size_y  size_z  \n0    12406      295      48      66      25  \n1    12381      311      44      34      28  \n2    12390      311      40      41      21  \n3    12397      312      20      26      19  \n4    12437      312      16      49      27  ",
      "text/html": "<div>\n<style scoped>\n    .dataframe tbody tr th:only-of-type {\n        vertical-align: middle;\n    }\n\n    .dataframe tbody tr th {\n        vertical-align: top;\n    }\n\n    .dataframe thead th {\n        text-align: right;\n    }\n</style>\n<table border=\"1\" class=\"dataframe\">\n  <thead>\n    <tr style=\"text-align: right;\">\n      <th></th>\n      <th>volume_id</th>\n      <th>stack_change</th>\n      <th>point_x</th>\n      <th>point_y</th>\n      <th>point_z</th>\n      <th>agglo_id</th>\n      <th>segment_id</th>\n      <th>id</th>\n      <th>start_x</th>\n      <th>start_y</th>\n      <th>start_z</th>\n      <th>size_x</th>\n      <th>size_y</th>\n      <th>size_z</th>\n    </tr>\n  </thead>\n  <tbody>\n    <tr>\n      <th>0</th>\n      <td>280984173682:montano_rm2_ngff:raw_230701_seg_2...</td>\n      <td>240705d_rsg9_spl</td>\n      <td>11483</td>\n      <td>12210</td>\n      <td>2088</td>\n      <td>23602233</td>\n      <td>23602233</td>\n      <td>23602233</td>\n      <td>8128</td>\n      <td>12406</td>\n      <td>295</td>\n      <td>48</td>\n      <td>66</td>\n      <td>25</td>\n    </tr>\n    <tr>\n      <th>1</th>\n      <td>280984173682:montano_rm2_ngff:raw_230701_seg_2...</td>\n      <td>240705d_rsg9_spl</td>\n      <td>11483</td>\n      <td>12210</td>\n      <td>2088</td>\n      <td>23602233</td>\n      <td>23602348</td>\n      <td>23602348</td>\n      <td>8139</td>\n      <td>12381</td>\n      <td>311</td>\n      <td>44</td>\n      <td>34</td>\n      <td>28</td>\n    </tr>\n    <tr>\n      <th>2</th>\n      <td>280984173682:montano_rm2_ngff:raw_230701_seg_2...</td>\n      <td>240705d_rsg9_spl</td>\n      <td>11483</td>\n      <td>12210</td>\n      <td>2088</td>\n      <td>23602233</td>\n      <td>23602349</td>\n      <td>23602349</td>\n      <td>8136</td>\n      <td>12390</td>\n      <td>311</td>\n      <td>40</td>\n      <td>41</td>\n      <td>21</td>\n    </tr>\n    <tr>\n      <th>3</th>\n      <td>280984173682:montano_rm2_ngff:raw_230701_seg_2...</td>\n      <td>240705d_rsg9_spl</td>\n      <td>11483</td>\n      <td>12210</td>\n      <td>2088</td>\n      <td>23602233</td>\n      <td>23602352</td>\n      <td>23602352</td>\n      <td>8134</td>\n      <td>12397</td>\n      <td>312</td>\n      <td>20</td>\n      <td>26</td>\n      <td>19</td>\n    </tr>\n    <tr>\n      <th>4</th>\n      <td>280984173682:montano_rm2_ngff:raw_230701_seg_2...</td>\n      <td>240705d_rsg9_spl</td>\n      <td>11483</td>\n      <td>12210</td>\n      <td>2088</td>\n      <td>23602233</td>\n      <td>23602356</td>\n      <td>23602356</td>\n      <td>8093</td>\n      <td>12437</td>\n      <td>312</td>\n      <td>16</td>\n      <td>49</td>\n      <td>27</td>\n    </tr>\n  </tbody>\n</table>\n</div>"
     },
     "execution_count": 15,
     "metadata": {},
     "output_type": "execute_result"
    }
   ],
   "source": [
    "# Merge with your previous DataFrame based on segment ID\n",
    "df = df.merge(coords_df, left_on='segment_id', right_on='id', how='left')\n",
    "\n",
    "df.head()"
   ],
   "metadata": {
    "collapsed": false
   }
  },
  {
   "cell_type": "code",
   "execution_count": 16,
   "outputs": [
    {
     "data": {
      "text/plain": "                                           volume_id      stack_change  \\\n0  280984173682:montano_rm2_ngff:raw_230701_seg_2...  240705d_rsg9_spl   \n1  280984173682:montano_rm2_ngff:raw_230701_seg_2...  240705d_rsg9_spl   \n2  280984173682:montano_rm2_ngff:raw_230701_seg_2...  240705d_rsg9_spl   \n3  280984173682:montano_rm2_ngff:raw_230701_seg_2...  240705d_rsg9_spl   \n4  280984173682:montano_rm2_ngff:raw_230701_seg_2...  240705d_rsg9_spl   \n\n   point_x  point_y  point_z  agglo_id  segment_id  start_x  start_y  start_z  \\\n0    11483    12210     2088  23602233    23602233     8128    12406      295   \n1    11483    12210     2088  23602233    23602348     8139    12381      311   \n2    11483    12210     2088  23602233    23602349     8136    12390      311   \n3    11483    12210     2088  23602233    23602352     8134    12397      312   \n4    11483    12210     2088  23602233    23602356     8093    12437      312   \n\n   size_x  size_y  size_z  \n0      48      66      25  \n1      44      34      28  \n2      40      41      21  \n3      20      26      19  \n4      16      49      27  ",
      "text/html": "<div>\n<style scoped>\n    .dataframe tbody tr th:only-of-type {\n        vertical-align: middle;\n    }\n\n    .dataframe tbody tr th {\n        vertical-align: top;\n    }\n\n    .dataframe thead th {\n        text-align: right;\n    }\n</style>\n<table border=\"1\" class=\"dataframe\">\n  <thead>\n    <tr style=\"text-align: right;\">\n      <th></th>\n      <th>volume_id</th>\n      <th>stack_change</th>\n      <th>point_x</th>\n      <th>point_y</th>\n      <th>point_z</th>\n      <th>agglo_id</th>\n      <th>segment_id</th>\n      <th>start_x</th>\n      <th>start_y</th>\n      <th>start_z</th>\n      <th>size_x</th>\n      <th>size_y</th>\n      <th>size_z</th>\n    </tr>\n  </thead>\n  <tbody>\n    <tr>\n      <th>0</th>\n      <td>280984173682:montano_rm2_ngff:raw_230701_seg_2...</td>\n      <td>240705d_rsg9_spl</td>\n      <td>11483</td>\n      <td>12210</td>\n      <td>2088</td>\n      <td>23602233</td>\n      <td>23602233</td>\n      <td>8128</td>\n      <td>12406</td>\n      <td>295</td>\n      <td>48</td>\n      <td>66</td>\n      <td>25</td>\n    </tr>\n    <tr>\n      <th>1</th>\n      <td>280984173682:montano_rm2_ngff:raw_230701_seg_2...</td>\n      <td>240705d_rsg9_spl</td>\n      <td>11483</td>\n      <td>12210</td>\n      <td>2088</td>\n      <td>23602233</td>\n      <td>23602348</td>\n      <td>8139</td>\n      <td>12381</td>\n      <td>311</td>\n      <td>44</td>\n      <td>34</td>\n      <td>28</td>\n    </tr>\n    <tr>\n      <th>2</th>\n      <td>280984173682:montano_rm2_ngff:raw_230701_seg_2...</td>\n      <td>240705d_rsg9_spl</td>\n      <td>11483</td>\n      <td>12210</td>\n      <td>2088</td>\n      <td>23602233</td>\n      <td>23602349</td>\n      <td>8136</td>\n      <td>12390</td>\n      <td>311</td>\n      <td>40</td>\n      <td>41</td>\n      <td>21</td>\n    </tr>\n    <tr>\n      <th>3</th>\n      <td>280984173682:montano_rm2_ngff:raw_230701_seg_2...</td>\n      <td>240705d_rsg9_spl</td>\n      <td>11483</td>\n      <td>12210</td>\n      <td>2088</td>\n      <td>23602233</td>\n      <td>23602352</td>\n      <td>8134</td>\n      <td>12397</td>\n      <td>312</td>\n      <td>20</td>\n      <td>26</td>\n      <td>19</td>\n    </tr>\n    <tr>\n      <th>4</th>\n      <td>280984173682:montano_rm2_ngff:raw_230701_seg_2...</td>\n      <td>240705d_rsg9_spl</td>\n      <td>11483</td>\n      <td>12210</td>\n      <td>2088</td>\n      <td>23602233</td>\n      <td>23602356</td>\n      <td>8093</td>\n      <td>12437</td>\n      <td>312</td>\n      <td>16</td>\n      <td>49</td>\n      <td>27</td>\n    </tr>\n  </tbody>\n</table>\n</div>"
     },
     "execution_count": 16,
     "metadata": {},
     "output_type": "execute_result"
    }
   ],
   "source": [
    "\n",
    "# Clean up by dropping the redundant 'id' column if needed\n",
    "df = df.drop('id', axis=1)\n",
    "df.head()"
   ],
   "metadata": {
    "collapsed": false
   }
  },
  {
   "cell_type": "code",
   "execution_count": 17,
   "outputs": [
    {
     "data": {
      "text/plain": "                                             volume_id      stack_change  \\\n0    280984173682:montano_rm2_ngff:raw_230701_seg_2...  240705d_rsg9_spl   \n314  280984173682:montano_rm2_ngff:raw_230701_seg_2...  240705d_rsg9_spl   \n313  280984173682:montano_rm2_ngff:raw_230701_seg_2...  240705d_rsg9_spl   \n312  280984173682:montano_rm2_ngff:raw_230701_seg_2...  240705d_rsg9_spl   \n311  280984173682:montano_rm2_ngff:raw_230701_seg_2...  240705d_rsg9_spl   \n\n     point_x  point_y  point_z  agglo_id  segment_id  start_x  start_y  \\\n0      11483    12210     2088  23602233    23602233     8128    12406   \n314    11483    12210     2088  23602233   212754422    11003    12149   \n313    11483    12210     2088  23602233   212754421    11045    12171   \n312    11483    12210     2088  23602233   212754419    10957    12155   \n311    11483    12210     2088  23602233   212754418    11067    12136   \n\n     start_z  size_x  size_y  size_z  \n0        295      48      66      25  \n314     1960      51      55      29  \n313     1960      18      18      22  \n312     1959      48      29      20  \n311     1959      45      71      25  ",
      "text/html": "<div>\n<style scoped>\n    .dataframe tbody tr th:only-of-type {\n        vertical-align: middle;\n    }\n\n    .dataframe tbody tr th {\n        vertical-align: top;\n    }\n\n    .dataframe thead th {\n        text-align: right;\n    }\n</style>\n<table border=\"1\" class=\"dataframe\">\n  <thead>\n    <tr style=\"text-align: right;\">\n      <th></th>\n      <th>volume_id</th>\n      <th>stack_change</th>\n      <th>point_x</th>\n      <th>point_y</th>\n      <th>point_z</th>\n      <th>agglo_id</th>\n      <th>segment_id</th>\n      <th>start_x</th>\n      <th>start_y</th>\n      <th>start_z</th>\n      <th>size_x</th>\n      <th>size_y</th>\n      <th>size_z</th>\n    </tr>\n  </thead>\n  <tbody>\n    <tr>\n      <th>0</th>\n      <td>280984173682:montano_rm2_ngff:raw_230701_seg_2...</td>\n      <td>240705d_rsg9_spl</td>\n      <td>11483</td>\n      <td>12210</td>\n      <td>2088</td>\n      <td>23602233</td>\n      <td>23602233</td>\n      <td>8128</td>\n      <td>12406</td>\n      <td>295</td>\n      <td>48</td>\n      <td>66</td>\n      <td>25</td>\n    </tr>\n    <tr>\n      <th>314</th>\n      <td>280984173682:montano_rm2_ngff:raw_230701_seg_2...</td>\n      <td>240705d_rsg9_spl</td>\n      <td>11483</td>\n      <td>12210</td>\n      <td>2088</td>\n      <td>23602233</td>\n      <td>212754422</td>\n      <td>11003</td>\n      <td>12149</td>\n      <td>1960</td>\n      <td>51</td>\n      <td>55</td>\n      <td>29</td>\n    </tr>\n    <tr>\n      <th>313</th>\n      <td>280984173682:montano_rm2_ngff:raw_230701_seg_2...</td>\n      <td>240705d_rsg9_spl</td>\n      <td>11483</td>\n      <td>12210</td>\n      <td>2088</td>\n      <td>23602233</td>\n      <td>212754421</td>\n      <td>11045</td>\n      <td>12171</td>\n      <td>1960</td>\n      <td>18</td>\n      <td>18</td>\n      <td>22</td>\n    </tr>\n    <tr>\n      <th>312</th>\n      <td>280984173682:montano_rm2_ngff:raw_230701_seg_2...</td>\n      <td>240705d_rsg9_spl</td>\n      <td>11483</td>\n      <td>12210</td>\n      <td>2088</td>\n      <td>23602233</td>\n      <td>212754419</td>\n      <td>10957</td>\n      <td>12155</td>\n      <td>1959</td>\n      <td>48</td>\n      <td>29</td>\n      <td>20</td>\n    </tr>\n    <tr>\n      <th>311</th>\n      <td>280984173682:montano_rm2_ngff:raw_230701_seg_2...</td>\n      <td>240705d_rsg9_spl</td>\n      <td>11483</td>\n      <td>12210</td>\n      <td>2088</td>\n      <td>23602233</td>\n      <td>212754418</td>\n      <td>11067</td>\n      <td>12136</td>\n      <td>1959</td>\n      <td>45</td>\n      <td>71</td>\n      <td>25</td>\n    </tr>\n  </tbody>\n</table>\n</div>"
     },
     "execution_count": 17,
     "metadata": {},
     "output_type": "execute_result"
    }
   ],
   "source": [
    "\n",
    "# Sort the DataFrame\n",
    "df = df.sort_values(['agglo_id'])\n",
    "\n",
    "df.head()"
   ],
   "metadata": {
    "collapsed": false
   }
  },
  {
   "cell_type": "code",
   "execution_count": 18,
   "outputs": [],
   "source": [
    "df.to_csv('segment_mapping_bbox.csv', index=False)"
   ],
   "metadata": {
    "collapsed": false
   }
  },
  {
   "cell_type": "code",
   "execution_count": 19,
   "outputs": [
    {
     "data": {
      "text/plain": "<Figure size 640x480 with 1 Axes>",
      "image/png": "[encoded data removed]"
     },
     "metadata": {},
     "output_type": "display_data"
    }
   ],
   "source": [
    "# Create points for convex hull from bounding boxes\n",
    "def create_convex_hull(df, group_id):\n",
    "    # Get all points from bounding boxes for this group\n",
    "    group_boxes = df[df['agglo_id'] == group_id]\n",
    "\n",
    "    # Create points array from start coordinates and sizes\n",
    "    points = []\n",
    "    for _, box in group_boxes.iterrows():\n",
    "        # Add all corners of the bounding box\n",
    "        x, y, z = box['start_x'], box['start_y'], box['start_z']\n",
    "        sx, sy, sz = box['size_x'], box['size_y'], box['size_z']\n",
    "\n",
    "        # Add all 8 corners of the box\n",
    "        points.extend([\n",
    "            [x, y, z],\n",
    "            [x+sx, y, z],\n",
    "            [x, y+sy, z],\n",
    "            [x, y, z+sz],\n",
    "            [x+sx, y+sy, z],\n",
    "            [x+sx, y, z+sz],\n",
    "            [x, y+sy, z+sz],\n",
    "            [x+sx, y+sy, z+sz]\n",
    "        ])\n",
    "\n",
    "    points = np.array(points)\n",
    "    hull = ConvexHull(points)\n",
    "    return points, hull\n",
    "\n",
    "# Create convex hulls for each agglomeration ID\n",
    "hulls = {}\n",
    "for agglo_id in df['agglo_id'].unique():\n",
    "    points, hull = create_convex_hull(df, agglo_id)\n",
    "    hulls[agglo_id] = (points, hull)\n",
    "\n",
    "# Visualize one convex hull (example for first agglo_id)\n",
    "def plot_hull(points, hull):\n",
    "    fig = plt.figure()\n",
    "    ax = fig.add_subplot(111, projection='3d')\n",
    "\n",
    "    # Plot points\n",
    "    ax.scatter(points[:,0], points[:,1], points[:,2], 'ko')\n",
    "\n",
    "    # Plot hull\n",
    "    for simplex in hull.simplices:\n",
    "        ax.plot3D(points[simplex, 0], points[simplex, 1], points[simplex, 2], 'r-')\n",
    "\n",
    "    plt.show()\n",
    "\n",
    "# Plot first hull as example\n",
    "first_agglo_id = list(hulls.keys())[0]\n",
    "\n",
    "plot_hull(*hulls[first_agglo_id])\n"
   ],
   "metadata": {
    "collapsed": false
   }
  },
  {
   "cell_type": "code",
   "execution_count": 21,
   "outputs": [
    {
     "data": {
      "text/plain": "<Figure size 640x480 with 1 Axes>",
      "image/png": "[encoded data removed]"
     },
     "metadata": {},
     "output_type": "display_data"
    }
   ],
   "source": [
    "fig = plt.figure()\n",
    "ax = fig.add_subplot(111, projection='3d')\n",
    "for agglo_id, (points, hull) in hulls.items():\n",
    "    # Plot points\n",
    "    ax.scatter(points[:,0], points[:,1], points[:,2], 'ko')\n",
    "\n",
    "    # Plot hull\n",
    "    for simplex in hull.simplices:\n",
    "        ax.plot3D(points[simplex, 0], points[simplex, 1], points[simplex, 2], 'r-')\n",
    "\n",
    "plt.show()\n"
   ],
   "metadata": {
    "collapsed": false
   }
  },
  {
   "cell_type": "code",
   "execution_count": 22,
   "outputs": [],
   "source": [
    "# convert to mesh\n",
    "\n",
    "import pymeshlab"
   ],
   "metadata": {
    "collapsed": false
   }
  },
  {
   "cell_type": "code",
   "execution_count": 23,
   "outputs": [],
   "source": [
    "agglo_1 = 72815935\n",
    "agglo_2 = 23602233\n",
    "agglo_3 = 67016897"
   ],
   "metadata": {
    "collapsed": false
   }
  },
  {
   "cell_type": "code",
   "execution_count": 26,
   "outputs": [],
   "source": [
    "hull1_points, hull1_faces = hulls[agglo_1]\n",
    "hull2_points, hull2_faces = hulls[agglo_2]\n"
   ],
   "metadata": {
    "collapsed": false
   }
  },
  {
   "cell_type": "code",
   "execution_count": 45,
   "outputs": [
    {
     "ename": "PyMeshLabException",
     "evalue": "Failed to apply filter: generate_boolean_intersection\nDetails: Error while creating mesh: Vertex matrix is empty.",
     "output_type": "error",
     "traceback": [
      "\u001B[1;31m---------------------------------------------------------------------------\u001B[0m",
      "\u001B[1;31mPyMeshLabException\u001B[0m                        Traceback (most recent call last)",
      "Cell \u001B[1;32mIn[45], line 18\u001B[0m\n\u001B[0;32m     14\u001B[0m ms\u001B[38;5;241m.\u001B[39madd_mesh(pymeshlab\u001B[38;5;241m.\u001B[39mMesh(vertex_matrix\u001B[38;5;241m=\u001B[39mhull2_points))\n\u001B[0;32m     15\u001B[0m \u001B[38;5;66;03m#orient_mesh_properly(ms)\u001B[39;00m\n\u001B[0;32m     16\u001B[0m \n\u001B[0;32m     17\u001B[0m \u001B[38;5;66;03m# Compute boolean intersection\u001B[39;00m\n\u001B[1;32m---> 18\u001B[0m \u001B[43mms\u001B[49m\u001B[38;5;241;43m.\u001B[39;49m\u001B[43mgenerate_boolean_intersection\u001B[49m\u001B[43m(\u001B[49m\u001B[43mfirst_mesh\u001B[49m\u001B[38;5;241;43m=\u001B[39;49m\u001B[38;5;241;43m0\u001B[39;49m\u001B[43m,\u001B[49m\u001B[43m \u001B[49m\u001B[43msecond_mesh\u001B[49m\u001B[38;5;241;43m=\u001B[39;49m\u001B[38;5;241;43m1\u001B[39;49m\u001B[43m)\u001B[49m\n\u001B[0;32m     20\u001B[0m \u001B[38;5;66;03m# Get resulting intersection mesh\u001B[39;00m\n\u001B[0;32m     21\u001B[0m intersection_mesh \u001B[38;5;241m=\u001B[39m ms\u001B[38;5;241m.\u001B[39mcurrent_mesh()\n",
      "File \u001B[1;32m~\\miniconda3\\envs\\apr\\lib\\site-packages\\pymeshlab\\__init__.py:41\u001B[0m, in \u001B[0;36mbind_function.<locals>.filter_function\u001B[1;34m(self, **kwargs)\u001B[0m\n\u001B[0;32m     40\u001B[0m \u001B[38;5;28;01mdef\u001B[39;00m \u001B[38;5;21mfilter_function\u001B[39m(\u001B[38;5;28mself\u001B[39m, \u001B[38;5;241m*\u001B[39m\u001B[38;5;241m*\u001B[39mkwargs):  \u001B[38;5;66;03m# Have to add self since this will become a method\u001B[39;00m\n\u001B[1;32m---> 41\u001B[0m     res_dict \u001B[38;5;241m=\u001B[39m \u001B[38;5;28mself\u001B[39m\u001B[38;5;241m.\u001B[39mapply_filter(name, \u001B[38;5;241m*\u001B[39m\u001B[38;5;241m*\u001B[39mkwargs)\n\u001B[0;32m     42\u001B[0m     \u001B[38;5;28;01mif\u001B[39;00m \u001B[38;5;28mbool\u001B[39m(res_dict):  \u001B[38;5;66;03m# return the dictionary only if it is not empty\u001B[39;00m\n\u001B[0;32m     43\u001B[0m         \u001B[38;5;28;01mreturn\u001B[39;00m res_dict\n",
      "\u001B[1;31mPyMeshLabException\u001B[0m: Failed to apply filter: generate_boolean_intersection\nDetails: Error while creating mesh: Vertex matrix is empty."
     ]
    }
   ],
   "source": [
    "\"\"\"Compute intersection between two convex hulls\"\"\"\n",
    "# Create MeshSet for both hulls\n",
    "ms = pymeshlab.MeshSet()\n",
    "\n",
    "# Add first hul    \"\"\"Compute intersection between two convex hulls\"\"\"\n",
    "# Create MeshSet for both hulls\n",
    "ms = pymeshlab.MeshSet()\n",
    "\n",
    "# Add first hull\n",
    "ms.add_mesh(pymeshlab.Mesh(vertex_matrix=hull1_points))\n",
    "#orient_mesh_properly(ms)\n",
    "\n",
    "# Add second hull\n",
    "ms.add_mesh(pymeshlab.Mesh(vertex_matrix=hull2_points))\n",
    "#orient_mesh_properly(ms)\n",
    "\n",
    "# Compute boolean intersection\n",
    "ms.generate_boolean_intersection(first_mesh=0, second_mesh=1)\n",
    "\n",
    "# Get resulting intersection mesh\n",
    "intersection_mesh = ms.current_mesh()\n"
   ],
   "metadata": {
    "collapsed": false
   }
  },
  {
   "cell_type": "code",
   "execution_count": 44,
   "outputs": [
    {
     "ename": "TypeError",
     "evalue": "cannot unpack non-iterable ConvexHull object",
     "output_type": "error",
     "traceback": [
      "\u001B[1;31m---------------------------------------------------------------------------\u001B[0m",
      "\u001B[1;31mTypeError\u001B[0m                                 Traceback (most recent call last)",
      "Cell \u001B[1;32mIn[44], line 1\u001B[0m\n\u001B[1;32m----> 1\u001B[0m h, l \u001B[38;5;241m=\u001B[39m hull1_faces\n",
      "\u001B[1;31mTypeError\u001B[0m: cannot unpack non-iterable ConvexHull object"
     ]
    }
   ],
   "source": [
    "h, l = hull1_faces"
   ],
   "metadata": {
    "collapsed": false
   }
  },
  {
   "cell_type": "code",
   "execution_count": 47,
   "outputs": [
    {
     "name": "stdout",
     "output_type": "stream",
     "text": [
      "Convex hulls do not overlap\n"
     ]
    }
   ],
   "source": [
    "import numpy as np\n",
    "from scipy.spatial import ConvexHull\n",
    "\n",
    "def check_hull_overlap(hull1_points, hull2_points):\n",
    "    \"\"\"\n",
    "    Check if two convex hulls overlap by checking if any point from one hull\n",
    "    is inside the other hull.\n",
    "\n",
    "    Returns:\n",
    "        bool: True if hulls overlap, False otherwise\n",
    "    \"\"\"\n",
    "    def point_in_hull(point, hull_points):\n",
    "        \"\"\"Check if point is inside convex hull\"\"\"\n",
    "        hull = ConvexHull(hull_points)\n",
    "        new_points = np.vstack((hull_points, point))\n",
    "        new_hull = ConvexHull(new_points)\n",
    "        return len(hull.vertices) == len(new_hull.vertices)\n",
    "\n",
    "    # Check if any point from hull1 is inside hull2\n",
    "    for point in hull1_points:\n",
    "        if point_in_hull(point, hull2_points):\n",
    "            return True\n",
    "\n",
    "    # Check if any point from hull2 is inside hull1\n",
    "    for point in hull2_points:\n",
    "        if point_in_hull(point, hull1_points):\n",
    "            return True\n",
    "\n",
    "    return False\n",
    "\n",
    "# Example usage:\n",
    "points1, hull1 = hulls[agglo_1]\n",
    "points2, hull2 = hulls[agglo_3]\n",
    "\n",
    "if check_hull_overlap(points1, points2):\n",
    "    print(\"Convex hulls overlap!\")\n",
    "else:\n",
    "    print(\"Convex hulls do not overlap\")"
   ],
   "metadata": {
    "collapsed": false
   }
  },
  {
   "cell_type": "code",
   "execution_count": 48,
   "outputs": [
    {
     "name": "stdout",
     "output_type": "stream",
     "text": [
      "Found overlapping convex hulls:\n",
      "Agglomeration 23602233 overlaps with 66090332\n",
      "Agglomeration 23602233 overlaps with 66120761\n",
      "Agglomeration 23602233 overlaps with 66892606\n",
      "Agglomeration 23602233 overlaps with 67016249\n",
      "Agglomeration 23602233 overlaps with 67016897\n",
      "Agglomeration 23602233 overlaps with 67017133\n",
      "Agglomeration 23602233 overlaps with 72815935\n",
      "Agglomeration 66090332 overlaps with 66120761\n",
      "Agglomeration 66090332 overlaps with 66892606\n",
      "Agglomeration 66090332 overlaps with 67016249\n",
      "Agglomeration 66090332 overlaps with 67016897\n",
      "Agglomeration 66090332 overlaps with 67017133\n",
      "Agglomeration 66090332 overlaps with 72815935\n",
      "Agglomeration 66120761 overlaps with 66892606\n",
      "Agglomeration 66120761 overlaps with 67016249\n",
      "Agglomeration 66120761 overlaps with 67016897\n",
      "Agglomeration 66120761 overlaps with 67017133\n",
      "Agglomeration 66120761 overlaps with 72815935\n",
      "Agglomeration 66892606 overlaps with 67016249\n",
      "Agglomeration 66892606 overlaps with 67016897\n",
      "Agglomeration 66892606 overlaps with 67017133\n",
      "Agglomeration 66892606 overlaps with 72815935\n",
      "Agglomeration 67016249 overlaps with 67016897\n",
      "Agglomeration 67016249 overlaps with 67017133\n",
      "Agglomeration 67016249 overlaps with 72815935\n",
      "Agglomeration 67016897 overlaps with 67017133\n"
     ]
    }
   ],
   "source": [
    "def analyze_hull_intersections(hulls_dict):\n",
    "    \"\"\"\n",
    "    Analyze all pairwise intersections between convex hulls\n",
    "\n",
    "    Args:\n",
    "        hulls_dict: Dictionary of (points, hull) tuples keyed by agglo_id\n",
    "    \"\"\"\n",
    "    intersections = []\n",
    "\n",
    "    # Get all pairs of hulls\n",
    "    agglo_ids = list(hulls_dict.keys())\n",
    "    for i, id1 in enumerate(agglo_ids):\n",
    "        for id2 in agglo_ids[i+1:]:\n",
    "            points1, _ = hulls_dict[id1]\n",
    "            points2, _ = hulls_dict[id2]\n",
    "\n",
    "            if check_hull_overlap(points1, points2):\n",
    "                intersections.append((id1, id2))\n",
    "\n",
    "    return intersections\n",
    "\n",
    "# Analyze all intersections\n",
    "intersecting_pairs = analyze_hull_intersections(hulls)\n",
    "\n",
    "# Print results\n",
    "if intersecting_pairs:\n",
    "    print(\"Found overlapping convex hulls:\")\n",
    "    for id1, id2 in intersecting_pairs:\n",
    "        print(f\"Agglomeration {id1} overlaps with {id2}\")\n",
    "else:\n",
    "    print(\"No overlapping convex hulls found\")"
   ],
   "metadata": {
    "collapsed": false
   }
  },
  {
   "cell_type": "code",
   "execution_count": 49,
   "outputs": [
    {
     "data": {
      "text/plain": "<Figure size 800x600 with 2 Axes>",
      "image/png": "[encoded data removed]"
     },
     "metadata": {},
     "output_type": "display_data"
    }
   ],
   "source": [
    "import matplotlib.pyplot as plt\n",
    "import seaborn as sns\n",
    "import numpy as np\n",
    "\n",
    "# Create the intersection matrix\n",
    "def create_intersection_matrix(hulls):\n",
    "    agglo_ids = list(hulls.keys())\n",
    "    num_hulls = len(agglo_ids)\n",
    "    intersection_counts = np.zeros((num_hulls, num_hulls), dtype=int)\n",
    "\n",
    "    def point_in_hull(point, hull_points):\n",
    "        \"\"\"Check if point is inside convex hull\"\"\"\n",
    "        hull = ConvexHull(hull_points)\n",
    "        new_points = np.vstack((hull_points, point))\n",
    "        new_hull = ConvexHull(new_points)\n",
    "        return len(hull.vertices) == len(new_hull.vertices)\n",
    "\n",
    "    # Calculate intersections\n",
    "    for i in range(num_hulls):\n",
    "        for j in range(num_hulls):\n",
    "            if i != j:\n",
    "                points1, _ = hulls[agglo_ids[i]]\n",
    "                points2, _ = hulls[agglo_ids[j]]\n",
    "                # Count points from hull1 that are inside hull2\n",
    "                count = sum(1 for point in points1 if point_in_hull(point, points2))\n",
    "                intersection_counts[i, j] = count\n",
    "\n",
    "    return intersection_counts, agglo_ids\n",
    "\n",
    "# Calculate intersection matrix\n",
    "intersection_counts, agglo_ids = create_intersection_matrix(hulls)\n",
    "\n",
    "# Create heatmap\n",
    "plt.figure(figsize=(8, 6))\n",
    "sns.heatmap(intersection_counts,\n",
    "            annot=True,            # Show numbers in cells\n",
    "            fmt=\"d\",               # Format numbers as integers\n",
    "            cmap=\"YlGnBu\",        # Color scheme from light yellow to green to blue\n",
    "            xticklabels=agglo_ids,\n",
    "            yticklabels=agglo_ids,\n",
    "            square=True)          # Make cells square\n",
    "\n",
    "plt.title('Intersection Count Matrix of Convex Hulls')\n",
    "plt.xlabel('Agglomeration ID')\n",
    "plt.ylabel('Agglomeration ID')\n",
    "plt.tight_layout()\n",
    "plt.show()"
   ],
   "metadata": {
    "collapsed": false
   }
  },
  {
   "cell_type": "code",
   "execution_count": 36,
   "outputs": [
    {
     "ename": "PyMeshLabException",
     "evalue": "Failed to apply filter: laplacian_smooth\nFilter does not exists. Take a look at MeshSet.print_filter_list function.",
     "output_type": "error",
     "traceback": [
      "\u001B[1;31m---------------------------------------------------------------------------\u001B[0m",
      "\u001B[1;31mPyMeshLabException\u001B[0m                        Traceback (most recent call last)",
      "Cell \u001B[1;32mIn[36], line 11\u001B[0m\n\u001B[0;32m      8\u001B[0m ms\u001B[38;5;241m.\u001B[39mgenerate_surface_reconstruction_ball_pivoting()\n\u001B[0;32m     10\u001B[0m \u001B[38;5;66;03m# Optional: Apply smoothing\u001B[39;00m\n\u001B[1;32m---> 11\u001B[0m \u001B[43mms\u001B[49m\u001B[38;5;241;43m.\u001B[39;49m\u001B[43mapply_filter\u001B[49m\u001B[43m(\u001B[49m\u001B[38;5;124;43m'\u001B[39;49m\u001B[38;5;124;43mlaplacian_smooth\u001B[39;49m\u001B[38;5;124;43m'\u001B[39;49m\u001B[43m,\u001B[49m\u001B[43m \u001B[49m\u001B[43mstepsmoothnum\u001B[49m\u001B[38;5;241;43m=\u001B[39;49m\u001B[38;5;241;43m2\u001B[39;49m\u001B[43m)\u001B[49m\n\u001B[0;32m     13\u001B[0m \u001B[38;5;66;03m# Get the resulting mesh\u001B[39;00m\n\u001B[0;32m     14\u001B[0m mesh \u001B[38;5;241m=\u001B[39m ms\u001B[38;5;241m.\u001B[39mcurrent_mesh()\n",
      "\u001B[1;31mPyMeshLabException\u001B[0m: Failed to apply filter: laplacian_smooth\nFilter does not exists. Take a look at MeshSet.print_filter_list function."
     ]
    }
   ],
   "source": [
    "def check_hull_overlap(hull1_points, hull2_points):\n",
    "    \"\"\"\n",
    "    Optimized overlap check with early exit\n",
    "    \"\"\"\n",
    "    # First check bounding boxes for quick rejection\n",
    "    min1 = np.min(hull1_points, axis=0)\n",
    "    max1 = np.max(hull1_points, axis=0)\n",
    "    min2 = np.min(hull2_points, axis=0)\n",
    "    max2 = np.max(hull2_points, axis=0)\n",
    "\n",
    "    # Quick rejection test\n",
    "    if (max1[0] < min2[0] or min1[0] > max2[0] or\n",
    "            max1[1] < min2[1] or min1[1] > max2[1] or\n",
    "            max1[2] < min2[2] or min1[2] > max2[2]):\n",
    "        return False, 0\n",
    "\n",
    "    # Only check a subset of points for faster testing\n",
    "    step = max(1, len(hull1_points) // 10)  # Check ~10% of points\n",
    "    count = 0\n",
    "\n",
    "    for point in hull1_points[::step]:\n",
    "        if point_in_hull(point, hull2_points):\n",
    "            count += 1\n",
    "            if count > 0:  # Early exit once we find any intersection\n",
    "                return True, count\n",
    "\n",
    "    return False, count"
   ],
   "metadata": {
    "collapsed": false
   }
  },
  {
   "cell_type": "code",
   "execution_count": 53,
   "outputs": [
    {
     "ename": "PyMeshLabException",
     "evalue": "Failed to apply filter: generate_surface_reconstruction_screened_poisson\nDetails: Filter requires correct per vertex normals.<br>E.g. it is necessary that your <b>ALL</b> the input vertices have a proper, not-null normal.<br> Try enabling the <i>pre-clean<i> option and retry.<br><br>To permanently remove this problem:<br>If you encounter this error on a triangulated mesh try to use the <i>Remove Unreferenced Vertices</i> filterIf you encounter this error on a pointcloud try to use the <i>Conditional Vertex Selection</i> filterwith function '(nx==0.0) && (ny==0.0) && (nz==0.0)', and then <i>delete selected vertices</i>.<br>",
     "output_type": "error",
     "traceback": [
      "\u001B[1;31m---------------------------------------------------------------------------\u001B[0m",
      "\u001B[1;31mPyMeshLabException\u001B[0m                        Traceback (most recent call last)",
      "Cell \u001B[1;32mIn[53], line 9\u001B[0m\n\u001B[0;32m      5\u001B[0m ms\u001B[38;5;241m.\u001B[39mcompute_normal_for_point_clouds(k\u001B[38;5;241m=\u001B[39m\u001B[38;5;241m20\u001B[39m,  \u001B[38;5;66;03m# increase number of neighbors\u001B[39;00m\n\u001B[0;32m      6\u001B[0m smoothiter\u001B[38;5;241m=\u001B[39m\u001B[38;5;241m2\u001B[39m)\n\u001B[0;32m      8\u001B[0m \u001B[38;5;66;03m# Apply Poisson reconstruction with parameters for watertight mesh\u001B[39;00m\n\u001B[1;32m----> 9\u001B[0m \u001B[43mms\u001B[49m\u001B[38;5;241;43m.\u001B[39;49m\u001B[43mgenerate_surface_reconstruction_screened_poisson\u001B[49m\u001B[43m(\u001B[49m\n\u001B[0;32m     10\u001B[0m \u001B[43m    \u001B[49m\u001B[43mdepth\u001B[49m\u001B[38;5;241;43m=\u001B[39;49m\u001B[38;5;241;43m10\u001B[39;49m\u001B[43m,\u001B[49m\u001B[43m  \u001B[49m\u001B[38;5;66;43;03m# increase depth for more detail\u001B[39;49;00m\n\u001B[0;32m     11\u001B[0m \u001B[43m    \u001B[49m\u001B[43mpointweight\u001B[49m\u001B[38;5;241;43m=\u001B[39;49m\u001B[38;5;241;43m4\u001B[39;49m\u001B[43m,\u001B[49m\u001B[43m  \u001B[49m\u001B[38;5;66;43;03m# increase point weight for better surface adherence\u001B[39;49;00m\n\u001B[0;32m     12\u001B[0m \u001B[43m    \u001B[49m\u001B[43mfulldepth\u001B[49m\u001B[38;5;241;43m=\u001B[39;49m\u001B[38;5;241;43m5\u001B[39;49m\u001B[43m,\u001B[49m\n\u001B[0;32m     13\u001B[0m \u001B[43m    \u001B[49m\u001B[43mscale\u001B[49m\u001B[38;5;241;43m=\u001B[39;49m\u001B[38;5;241;43m1.1\u001B[39;49m\u001B[43m,\u001B[49m\n\u001B[0;32m     14\u001B[0m \u001B[43m    \u001B[49m\u001B[43msamplespernode\u001B[49m\u001B[38;5;241;43m=\u001B[39;49m\u001B[38;5;241;43m1.5\u001B[39;49m\u001B[43m,\u001B[49m\n\u001B[0;32m     15\u001B[0m \u001B[43m    \u001B[49m\u001B[43mconfidence\u001B[49m\u001B[38;5;241;43m=\u001B[39;49m\u001B[38;5;28;43;01mTrue\u001B[39;49;00m\u001B[43m,\u001B[49m\n\u001B[0;32m     16\u001B[0m \u001B[43m    \u001B[49m\u001B[43mpreclean\u001B[49m\u001B[38;5;241;43m=\u001B[39;49m\u001B[38;5;28;43;01mTrue\u001B[39;49;00m\n\u001B[0;32m     17\u001B[0m \u001B[43m)\u001B[49m\n\u001B[0;32m     19\u001B[0m \u001B[38;5;66;03m# Clean up the resulting mesh\u001B[39;00m\n\u001B[0;32m     20\u001B[0m ms\u001B[38;5;241m.\u001B[39mmeshing_remove_duplicate_vertices()\n",
      "File \u001B[1;32m~\\miniconda3\\envs\\apr\\lib\\site-packages\\pymeshlab\\__init__.py:41\u001B[0m, in \u001B[0;36mbind_function.<locals>.filter_function\u001B[1;34m(self, **kwargs)\u001B[0m\n\u001B[0;32m     40\u001B[0m \u001B[38;5;28;01mdef\u001B[39;00m \u001B[38;5;21mfilter_function\u001B[39m(\u001B[38;5;28mself\u001B[39m, \u001B[38;5;241m*\u001B[39m\u001B[38;5;241m*\u001B[39mkwargs):  \u001B[38;5;66;03m# Have to add self since this will become a method\u001B[39;00m\n\u001B[1;32m---> 41\u001B[0m     res_dict \u001B[38;5;241m=\u001B[39m \u001B[38;5;28mself\u001B[39m\u001B[38;5;241m.\u001B[39mapply_filter(name, \u001B[38;5;241m*\u001B[39m\u001B[38;5;241m*\u001B[39mkwargs)\n\u001B[0;32m     42\u001B[0m     \u001B[38;5;28;01mif\u001B[39;00m \u001B[38;5;28mbool\u001B[39m(res_dict):  \u001B[38;5;66;03m# return the dictionary only if it is not empty\u001B[39;00m\n\u001B[0;32m     43\u001B[0m         \u001B[38;5;28;01mreturn\u001B[39;00m res_dict\n",
      "\u001B[1;31mPyMeshLabException\u001B[0m: Failed to apply filter: generate_surface_reconstruction_screened_poisson\nDetails: Filter requires correct per vertex normals.<br>E.g. it is necessary that your <b>ALL</b> the input vertices have a proper, not-null normal.<br> Try enabling the <i>pre-clean<i> option and retry.<br><br>To permanently remove this problem:<br>If you encounter this error on a triangulated mesh try to use the <i>Remove Unreferenced Vertices</i> filterIf you encounter this error on a pointcloud try to use the <i>Conditional Vertex Selection</i> filterwith function '(nx==0.0) && (ny==0.0) && (nz==0.0)', and then <i>delete selected vertices</i>.<br>"
     ]
    }
   ],
   "source": [
    "ms = pymeshlab.MeshSet()\n",
    "# Add points as mesh\n",
    "ms.add_mesh(pymeshlab.Mesh(vertex_matrix=points))\n",
    "# First, compute normals for the point cloud\n",
    "ms.compute_normal_for_point_clouds(k=20,  # increase number of neighbors\n",
    "smoothiter=2)\n",
    "\n",
    "# Apply Poisson reconstruction with parameters for watertight mesh\n",
    "ms.generate_surface_reconstruction_screened_poisson(\n",
    "    depth=10,  # increase depth for more detail\n",
    "    pointweight=4,  # increase point weight for better surface adherence\n",
    "    fulldepth=5,\n",
    "    scale=1.1,\n",
    "    samplespernode=1.5,\n",
    "    confidence=True,\n",
    "    preclean=True\n",
    ")\n",
    "\n",
    "# Clean up the resulting mesh\n",
    "ms.meshing_remove_duplicate_vertices()\n",
    "ms.meshing_remove_duplicate_faces()\n",
    "ms.meshing_remove_unreferenced_vertices()\n",
    "\n",
    "# Get the resulting mesh\n",
    "mesh = ms.current_mesh()\n",
    "vertices = mesh.vertex_matrix()\n",
    "faces = mesh.face_matrix()\n",
    "\n",
    "viewer.add_surface((vertices,faces))"
   ],
   "metadata": {
    "collapsed": false
   }
  },
  {
   "cell_type": "code",
   "execution_count": null,
   "outputs": [],
   "source": [
    "import pymeshlab\n",
    "import numpy as np\n",
    "\n",
    "# Create a MeshSet object\n",
    "ms = pymeshlab.MeshSet()\n",
    "\n",
    "# Add points as mesh\n",
    "ms.add_mesh(pymeshlab.Mesh(vertex_matrix=points))\n",
    "\n",
    "# 1. Initial cleaning\n",
    "ms.meshing_remove_duplicate_vertices()\n",
    "ms.meshing_remove_unreferenced_vertices()\n",
    "\n",
    "# 2. Compute normals with specific orientation\n",
    "ms.compute_normal_for_point_clouds(\n",
    "    k=50,  # increased neighbors for better normal estimation\n",
    "    smoothiter=5,\n",
    "    viewpos=[0, 0, 100],  # adjust based on your point cloud orientation\n",
    "    flipflag=False\n",
    ")\n",
    "\n",
    "# 3. Explicitly remove points with invalid normals\n",
    "ms.compute_selection_by_condition_per_vertex(\n",
    "    condselect=\"(nx*nx + ny*ny + nz*nz) < 0.1\"\n",
    ")\n",
    "ms.meshing_remove_selected_vertices()\n",
    "\n",
    "# 4. Try Alpha Shape reconstruction instead of Poisson\n",
    "ms.create_surface_reconstruction_alpha_wrap(\n",
    "    threshold=pymeshlab.Percentage(5.0),\n",
    "    allowsubvolumes=True\n",
    ")\n",
    "\n",
    "# 5. Post-processing\n",
    "ms.meshing_repair_non_manifold_edges()\n",
    "ms.meshing_close_holes(\n",
    "    maxholesize=50,\n",
    "    selfintersection=True\n",
    ")\n",
    "\n",
    "# 6. Optional smoothing\n",
    "ms.apply_filter('apply_coord_taubin_smoothing',\n",
    "                lambda_=0.3,\n",
    "                mu=-0.32,\n",
    "                stepsmoothnum=5)\n",
    "\n",
    "# Get the resulting mesh\n",
    "mesh = ms.current_mesh()\n",
    "vertices = mesh.vertex_matrix()\n",
    "faces = mesh.face_matrix()\n",
    "\n",
    "# Visualize in napari\n",
    "import napari\n",
    "viewer = napari.Viewer()\n",
    "\n",
    "# Show original points\n",
    "viewer.add_points(\n",
    "    points,\n",
    "    size=5,\n",
    "    name='Original Points',\n",
    "    face_color='white'\n",
    ")\n",
    "\n",
    "# Show reconstructed surface\n",
    "viewer.add_surface(\n",
    "    (vertices, faces),\n",
    "    name='Reconstructed Surface',\n",
    "    colormap='bop orange',\n",
    "    opacity=0.7\n",
    ")"
   ],
   "metadata": {
    "collapsed": false,
    "pycharm": {
     "is_executing": true
    }
   }
  },
  {
   "cell_type": "code",
   "execution_count": null,
   "outputs": [],
   "source": [],
   "metadata": {
    "collapsed": false
   }
  },
  {
   "cell_type": "code",
   "execution_count": 24,
   "outputs": [],
   "source": [
    "import pymeshlab\n",
    "import numpy as np\n",
    "\n",
    "def is_point_inside_hull(point, vertices, faces):\n",
    "    \"\"\"Check if point is inside hull using signed distance\"\"\"\n",
    "    def unit_normal(face):\n",
    "        v1 = vertices[face[1]] - vertices[face[0]]\n",
    "        v2 = vertices[face[2]] - vertices[face[0]]\n",
    "        normal = np.cross(v1, v2)\n",
    "        return normal / np.linalg.norm(normal)\n",
    "\n",
    "    def signed_distance(point, face_vertex, normal):\n",
    "        return np.dot(normal, (point - face_vertex))\n",
    "\n",
    "    # Check if point is inside all faces\n",
    "    for face in faces:\n",
    "        normal = unit_normal(face)\n",
    "        dist = signed_distance(point, vertices[face[0]], normal)\n",
    "        if dist > 1e-10:  # Small epsilon for numerical stability\n",
    "            return False\n",
    "    return True\n",
    "\n",
    "def orient_mesh_properly(ms):\n",
    "    \"\"\"Orient mesh faces properly\"\"\"\n",
    "    # First repair any non-manifold edges\n",
    "    ms.apply_filter('meshing_repair_non_manifold_edges')\n",
    "    ms.apply_filter('meshing_re_orient_faces_coherently')\n",
    "\n",
    "    # Get current mesh data\n",
    "    mesh = ms.current_mesh()\n",
    "    vertices = mesh.vertex_matrix()\n",
    "    faces = mesh.face_matrix()\n",
    "\n",
    "    # Check orientation using first face\n",
    "    face = faces[0]\n",
    "    v1 = vertices[face[1]] - vertices[face[0]]\n",
    "    v2 = vertices[face[2]] - vertices[face[0]]\n",
    "    normal = np.cross(v1, v2)\n",
    "    normal = normal / np.linalg.norm(normal)\n",
    "\n",
    "    # Test point slightly offset from face center\n",
    "    face_center = vertices[face].mean(axis=0)\n",
    "    test_point = face_center + normal * 1e-4\n",
    "\n",
    "    # If test point is outside, invert orientation\n",
    "    if not is_point_inside_hull(test_point, vertices, faces):\n",
    "        ms.apply_filter('meshing_invert_face_orientation')"
   ],
   "metadata": {
    "collapsed": false
   }
  },
  {
   "cell_type": "code",
   "execution_count": 25,
   "outputs": [],
   "source": [
    "def compute_hull_intersection(hull1_points, hull1_faces, hull2_points, hull2_faces):\n",
    "    \"\"\"Compute intersection between two convex hulls\"\"\"\n",
    "    # Create MeshSet for both hulls\n",
    "    ms = pymeshlab.MeshSet()\n",
    "\n",
    "    # Add first hull\n",
    "    ms.add_mesh(pymeshlab.Mesh(vertex_matrix=hull1_points, face_matrix=hull1_faces))\n",
    "    orient_mesh_properly(ms)\n",
    "\n",
    "    # Add second hull\n",
    "    ms.add_mesh(pymeshlab.Mesh(vertex_matrix=hull2_points, face_matrix=hull2_faces))\n",
    "    orient_mesh_properly(ms)\n",
    "\n",
    "    # Compute boolean intersection\n",
    "    ms.generate_boolean_intersection(first=0, second=1)\n",
    "\n",
    "    # Get resulting intersection mesh\n",
    "    intersection_mesh = ms.current_mesh()\n",
    "    return intersection_mesh.vertex_matrix(), intersection_mesh.face_matrix()"
   ],
   "metadata": {
    "collapsed": false
   }
  },
  {
   "cell_type": "code",
   "execution_count": null,
   "outputs": [],
   "source": [
    "import pyvista as pv\n",
    "\n",
    "# Load or create meshes\n",
    "mesh1 = pv.Sphere()\n",
    "mesh2 = pv.Sphere()\n",
    "\n",
    "# Compute intersection\n",
    "intersection, mesh1_split, mesh2_split = mesh1.intersection(mesh2,\n",
    "                                                            split_first=True,\n",
    "                                                            split_second=True)"
   ],
   "metadata": {
    "collapsed": false,
    "pycharm": {
     "is_executing": true
    }
   }
  },
  {
   "cell_type": "code",
   "execution_count": 26,
   "outputs": [
    {
     "name": "stdout",
     "output_type": "stream",
     "text": [
      "Failed to compute intersection between 23602233 and 66090332: Parameter first not found for filter generate_boolean_intersection. Please check the documentation.\n",
      "Failed to compute intersection between 23602233 and 66120761: Parameter first not found for filter generate_boolean_intersection. Please check the documentation.\n",
      "Failed to compute intersection between 23602233 and 66892606: Parameter first not found for filter generate_boolean_intersection. Please check the documentation.\n",
      "Failed to compute intersection between 23602233 and 67016249: Parameter first not found for filter generate_boolean_intersection. Please check the documentation.\n",
      "Failed to compute intersection between 23602233 and 67016897: Parameter first not found for filter generate_boolean_intersection. Please check the documentation.\n",
      "Failed to compute intersection between 23602233 and 67017133: Parameter first not found for filter generate_boolean_intersection. Please check the documentation.\n",
      "Failed to compute intersection between 23602233 and 72815935: Parameter first not found for filter generate_boolean_intersection. Please check the documentation.\n",
      "Failed to compute intersection between 66090332 and 66120761: Parameter first not found for filter generate_boolean_intersection. Please check the documentation.\n",
      "Failed to compute intersection between 66090332 and 66892606: Parameter first not found for filter generate_boolean_intersection. Please check the documentation.\n",
      "Failed to compute intersection between 66090332 and 67016249: Parameter first not found for filter generate_boolean_intersection. Please check the documentation.\n",
      "Failed to compute intersection between 66090332 and 67016897: Parameter first not found for filter generate_boolean_intersection. Please check the documentation.\n",
      "Failed to compute intersection between 66090332 and 67017133: Parameter first not found for filter generate_boolean_intersection. Please check the documentation.\n",
      "Failed to compute intersection between 66090332 and 72815935: Parameter first not found for filter generate_boolean_intersection. Please check the documentation.\n",
      "Failed to compute intersection between 66120761 and 66892606: Parameter first not found for filter generate_boolean_intersection. Please check the documentation.\n",
      "Failed to compute intersection between 66120761 and 67016249: Parameter first not found for filter generate_boolean_intersection. Please check the documentation.\n",
      "Failed to compute intersection between 66120761 and 67016897: Parameter first not found for filter generate_boolean_intersection. Please check the documentation.\n",
      "Failed to compute intersection between 66120761 and 67017133: Parameter first not found for filter generate_boolean_intersection. Please check the documentation.\n",
      "Failed to compute intersection between 66120761 and 72815935: Parameter first not found for filter generate_boolean_intersection. Please check the documentation.\n",
      "Failed to compute intersection between 66892606 and 67016249: Parameter first not found for filter generate_boolean_intersection. Please check the documentation.\n",
      "Failed to compute intersection between 66892606 and 67016897: Parameter first not found for filter generate_boolean_intersection. Please check the documentation.\n",
      "Failed to compute intersection between 66892606 and 67017133: Parameter first not found for filter generate_boolean_intersection. Please check the documentation.\n",
      "Failed to compute intersection between 66892606 and 72815935: Parameter first not found for filter generate_boolean_intersection. Please check the documentation.\n",
      "Failed to compute intersection between 67016249 and 67016897: Parameter first not found for filter generate_boolean_intersection. Please check the documentation.\n",
      "Failed to compute intersection between 67016249 and 67017133: Parameter first not found for filter generate_boolean_intersection. Please check the documentation.\n",
      "Failed to compute intersection between 67016249 and 72815935: Parameter first not found for filter generate_boolean_intersection. Please check the documentation.\n",
      "Failed to compute intersection between 67016897 and 67017133: Parameter first not found for filter generate_boolean_intersection. Please check the documentation.\n",
      "Failed to compute intersection between 67016897 and 72815935: Parameter first not found for filter generate_boolean_intersection. Please check the documentation.\n",
      "Failed to compute intersection between 67017133 and 72815935: Parameter first not found for filter generate_boolean_intersection. Please check the documentation.\n"
     ]
    }
   ],
   "source": [
    "\n",
    "# Use the function with your hulls\n",
    "for agglo_id1, (points1, hull1) in hulls.items():\n",
    "    for agglo_id2, (points2, hull2) in hulls.items():\n",
    "        if agglo_id1 < agglo_id2:  # Avoid duplicate comparisons\n",
    "            try:\n",
    "                # Compute intersection\n",
    "                int_vertices, int_faces = compute_hull_intersection(\n",
    "                    points1, hull1.simplices,\n",
    "                    points2, hull2.simplices\n",
    "                )\n",
    "\n",
    "                # Visualize in napari if intersection exists\n",
    "                if len(int_vertices) > 0:\n",
    "                    viewer.add_surface(\n",
    "                        (int_vertices, int_faces),\n",
    "                        name=f'intersection_{agglo_id1}_{agglo_id2}',\n",
    "                        colormap='yellow',\n",
    "                        opacity=0.7\n",
    "                    )\n",
    "            except Exception as e:\n",
    "                print(f\"Failed to compute intersection between {agglo_id1} and {agglo_id2}: {e}\")"
   ],
   "metadata": {
    "collapsed": false
   }
  },
  {
   "cell_type": "code",
   "execution_count": 50,
   "outputs": [
    {
     "data": {
      "text/plain": "<Surface layer 'Surface [6]' at 0x1ce94341c70>"
     },
     "execution_count": 50,
     "metadata": {},
     "output_type": "execute_result"
    }
   ],
   "source": [
    "\n"
   ],
   "metadata": {
    "collapsed": false
   }
  },
  {
   "cell_type": "code",
   "execution_count": 41,
   "outputs": [
    {
     "data": {
      "text/plain": "<Surface layer 'Surface' at 0x1ce9334f850>"
     },
     "execution_count": 41,
     "metadata": {},
     "output_type": "execute_result"
    }
   ],
   "source": [
    "viewer = napari.Viewer()\n",
    "viewer.add_points(points)\n",
    "viewer.add_surface((vertices,faces))"
   ],
   "metadata": {
    "collapsed": false
   }
  },
  {
   "cell_type": "code",
   "execution_count": 41,
   "outputs": [
    {
     "data": {
      "text/plain": "<Points layer 'points' at 0x2b39f9315e0>"
     },
     "execution_count": 41,
     "metadata": {},
     "output_type": "execute_result"
    }
   ],
   "source": [
    "points, hull = hulls[first_agglo_id]\n",
    "viewer = napari.Viewer()\n",
    "viewer.add_points(points)"
   ],
   "metadata": {
    "collapsed": false
   }
  },
  {
   "cell_type": "code",
   "execution_count": 116,
   "outputs": [
    {
     "name": "stderr",
     "output_type": "stream",
     "text": [
      "WARNING: QWindowsWindow::setGeometry: Unable to set geometry 853x491+3518+31 (frame: 869x530+3510+0) on QWidgetWindow/\"_QtMainWindowClassWindow\" on \"\\\\.\\DISPLAY2\". Resulting geometry: 567x653+3515+17 (frame: 583x692+3507-14) margins: 8, 31, 8, 8 minimum size: 385x492 MINMAXINFO maxSize=0,0 maxpos=0,0 mintrack=401,531 maxtrack=0,0)\n"
     ]
    }
   ],
   "source": [
    "import napari\n",
    "import numpy as np\n",
    "from skimage import measure\n",
    "from scipy.ndimage import zoom\n",
    "\n",
    "# Get points from hull\n",
    "points, hull = hulls[first_agglo_id]\n",
    "\n",
    "# Find the bounds of the volume\n",
    "max_coords = points.max(axis=0)\n",
    "min_coords = points.min(axis=0)\n",
    "\n",
    "# Create a grid with some padding but at a lower resolution\n",
    "padding = 10\n",
    "downsample_factor = 8  # Increase this value if still running into memory issues\n",
    "grid_shape = ((max_coords - min_coords + 2*padding)/downsample_factor).astype(int)\n",
    "\n",
    "# Initialize empty volume at lower resolution\n",
    "volume = np.zeros(grid_shape, dtype=bool)\n",
    "\n",
    "# Convert points to volume coordinates and scale down\n",
    "points_shifted = ((points - min_coords + padding)/downsample_factor).astype(int)\n",
    "\n",
    "# Mark points in volume\n",
    "for point in points_shifted:\n",
    "    try:\n",
    "        volume[point[0], point[1], point[2]] = True\n",
    "    except IndexError:\n",
    "        continue  # Skip points that fall outside the volume\n",
    "\n",
    "# Apply gaussian smoothing to create a more continuous surface\n",
    "from scipy.ndimage import gaussian_filter\n",
    "volume_smooth = gaussian_filter(volume.astype(float), sigma=1)\n",
    "\n",
    "# Apply marching cubes\n",
    "verts, faces, normals, values = measure.marching_cubes(volume_smooth, 0.2)\n",
    "\n",
    "# Scale vertices back up and shift to original coordinate system\n",
    "verts = verts * downsample_factor + min_coords - padding\n",
    "\n",
    "# Create viewer and add visualizations\n",
    "viewer = napari.Viewer()\n",
    "\n",
    "# Add original points\n",
    "viewer.add_points(points, size=5, name='Original Points', face_color='blue')\n",
    "\n",
    "# Add marching cubes surface\n",
    "viewer.add_surface(\n",
    "    (verts, faces),\n",
    "    name='Marching Cubes Surface',\n",
    "    colormap='red',\n",
    "    opacity=0.5,\n",
    "    shading='smooth'\n",
    ")\n",
    "\n",
    "# Center view\n",
    "viewer.camera.center = points.mean(axis=0)"
   ],
   "metadata": {
    "collapsed": false
   }
  },
  {
   "cell_type": "code",
   "execution_count": 119,
   "outputs": [
    {
     "name": "stderr",
     "output_type": "stream",
     "text": [
      "C:\\Users\\montruth\\miniconda3\\envs\\apr\\lib\\site-packages\\napari\\layers\\utils\\color_transformations.py:42: UserWarning: The provided colors parameter contained illegal values, resetting all colors values to white.\n",
      "  warnings.warn(\n",
      "C:\\Users\\montruth\\miniconda3\\envs\\apr\\lib\\site-packages\\napari\\layers\\utils\\color_transformations.py:42: UserWarning: The provided colors parameter contained illegal values, resetting all colors values to white.\n",
      "  warnings.warn(\n"
     ]
    }
   ],
   "source": [
    "import napari\n",
    "from napari_pymeshlab import (\n",
    "    convex_hull,\n",
    "    laplacian_smooth,\n",
    "    taubin_smooth,\n",
    "    simplification_clustering_decimation,\n",
    ")\n",
    "\n",
    "from skimage.measure import marching_cubes\n",
    "colormaps = ['blue', 'green', 'red', 'cyan', 'magenta','bop purple', \"bop orange\",'blue', 'green', 'red', 'cyan']\n",
    "\n",
    "# Create viewer\n",
    "viewer = napari.Viewer()\n",
    "idx = 0\n",
    "for agglo_id, (points, hull) in hulls.items():\n",
    "\n",
    "    # Add the bounding box corner points\n",
    "    points_layer = viewer.add_points(\n",
    "        points,\n",
    "        size=5,\n",
    "        name=agglo_id,\n",
    "        face_color=colormaps[idx]\n",
    "    )\n",
    "\n",
    "    # Convert points to surface format that pymeshlab can use\n",
    "    vertices = points\n",
    "    faces = hull.simplices\n",
    "\n",
    "    # Create initial surface using vertices and faces\n",
    "    surface = (vertices, faces)\n",
    "    hull_surface = convex_hull(surface)\n",
    "\n",
    "\n",
    "    # Apply smoothing to make the surface more natural\n",
    "    smoothed_surface = laplacian_smooth(surface,step_smooth_num=2)\n",
    "\n",
    "    viewer.add_surface(\n",
    "        smoothed_surface,\n",
    "        name=f'convex hull {agglo_id}',\n",
    "        colormap=colormaps[idx],\n",
    "        opacity=0.7\n",
    "    )\n",
    "\n",
    "    idx+=1"
   ],
   "metadata": {
    "collapsed": false
   }
  },
  {
   "cell_type": "code",
   "execution_count": 122,
   "outputs": [
    {
     "name": "stdout",
     "output_type": "stream",
     "text": [
      "Jupyter environment detected. Enabling Open3D WebVisualizer.\n",
      "[Open3D INFO] WebRTC GUI backend enabled.\n",
      "[Open3D INFO] WebRTCWindowSystem: HTTP handshake server disabled.\n"
     ]
    }
   ],
   "source": [
    "import open3d as o3d"
   ],
   "metadata": {
    "collapsed": false
   }
  },
  {
   "cell_type": "code",
   "execution_count": null,
   "outputs": [],
   "source": [
    "\n",
    "import numpy as np\n",
    "import pandas as pd\n",
    "\n",
    "import napari\n",
    "\n",
    "from brainmaps_api_fcn.equivalence_requests import EquivalenceRequests\n",
    "from brainmaps_api_fcn.subvolume_requests import SubvolumeRequest\n",
    "\n",
    "# Get the agglomerated ID that contains EM centroid\n",
    "def get_agglo_group_from_point(sa, volume_id, stack_change, centroid_xyz):\n",
    "    sr = SubvolumeRequest(sa, volume_id)\n",
    "    vol = sr.get_subvolume(centroid_xyz, size= [1,1,1], change_stack_id = stack_change)\n",
    "    agglo_id  = int(np.unique(vol[vol>0]))\n",
    "    print(f\"ID found: {agglo_id}\")\n",
    "\n",
    "    er = EquivalenceRequests(sa, volume_id, stack_change)\n",
    "    group = er.get_groups(agglo_id)\n",
    "    return group\n"
   ],
   "metadata": {
    "collapsed": false
   }
  },
  {
   "cell_type": "code",
   "execution_count": null,
   "outputs": [],
   "source": [
    "\n",
    "sa = r\"\\\\tungsten-nas.fmi.ch\\tungsten\\scratch\\gfriedri\\montruth\\Reconstruction\\fmi-friedrich-4dd3f21e665d.json\"\n",
    "volume_id = r\"280984173682:montano_rm2_ngff:raw_230701_seg_240316fb\"\n",
    "stack_change = \"240705d_rsg9_spl\""
   ],
   "metadata": {
    "collapsed": false
   }
  },
  {
   "cell_type": "code",
   "execution_count": null,
   "outputs": [],
   "source": [
    "#TODO: Read list/csv\n",
    "centroids_xyz = np.array([[10656, 10878, 1463], [10384, 10242, 1348], [10837, 10333, 1251], [11177, 10700, 724], [10566, 14567, 1828], [10817, 10322, 1268],\n",
    "                          [11615, 13345, 1800],[11189, 12162, 2454],[11483, 12210, 2088]])\n",
    "\n",
    "\n",
    "\n",
    "# Create dictionary of groups\n",
    "groups_dict = {}\n",
    "for point in centroids_xyz:\n",
    "    group = get_agglo_group_from_point(sa, volume_id, stack_change, point)\n",
    "    groups_dict[tuple(point)] = group"
   ],
   "metadata": {
    "collapsed": false
   }
  },
  {
   "cell_type": "code",
   "execution_count": null,
   "outputs": [],
   "source": [
    "print(groups_dict)"
   ],
   "metadata": {
    "collapsed": false
   }
  },
  {
   "cell_type": "code",
   "execution_count": null,
   "outputs": [],
   "source": [
    "# Create list to store data\n",
    "data_rows = []\n",
    "\n",
    "# Iterate through the dictionary\n",
    "for point, agglo_groups in groups_dict.items():\n",
    "    for agglo_id, segments in agglo_groups.items():\n",
    "        # Add a row for each segment in the group\n",
    "        for segment_id in segments:\n",
    "            data_rows.append({\n",
    "                'volume_id': volume_id,\n",
    "                'stack_change': stack_change,\n",
    "                'point_x': point[0],\n",
    "                'point_y': point[1],\n",
    "                'point_z': point[2],\n",
    "                'agglo_id': agglo_id,\n",
    "                'segment_id': segment_id\n",
    "            })\n",
    "\n",
    "# Create DataFrame\n",
    "df = pd.DataFrame(data_rows)\n",
    "\n",
    "# Sort the DataFrame\n",
    "df = df.sort_values(['agglo_id', 'segment_id'])\n",
    "\n",
    "# Display the first few rows\n",
    "df.head()"
   ],
   "metadata": {
    "collapsed": false
   }
  },
  {
   "cell_type": "code",
   "execution_count": null,
   "outputs": [],
   "source": [
    "df.to_csv('segment_mapping.csv', index=False)"
   ],
   "metadata": {
    "collapsed": false
   }
  },
  {
   "cell_type": "code",
   "execution_count": null,
   "outputs": [],
   "source": [
    "segment_list = df.segment_id.to_list()"
   ],
   "metadata": {
    "collapsed": false
   }
  },
  {
   "cell_type": "code",
   "execution_count": null,
   "outputs": [],
   "source": [
    "# Alternative: save as comma-separated values\n",
    "with open('segment_list.txt', 'w') as f:\n",
    "    f.write(','.join(map(str, segment_list)))"
   ],
   "metadata": {
    "collapsed": false
   }
  },
  {
   "cell_type": "code",
   "execution_count": null,
   "outputs": [],
   "source": [
    "# QUERY command: SELECT id, bbox FROM `fmi-friedrich.ruth_ob.raw_230701_seg_240316fb_objinfo` WHERE id IN(segment1, segment2,...)\n",
    "\n",
    "# saved as csv"
   ],
   "metadata": {
    "collapsed": false
   }
  },
  {
   "cell_type": "code",
   "execution_count": null,
   "outputs": [],
   "source": [
    "segment_info = pd.read_csv(\"bquxjob_338f3367_19330a661a5.csv\")\n",
    "segment_info.head()"
   ],
   "metadata": {
    "collapsed": false
   }
  },
  {
   "cell_type": "code",
   "execution_count": null,
   "outputs": [],
   "source": [
    "coords_df = segment_info.rename(columns={\n",
    "    'x': 'start_x',\n",
    "    'y': 'start_y',\n",
    "    'z': 'start_z',\n",
    "    'x_1': 'size_x',\n",
    "    'y_1': 'size_y',\n",
    "    'z_1': 'size_z'\n",
    "})"
   ],
   "metadata": {
    "collapsed": false
   }
  },
  {
   "cell_type": "code",
   "execution_count": null,
   "outputs": [],
   "source": [
    "coords_df.head()"
   ],
   "metadata": {
    "collapsed": false
   }
  },
  {
   "cell_type": "code",
   "execution_count": null,
   "outputs": [],
   "source": [
    "# Merge with your previous DataFrame based on segment ID\n",
    "df = df.merge(coords_df, left_on='segment_id', right_on='id', how='left')\n",
    "\n",
    "df.head()"
   ],
   "metadata": {
    "collapsed": false
   }
  },
  {
   "cell_type": "code",
   "execution_count": null,
   "outputs": [],
   "source": [
    "\n",
    "# Clean up by dropping the redundant 'id' column if needed\n",
    "df = df.drop('id', axis=1)\n",
    "df.head()"
   ],
   "metadata": {
    "collapsed": false
   }
  },
  {
   "cell_type": "code",
   "execution_count": null,
   "outputs": [],
   "source": [
    "\n",
    "# Sort the DataFrame\n",
    "df = df.sort_values(['agglo_id'])\n",
    "\n",
    "df.head()"
   ],
   "metadata": {
    "collapsed": false
   }
  },
  {
   "cell_type": "code",
   "execution_count": null,
   "outputs": [],
   "source": [
    "df.to_csv('segment_mapping_bbox.csv', index=False)"
   ],
   "metadata": {
    "collapsed": false
   }
  },
  {
   "cell_type": "code",
   "execution_count": null,
   "outputs": [],
   "source": [
    "# Create convex hull from bounding box\n",
    "import numpy as np\n",
    "from scipy.spatial import ConvexHull\n",
    "import pandas as pd\n",
    "import matplotlib.pyplot as plt\n",
    "\n",
    "# Create points for convex hull from bounding boxes\n",
    "def create_convex_hull(df, group_id):\n",
    "    # Get all points from bounding boxes for this group\n",
    "    group_boxes = df[df['agglo_id'] == group_id]\n",
    "\n",
    "    # Create points array from start coordinates and sizes\n",
    "    points = []\n",
    "    for _, box in group_boxes.iterrows():\n",
    "        # Add all corners of the bounding box\n",
    "        x, y, z = box['start_x'], box['start_y'], box['start_z']\n",
    "        sx, sy, sz = box['size_x'], box['size_y'], box['size_z']\n",
    "\n",
    "        # Add all 8 corners of the box\n",
    "        points.extend([\n",
    "            [x, y, z],\n",
    "            [x+sx, y, z],\n",
    "            [x, y+sy, z],\n",
    "            [x, y, z+sz],\n",
    "            [x+sx, y+sy, z],\n",
    "            [x+sx, y, z+sz],\n",
    "            [x, y+sy, z+sz],\n",
    "            [x+sx, y+sy, z+sz]\n",
    "        ])\n",
    "\n",
    "    points = np.array(points)\n",
    "    hull = ConvexHull(points)\n",
    "    return points, hull\n",
    "\n",
    "# Create convex hulls for each agglomeration ID\n",
    "hulls = {}\n",
    "for agglo_id in df['agglo_id'].unique():\n",
    "    points, hull = create_convex_hull(df, agglo_id)\n",
    "    hulls[agglo_id] = (points, hull)\n",
    "\n",
    "# Visualize one convex hull (example for first agglo_id)\n",
    "def plot_hull(points, hull):\n",
    "    fig = plt.figure()\n",
    "    ax = fig.add_subplot(111, projection='3d')\n",
    "\n",
    "    # Plot points\n",
    "    ax.scatter(points[:,0], points[:,1], points[:,2], 'ko')\n",
    "\n",
    "    # Plot hull\n",
    "    for simplex in hull.simplices:\n",
    "        ax.plot3D(points[simplex, 0], points[simplex, 1], points[simplex, 2], 'r-')\n",
    "\n",
    "    plt.show()\n",
    "\n",
    "# Plot first hull as example\n",
    "first_agglo_id = list(hulls.keys())[0]\n",
    "plot_hull(*hulls[first_agglo_id])"
   ],
   "metadata": {
    "collapsed": false
   }
  },
  {
   "cell_type": "code",
   "execution_count": null,
   "outputs": [],
   "source": [
    "points, hull = hulls[first_agglo_id]\n",
    "viewer = napari.Viewer()\n",
    "viewer.add_points(points)"
   ],
   "metadata": {
    "collapsed": false
   }
  },
  {
   "cell_type": "code",
   "execution_count": null,
   "outputs": [],
   "source": [],
   "metadata": {
    "collapsed": false
   }
  },
  {
   "cell_type": "code",
   "execution_count": 1,
   "outputs": [
    {
     "name": "stderr",
     "output_type": "stream",
     "text": [
      "WARNING: QWindowsWindow::setGeometry: Unable to set geometry 853x491+3518+38 (frame: 869x530+3510+7) on QWidgetWindow/\"_QtMainWindowClassWindow\" on \"\\\\.\\DISPLAY2\". Resulting geometry: 567x653+3515+24 (frame: 583x692+3507-7) margins: 8, 31, 8, 8 minimum size: 385x492 MINMAXINFO maxSize=0,0 maxpos=0,0 mintrack=401,531 maxtrack=0,0)\n"
     ]
    },
    {
     "ename": "NameError",
     "evalue": "name 'hulls' is not defined",
     "output_type": "error",
     "traceback": [
      "\u001B[1;31m---------------------------------------------------------------------------\u001B[0m",
      "\u001B[1;31mNameError\u001B[0m                                 Traceback (most recent call last)",
      "Cell \u001B[1;32mIn[1], line 15\u001B[0m\n\u001B[0;32m     13\u001B[0m viewer \u001B[38;5;241m=\u001B[39m napari\u001B[38;5;241m.\u001B[39mViewer()\n\u001B[0;32m     14\u001B[0m idx \u001B[38;5;241m=\u001B[39m \u001B[38;5;241m0\u001B[39m\n\u001B[1;32m---> 15\u001B[0m \u001B[38;5;28;01mfor\u001B[39;00m agglo_id, (points, hull) \u001B[38;5;129;01min\u001B[39;00m \u001B[43mhulls\u001B[49m\u001B[38;5;241m.\u001B[39mitems():\n\u001B[0;32m     16\u001B[0m \n\u001B[0;32m     17\u001B[0m     \u001B[38;5;66;03m# Add the bounding box corner points\u001B[39;00m\n\u001B[0;32m     18\u001B[0m     points_layer \u001B[38;5;241m=\u001B[39m viewer\u001B[38;5;241m.\u001B[39madd_points(\n\u001B[0;32m     19\u001B[0m         points,\n\u001B[0;32m     20\u001B[0m         size\u001B[38;5;241m=\u001B[39m\u001B[38;5;241m5\u001B[39m,\n\u001B[0;32m     21\u001B[0m         name\u001B[38;5;241m=\u001B[39magglo_id,\n\u001B[0;32m     22\u001B[0m         face_color\u001B[38;5;241m=\u001B[39mcolormaps[idx]\n\u001B[0;32m     23\u001B[0m     )\n\u001B[0;32m     25\u001B[0m     \u001B[38;5;66;03m# Convert points to surface format that pymeshlab can use\u001B[39;00m\n",
      "\u001B[1;31mNameError\u001B[0m: name 'hulls' is not defined"
     ]
    }
   ],
   "source": [
    "import napari\n",
    "from napari_pymeshlab import (\n",
    "    convex_hull,\n",
    "    laplacian_smooth,\n",
    "    taubin_smooth,\n",
    "    simplification_clustering_decimation,\n",
    ")\n",
    "\n",
    "from skimage.measure import marching_cubes\n",
    "colormaps = ['blue', 'green', 'red', 'cyan', 'magenta','bop purple', \"bop orange\",'blue', 'green', 'red', 'cyan']\n",
    "\n",
    "# Create viewer\n",
    "viewer = napari.Viewer()\n",
    "idx = 0\n",
    "for agglo_id, (points, hull) in hulls.items():\n",
    "\n",
    "    # Add the bounding box corner points\n",
    "    points_layer = viewer.add_points(\n",
    "        points,\n",
    "        size=5,\n",
    "        name=agglo_id,\n",
    "        face_color=colormaps[idx]\n",
    "    )\n",
    "\n",
    "    # Convert points to surface format that pymeshlab can use\n",
    "    vertices = points\n",
    "    faces = hull.simplices\n",
    "\n",
    "    # Create initial surface using vertices and faces\n",
    "    surface = (vertices, faces)\n",
    "    hull_surface = convex_hull(surface)\n",
    "\n",
    "\n",
    "    # Apply smoothing to make the surface more natural\n",
    "    smoothed_surface = laplacian_smooth(surface,step_smooth_num=2)\n",
    "\n",
    "    viewer.add_surface(\n",
    "        smoothed_surface,\n",
    "        name=f'convex hull {agglo_id}',\n",
    "        colormap=colormaps[idx],\n",
    "        opacity=0.7\n",
    "    )\n",
    "\n",
    "    idx+=1"
   ],
   "metadata": {
    "collapsed": false
   }
  },
  {
   "cell_type": "code",
   "execution_count": null,
   "outputs": [],
   "source": [
    "import open3d as o3d\n",
    "points, hull = hulls[first_agglo_id]\n",
    "# Create point cloud\n",
    "pcd = o3d.geometry.PointCloud()\n",
    "pcd.points = o3d.utility.Vector3dVector(points)\n",
    "# First, estimate normals\n",
    "pcd.estimate_normals(\n",
    "    search_param=o3d.geometry.KDTreeSearchParamHybrid(radius=0.1, max_nn=30)\n",
    ")\n",
    "\n",
    "# Orient normals consistently\n",
    "pcd.orient_normals_consistent_tangent_plane(100)\n",
    "\n",
    "# Calculate appropriate radii based on point cloud density\n",
    "distances = pcd.compute_nearest_neighbor_distance()\n",
    "avg_dist = np.mean(distances)\n",
    "radius = avg_dist * 10\n",
    "\n",
    "# Generate mesh using Ball-Pivoting Algorithm\n",
    "radii = [radius, radius * 2, radius * 4]\n",
    "mesh = o3d.geometry.TriangleMesh.create_from_point_cloud_ball_pivoting(\n",
    "    pcd, o3d.utility.DoubleVector(radii)\n",
    ")\n",
    "\n",
    "# Visualize in napari\n",
    "vertices = np.asarray(mesh.vertices)\n",
    "faces = np.asarray(mesh.triangles)\n",
    "values = np.ones(len(vertices))\n",
    "viewer = napari.Viewer()\n",
    "viewer.add_surface((vertices, faces))\n",
    "viewer.add_points(points)\n"
   ],
   "metadata": {
    "collapsed": false
   }
  },
  {
   "cell_type": "code",
   "execution_count": null,
   "outputs": [],
   "source": [
    "agglo_1 = 72815935\n",
    "agglo_2 = 23602233\n",
    "agglo_3 = 67016897"
   ],
   "metadata": {
    "collapsed": false
   }
  },
  {
   "cell_type": "code",
   "execution_count": null,
   "outputs": [],
   "source": [
    "# Calculate overlap\n",
    "import trimesh\n",
    "vertices, hull = hulls[agglo_1]\n",
    "# Use hull.simplices instead of hull directly\n",
    "faces = hull.simplices\n",
    "mesh = trimesh.Trimesh(vertices=vertices, faces=faces)"
   ],
   "metadata": {
    "collapsed": false
   }
  },
  {
   "cell_type": "code",
   "execution_count": null,
   "outputs": [],
   "source": [
    "viewer.add_surface((vertices, faces))"
   ],
   "metadata": {
    "collapsed": false
   }
  },
  {
   "cell_type": "code",
   "execution_count": null,
   "outputs": [],
   "source": [
    "import trimesh\n",
    "import numpy as np\n",
    "import pandas as pd\n",
    "\n",
    "def compute_hull_overlaps(hulls):\n",
    "    # Get unique segment IDs\n",
    "    segment_ids = list(hulls.keys())\n",
    "    n_segments = len(segment_ids)\n",
    "\n",
    "    # Create empty overlap matrix\n",
    "    overlap_matrix = np.zeros((n_segments, n_segments))\n",
    "\n",
    "    # Convert hull data into trimesh objects\n",
    "    meshes = {}\n",
    "    for segment_id, (vertices, faces) in hulls.items():\n",
    "        # Create mesh and ensure it's watertight\n",
    "        mesh = trimesh.Trimesh(vertices=vertices, faces=faces)\n",
    "        # Fix potential mesh issues\n",
    "        mesh.fix_normals()\n",
    "        mesh.fill_holes()\n",
    "        mesh.remove_degenerate_faces()\n",
    "        mesh.remove_duplicate_faces()\n",
    "        meshes[segment_id] = mesh\n",
    "\n",
    "    # Calculate overlaps\n",
    "    for i, id1 in enumerate(segment_ids):\n",
    "        for j, id2 in enumerate(segment_ids):\n",
    "            if i < j:  # Only compute upper triangle (symmetric matrix)\n",
    "                mesh1 = meshes[id1]\n",
    "                mesh2 = meshes[id2]\n",
    "                try:\n",
    "                    # Check if meshes are valid\n",
    "                    if mesh1.is_watertight and mesh2.is_watertight:\n",
    "                        # Compute intersection\n",
    "                        intersection = trimesh.boolean.intersection([mesh1, mesh2])\n",
    "                        if intersection is not None:\n",
    "                            overlap_volume = intersection.volume\n",
    "                            # Store volume in both positions (symmetric matrix)\n",
    "                            overlap_matrix[i, j] = overlap_volume\n",
    "                            overlap_matrix[j, i] = overlap_volume\n",
    "                except Exception as e:\n",
    "                    print(f\"Error computing overlap between segments {id1} and {id2}: {e}\")\n",
    "\n",
    "    # Create DataFrame for better visualization\n",
    "    overlap_df = pd.DataFrame(\n",
    "        overlap_matrix,\n",
    "        index=segment_ids,\n",
    "        columns=segment_ids\n",
    "    )\n",
    "\n",
    "    # Compute percentage overlap\n",
    "    volumes = {sid: meshes[sid].volume for sid in segment_ids}\n",
    "    percent_matrix = np.zeros_like(overlap_matrix)\n",
    "\n",
    "    for i, id1 in enumerate(segment_ids):\n",
    "        for j, id2 in enumerate(segment_ids):\n",
    "            if i != j and overlap_matrix[i, j] > 0:\n",
    "                min_volume = min(volumes[id1], volumes[id2])\n",
    "                percent_matrix[i, j] = (overlap_matrix[i, j] / min_volume) * 100\n",
    "\n",
    "    percent_df = pd.DataFrame(\n",
    "        percent_matrix,\n",
    "        index=segment_ids,\n",
    "        columns=segment_ids\n",
    "    )\n",
    "\n",
    "    return overlap_df, percent_df, volumes\n",
    "\n",
    "# Compute overlaps\n",
    "overlap_df, percent_df, volumes = compute_hull_overlaps(hulls)\n",
    "\n",
    "print(\"\\nVolumes of individual segments (cubic units):\")\n",
    "for segment_id, volume in volumes.items():\n",
    "    print(f\"Segment {segment_id}: {volume:.2f}\")\n",
    "\n",
    "print(\"\\nOverlap Volumes (cubic units):\")\n",
    "print(overlap_df)\n",
    "\n",
    "print(\"\\nOverlap Percentages (%):\")\n",
    "print(percent_df)"
   ],
   "metadata": {
    "collapsed": false
   }
  },
  {
   "cell_type": "code",
   "execution_count": null,
   "outputs": [],
   "source": [
    "overlaps"
   ],
   "metadata": {
    "collapsed": false
   }
  },
  {
   "cell_type": "code",
   "execution_count": null,
   "outputs": [],
   "source": [
    "@pip install trimesh"
   ],
   "metadata": {
    "collapsed": false
   }
  },
  {
   "cell_type": "code",
   "execution_count": null,
   "outputs": [],
   "source": [],
   "metadata": {
    "collapsed": false
   }
  },
  {
   "cell_type": "code",
   "execution_count": null,
   "outputs": [],
   "source": [],
   "metadata": {
    "collapsed": false
   }
  },
  {
   "cell_type": "code",
   "execution_count": null,
   "outputs": [],
   "source": [
    "\n",
    "# Add surface using triangular faces\n",
    "vertices = points\n",
    "faces = hull.simplices\n",
    "\n",
    "viewer.add_surface(\n",
    "    (vertices, faces),\n",
    "    name='Convex Hull',\n",
    "    colormap='red',\n",
    "    opacity=0.5\n",
    ")\n",
    "\n"
   ],
   "metadata": {
    "collapsed": false
   }
  },
  {
   "cell_type": "code",
   "execution_count": null,
   "outputs": [],
   "source": [
    "import napari\n",
    "import numpy as np\n",
    "from scipy.spatial import ConvexHull\n",
    "from napari_pymeshlab import (\n",
    "    convex_hull,\n",
    "    laplacian_smooth,\n",
    "    taubin_smooth,\n",
    "    simplification_clustering_decimation,\n",
    "    colorize_curvature_apss,\n",
    "    make_shell\n",
    ")\n",
    "\n",
    "# Create viewer\n",
    "viewer = napari.Viewer()\n",
    "\n",
    "# Get points for first_agglo_id\n",
    "points = df[df['agglo_id'] == first_agglo_id][['start_x', 'start_y', 'start_z']].values\n",
    "\n",
    "# Add original points\n",
    "points_layer = viewer.add_points(points, size=10, name='Original Points', face_color='blue')\n",
    "\n",
    "# Create initial surface using convex hull\n",
    "hull_surface = convex_hull(points)\n",
    "\n",
    "# Apply smoothing filters\n",
    "smoothed_surface = laplacian_smooth(hull_surface, step_smooth_num=3)\n",
    "\n",
    "# Optional: apply Taubin smoothing instead\n",
    "# smoothed_surface = taubin_smooth(hull_surface)\n",
    "\n",
    "# Optional: simplify the mesh\n",
    "# simplified_surface = simplification_clustering_decimation(smoothed_surface)\n",
    "\n",
    "# Add curvature coloring\n",
    "colored_surface = colorize_curvature_apss(smoothed_surface)\n",
    "\n",
    "# Optional: create a shell with thickness\n",
    "# final_surface = make_shell(colored_surface, thickness=2.0)\n",
    "\n",
    "# Center view on points\n",
    "viewer.camera.center = points.mean(axis=0)"
   ],
   "metadata": {
    "collapsed": false
   }
  },
  {
   "cell_type": "code",
   "execution_count": null,
   "outputs": [],
   "source": [
    "from skimage.measure import marching_cubes\n",
    "from napari_pymeshlab import convex_hull, \\\n",
    "    laplacian_smooth, \\\n",
    "    taubin_smooth, \\\n",
    "    simplification_clustering_decimation, \\\n",
    "    colorize_curvature_apss, \\\n",
    "    make_shell"
   ],
   "metadata": {
    "collapsed": false
   }
  },
  {
   "cell_type": "code",
   "execution_count": null,
   "outputs": [],
   "source": [],
   "metadata": {
    "collapsed": false
   }
  },
  {
   "cell_type": "code",
   "execution_count": null,
   "outputs": [],
   "source": [],
   "metadata": {
    "collapsed": false
   }
  },
  {
   "cell_type": "code",
   "execution_count": null,
   "outputs": [],
   "source": [],
   "metadata": {
    "collapsed": false
   }
  },
  {
   "cell_type": "code",
   "execution_count": null,
   "outputs": [],
   "source": [
    "import numpy as np\n",
    "import napari\n",
    "\n",
    "def create_binary_mask_from_segments(df, groups_dict, point_key, volume_shape=None):\n",
    "    \"\"\"\n",
    "    Create a 3D binary mask from segments in an agglomeration\n",
    "\n",
    "    Parameters:\n",
    "    df: DataFrame with segment coordinates and sizes\n",
    "    groups_dict: Dictionary mapping points to agglomeration groups\n",
    "    point_key: Tuple of coordinates identifying the agglomeration\n",
    "    volume_shape: Optional tuple defining the volume size (x,y,z)\n",
    "    \"\"\"\n",
    "    # Get segments for this agglomeration\n",
    "    agglo_groups = groups_dict[point_key]\n",
    "\n",
    "    # If volume_shape not provided, calculate from data\n",
    "    if volume_shape is None:\n",
    "        max_x = df['x'].max() + df['x_1'].max()\n",
    "        max_y = df['y'].max() + df['y_1'].max()\n",
    "        max_z = df['z'].max() + df['z_1'].max()\n",
    "        volume_shape = (max_x + 1, max_y + 1, max_z + 1)\n",
    "\n",
    "    # Create empty binary mask\n",
    "    mask = np.zeros(volume_shape, dtype=bool)\n",
    "\n",
    "    # Fill mask with segments\n",
    "    for agglo_id, segments in agglo_groups.items():\n",
    "        print(f\"Processing agglomeration ID: {agglo_id}\")\n",
    "\n",
    "        for segment_id in segments:\n",
    "            segment_data = df[df['id'] == segment_id]\n",
    "            if len(segment_data) == 0:\n",
    "                continue\n",
    "\n",
    "            # Get coordinates and size\n",
    "            x = int(segment_data['x'].iloc[0])\n",
    "            y = int(segment_data['y'].iloc[0])\n",
    "            z = int(segment_data['z'].iloc[0])\n",
    "\n",
    "            size_x = int(segment_data['x_1'].iloc[0])\n",
    "            size_y = int(segment_data['y_1'].iloc[0])\n",
    "            size_z = int(segment_data['z_1'].iloc[0])\n",
    "\n",
    "            # Set mask to True for this segment\n",
    "            mask[x:x+size_x, y:y+size_y, z:z+size_z] = True\n",
    "\n",
    "    return mask\n",
    "\n",
    "# Example usage:\n",
    "point_key = tuple(centroids_xyz[0])  # First point\n",
    "mask = create_binary_mask_from_segments(df, groups_dict, point_key)\n",
    "\n",
    "# Visualize in napari\n",
    "viewer = napari.Viewer()\n",
    "viewer.add_image(mask, name='Binary Mask', colormap='red', opacity=0.5)\n",
    "napari.run()"
   ],
   "metadata": {
    "collapsed": false
   }
  },
  {
   "cell_type": "code",
   "execution_count": null,
   "outputs": [],
   "source": [],
   "metadata": {
    "collapsed": false
   }
  },
  {
   "cell_type": "code",
   "execution_count": null,
   "outputs": [],
   "source": [
    "first_agglo_id = list(hulls.keys())[0]\n",
    "print(first_agglo_id)\n",
    "group_convex_hull = create_convex_hull(df, first_agglo_id)"
   ],
   "metadata": {
    "collapsed": false
   }
  },
  {
   "cell_type": "code",
   "execution_count": null,
   "outputs": [],
   "source": [
    "print(group_convex_hull)"
   ],
   "metadata": {
    "collapsed": false
   }
  },
  {
   "cell_type": "code",
   "execution_count": null,
   "outputs": [],
   "source": [
    "viewer = napari.Viewer()"
   ],
   "metadata": {
    "collapsed": false
   }
  },
  {
   "cell_type": "code",
   "execution_count": null,
   "outputs": [],
   "source": [
    "import napari\n",
    "import numpy as np\n",
    "from napari_pymeshlab import (\n",
    "    convex_hull,\n",
    "    laplacian_smooth,\n",
    "    taubin_smooth,\n",
    "    simplification_clustering_decimation,\n",
    "    colorize_curvature_apss,\n",
    "    make_shell\n",
    ")\n",
    "\n",
    "# Create viewer\n",
    "viewer = napari.Viewer()\n",
    "\n",
    "# Function to create box vertices and faces\n",
    "def create_box_mesh(start_coords, size):\n",
    "    vertices = np.array([\n",
    "        start_coords,\n",
    "        start_coords + [size[0], 0, 0],\n",
    "        start_coords + [0, size[1], 0],\n",
    "        start_coords + [0, 0, size[2]],\n",
    "        start_coords + [size[0], size[1], 0],\n",
    "        start_coords + [size[0], 0, size[2]],\n",
    "        start_coords + [0, size[1], size[2]],\n",
    "        start_coords + size\n",
    "    ])\n",
    "\n",
    "    faces = np.array([\n",
    "        [0,1,2], [1,4,2],  # front\n",
    "        [0,2,3], [2,6,3],  # left\n",
    "        [1,5,4], [4,5,7],  # right\n",
    "        [2,4,6], [4,7,6],  # top\n",
    "        [0,3,1], [1,3,5],  # bottom\n",
    "        [3,6,7], [3,7,5]   # back\n",
    "    ])\n",
    "    return vertices, faces\n",
    "\n",
    "# Get first segment data\n",
    "segment_id = 116984320  # example segment\n",
    "start = np.array([11315, 11308, 1028])\n",
    "size = np.array([40, 16, 15])\n",
    "\n",
    "# Create initial mesh\n",
    "vertices, faces = create_box_mesh(start, size)\n",
    "\n",
    "# Add initial mesh to viewer\n",
    "mesh_layer = viewer.add_surface((vertices, faces), name='Original')\n",
    "\n",
    "# Apply mesh processing operations\n",
    "# 1. Create convex hull\n",
    "hull_verts, hull_faces = convex_hull((vertices, faces))\n",
    "viewer.add_surface((hull_verts, hull_faces), name='Convex Hull', colormap='blue')\n",
    "\n",
    "# 2. Apply smoothing\n",
    "smooth_verts, smooth_faces = laplacian_smooth((hull_verts, hull_faces), iterations=5)\n",
    "viewer.add_surface((smooth_verts, smooth_faces), name='Smoothed', colormap='green')\n",
    "\n",
    "# 3. Create shell\n",
    "shell_verts, shell_faces = make_shell((smooth_verts, smooth_faces), thickness=2.0)\n",
    "viewer.add_surface((shell_verts, shell_faces), name='Shell', colormap='red')\n",
    "\n",
    "# 4. Add curvature coloring\n",
    "colored_verts = colorize_curvature_apss((shell_verts, shell_faces))\n",
    "viewer.add_surface((colored_verts, shell_faces), name='Curvature', colormap='viridis')\n",
    "\n",
    "# Optional: Simplify mesh if needed\n",
    "simplified_verts, simplified_faces = simplification_clustering_decimation(\n",
    "    (shell_verts, shell_faces),\n",
    "    cell_size=5.0\n",
    ")\n",
    "viewer.add_surface((simplified_verts, simplified_faces), name='Simplified', colormap='magma')\n",
    "\n",
    "napari.run()"
   ],
   "metadata": {
    "collapsed": false
   }
  },
  {
   "cell_type": "code",
   "execution_count": null,
   "outputs": [],
   "source": [
    "import napari\n",
    "import numpy as np\n",
    "from napari_pymeshlab import convex_hull\n",
    "\n",
    "# Create viewer\n",
    "viewer = napari.Viewer()\n",
    "\n",
    "# Function to create box vertices and faces\n",
    "def create_box_mesh(start_coords, size):\n",
    "    vertices = np.array([\n",
    "        start_coords,\n",
    "        start_coords + [size[0], 0, 0],\n",
    "        start_coords + [0, size[1], 0],\n",
    "        start_coords + [0, 0, size[2]],\n",
    "        start_coords + [size[0], size[1], 0],\n",
    "        start_coords + [size[0], 0, size[2]],\n",
    "        start_coords + [0, size[1], size[2]],\n",
    "        start_coords + size\n",
    "    ])\n",
    "\n",
    "    faces = np.array([\n",
    "        [0,1,2], [1,4,2],  # front\n",
    "        [0,2,3], [2,6,3],  # left\n",
    "        [1,5,4], [4,5,7],  # right\n",
    "        [2,4,6], [4,7,6],  # top\n",
    "        [0,3,1], [1,3,5],  # bottom\n",
    "        [3,6,7], [3,7,5]   # back\n",
    "    ])\n",
    "    return vertices, faces\n",
    "\n",
    "# Get first segment data\n",
    "start = np.array([11315, 11308, 1028])\n",
    "size = np.array([40, 16, 15])\n",
    "\n",
    "# Create initial mesh\n",
    "vertices, faces = create_box_mesh(start, size)\n",
    "\n",
    "# Add initial mesh to viewer\n",
    "mesh_layer = viewer.add_surface((vertices, faces), name='Original')\n",
    "\n",
    "# Apply convex hull\n",
    "# The function returns a tuple with the new mesh data\n",
    "hull_data = convex_hull((vertices, faces))\n",
    "# Extract vertices and faces from the returned data\n",
    "hull_verts = hull_data[0]\n",
    "hull_faces = hull_data[1]\n",
    "\n",
    "# Add convex hull to viewer\n",
    "viewer.add_surface((hull_verts, hull_faces), name='Convex Hull', colormap='blue')\n",
    "\n",
    "napari.run()"
   ],
   "metadata": {
    "collapsed": false
   }
  },
  {
   "cell_type": "code",
   "execution_count": null,
   "outputs": [],
   "source": [
    "np.unique(df.agglo_id)"
   ],
   "metadata": {
    "collapsed": false
   }
  },
  {
   "cell_type": "code",
   "execution_count": null,
   "outputs": [],
   "source": [
    "df.segment_id[df.agglo_id==np.unique(df.agglo_id)[0]]"
   ],
   "metadata": {
    "collapsed": false
   }
  },
  {
   "cell_type": "code",
   "execution_count": null,
   "outputs": [],
   "source": [
    "agglo_id_test = np.unique(df.agglo_id)[0]\n",
    "segments_list = df.segment_id[df.agglo_id==agglo_id_test].tolist()\n",
    "print(segments_list)"
   ],
   "metadata": {
    "collapsed": false
   }
  },
  {
   "cell_type": "code",
   "execution_count": null,
   "outputs": [],
   "source": [
    "def get_segment_coords(df, segment_id):\n",
    "    \"\"\"\n",
    "    Get start coordinates and size for a specific segment_id\n",
    "\n",
    "    Parameters:\n",
    "    df: DataFrame containing segment information\n",
    "    segment_id: ID of the segment to look up\n",
    "\n",
    "    Returns:\n",
    "    tuple: (start_coords, size) or None if segment not found\n",
    "    \"\"\"\n",
    "    # Filter DataFrame for the specific segment_id\n",
    "    segment = df[df['segment_id'] == segment_id]\n",
    "\n",
    "    if len(segment) == 0:\n",
    "        print(f\"Segment ID {segment_id} not found\")\n",
    "        return None\n",
    "\n",
    "    # Get start coordinates and size\n",
    "    start_coords = np.array([\n",
    "        segment['start_x'].iloc[0],\n",
    "        segment['start_y'].iloc[0],\n",
    "        segment['start_z'].iloc[0]\n",
    "    ])\n",
    "\n",
    "    size = np.array([\n",
    "        segment['size_x'].iloc[0],\n",
    "        segment['size_y'].iloc[0],\n",
    "        segment['size_z'].iloc[0]\n",
    "    ])\n",
    "\n",
    "    return start_coords, size"
   ],
   "metadata": {
    "collapsed": false
   }
  },
  {
   "cell_type": "code",
   "execution_count": null,
   "outputs": [],
   "source": [
    "coords = get_segment_coords(df, segment_list[0])\n",
    "\n",
    "if coords:\n",
    "    start_coords, size = coords\n",
    "    print(f\"Segment {segment_id}:\")\n",
    "    print(f\"Start coordinates: {start_coords}\")\n",
    "    print(f\"Size: {size}\")"
   ],
   "metadata": {
    "collapsed": false
   }
  },
  {
   "cell_type": "code",
   "execution_count": null,
   "outputs": [],
   "source": [
    "\n",
    "for segment_id in segments_list[:100]:\n",
    "    start_coords, size = get_segment_coords(df, segment_id)\n",
    "    # Create initial mesh\n",
    "    vertices, faces = create_box_mesh(start_coords, size)\n",
    "\n",
    "    # Add initial mesh to viewer\n",
    "    mesh_layer = viewer.add_surface((vertices, faces), name=f'{segment_id}')\n"
   ],
   "metadata": {
    "collapsed": false
   }
  },
  {
   "cell_type": "code",
   "execution_count": null,
   "outputs": [],
   "source": [
    "import numpy as np\n",
    "from napari_pymeshlab import convex_hull\n",
    "\n",
    "def create_agglomeration_hull(df, agglo_id):\n",
    "    \"\"\"\n",
    "    Create a convex hull from all segments in an agglomeration\n",
    "\n",
    "    Parameters:\n",
    "    df: DataFrame with segment coordinates\n",
    "    groups_dict: Dictionary mapping points to agglomeration groups\n",
    "    point_key: Tuple of coordinates identifying the agglomeration\n",
    "    \"\"\"\n",
    "    # Get all segments for this agglomeration\n",
    "    agglo_groups = groups_dict[point_key]\n",
    "\n",
    "    # Initialize list to store all vertices\n",
    "    all_vertices = []\n",
    "\n",
    "    # Process each segment in the agglomeration\n",
    "    for agglo_id, segments in agglo_groups.items():\n",
    "        print(f\"Processing agglomeration ID: {agglo_id}\")\n",
    "\n",
    "        for segment_id in segments:\n",
    "            start_coords, size = get_segment_coords(df, segment_id)\n",
    "            # Create mesh\n",
    "            vertices, faces = create_box_mesh(start_coords, size)\n",
    "\n",
    "\n",
    "            # Add vertices to the collection\n",
    "            all_vertices.extend(vertices)\n",
    "\n",
    "    # Convert to numpy array\n",
    "    all_vertices = np.array(all_vertices)\n",
    "\n",
    "    # Create faces for the combined vertices\n",
    "    faces = np.array([[i, i+1, i+2] for i in range(0, len(all_vertices)-2)])\n",
    "\n",
    "    # Create convex hull from all vertices\n",
    "    hull_data = convex_hull((all_vertices, faces))\n",
    "\n",
    "    return hull_data\n",
    "\n",
    "# Example usage:\n",
    "viewer = napari.Viewer()\n",
    "\n",
    "# Choose a point from your data\n",
    "point_key = tuple(centroids_xyz[0])\n",
    "\n",
    "# Create hull for the agglomeration\n",
    "hull_data = create_agglomeration_hull(df, agglo_id_test)\n",
    "\n",
    "# Add to viewer\n",
    "viewer.add_surface(\n",
    "    (hull_data[0], hull_data[1]),\n",
    "    name='Agglomeration_Hull',\n",
    "    colormap='viridis',\n",
    "    opacity=0.5\n",
    ")\n",
    "\n",
    "napari.run()"
   ],
   "metadata": {
    "collapsed": false
   }
  },
  {
   "cell_type": "code",
   "execution_count": null,
   "outputs": [],
   "source": [
    "import napari\n",
    "import numpy as np\n",
    "from napari_pymeshlab import convex_hull, taubin_smooth\n",
    "\n",
    "def create_agglomeration_hull(df, agglo_id):\n",
    "    \"\"\"Create a convex hull from all segments in an agglomeration and apply Taubin smoothing\"\"\"\n",
    "    # Get all segments for this agglomeration\n",
    "    agglo_groups = groups_dict[point_key]\n",
    "\n",
    "    # Initialize list to store all vertices\n",
    "    all_vertices = []\n",
    "\n",
    "    # Process each segment in the agglomeration\n",
    "    for agglo_id, segments in agglo_groups.items():\n",
    "        print(f\"Processing agglomeration ID: {agglo_id}\")\n",
    "\n",
    "        for segment_id in segments:\n",
    "            start_coords, size = get_segment_coords(df, segment_id)\n",
    "            # Create mesh\n",
    "            vertices, faces = create_box_mesh(start_coords, size)\n",
    "            # Add vertices to the collection\n",
    "            all_vertices.extend(vertices)\n",
    "\n",
    "    # Convert to numpy array\n",
    "    all_vertices = np.array(all_vertices)\n",
    "\n",
    "    # Create faces for the combined vertices\n",
    "    faces = np.array([[i, i+1, i+2] for i in range(0, len(all_vertices)-2)])\n",
    "\n",
    "    # Create convex hull\n",
    "    hull_data = convex_hull((all_vertices, faces))\n",
    "\n",
    "    # Apply Taubin smoothing with correct parameter names\n",
    "    smoothed_data = laplacian_smooth(\n",
    "        hull_data, step_smooth_num=5)  # number of iterations\n",
    "\n",
    "\n",
    "    return hull_data, smoothed_data\n",
    "\n",
    "# Example usage:\n",
    "viewer = napari.Viewer()\n",
    "\n",
    "# Create hull and smooth it\n",
    "hull_data, smoothed_data = create_agglomeration_hull(df, agglo_id_test)\n",
    "\n",
    "# Hide all existing layers\n",
    "for layer in viewer.layers:\n",
    "    layer.visible = False\n",
    "\n",
    "# Add original hull (hidden by default)\n",
    "viewer.add_surface(\n",
    "    hull_data,\n",
    "    name='Original_Hull',\n",
    "    colormap='viridis',\n",
    "    opacity=0.5,\n",
    "    visible=False\n",
    ")\n",
    "\n",
    "# Add smoothed surface\n",
    "viewer.add_surface(\n",
    "    smoothed_data,\n",
    "    name='Smoothed_Hull',\n",
    "    colormap='magma',\n",
    "    opacity=0.5\n",
    ")\n",
    "\n",
    "\n",
    "napari.run()"
   ],
   "metadata": {
    "collapsed": false
   }
  },
  {
   "cell_type": "code",
   "execution_count": null,
   "outputs": [],
   "source": [
    "### start again\n",
    "## Dummy test\n",
    "import numpy as np\n",
    "import pandas as pd\n",
    "\n",
    "# Create dummy segments data\n",
    "segments_data = {\n",
    "    'id': range(1, 31),  # 30 segments total\n",
    "    'x': np.random.randint(10000, 12000, 30),\n",
    "    'y': np.random.randint(10000, 12000, 30),\n",
    "    'z': np.random.randint(1000, 2500, 30),\n",
    "    'x_1': np.random.randint(20, 70, 30),\n",
    "    'y_1': np.random.randint(15, 50, 30),\n",
    "    'z_1': np.random.randint(15, 35, 30)\n",
    "}\n",
    "\n",
    "df = pd.DataFrame(segments_data)\n",
    "\n",
    "# Create 4 overlapping agglomerations\n",
    "agglo_groups = {\n",
    "    'agglo_1': list(range(1, 11)),           # segments 1-10\n",
    "    'agglo_2': list(range(8, 18)),           # segments 8-17 (overlaps with agglo_1)\n",
    "    'agglo_3': list(range(15, 25)),          # segments 15-24 (overlaps with agglo_2)\n",
    "    'agglo_4': list(range(21, 31))           # segments 21-30 (overlaps with agglo_3)\n",
    "}\n",
    "\n",
    "# Add agglomeration IDs to DataFrame\n",
    "df['agglo_id'] = None\n",
    "for agglo_id, segments in agglo_groups.items():\n",
    "    df.loc[df['id'].isin(segments), 'agglo_id'] = agglo_id\n",
    "\n",
    "# Print overlap information\n",
    "for agglo_id, segments in agglo_groups.items():\n",
    "    print(f\"\\n{agglo_id} segments: {segments}\")\n",
    "    for other_agglo, other_segments in agglo_groups.items():\n",
    "        if other_agglo != agglo_id:\n",
    "            overlap = set(segments) & set(other_segments)\n",
    "            if overlap:\n",
    "                print(f\"Overlaps with {other_agglo}: {list(overlap)}\")\n",
    "\n",
    "print(\"\\nDataFrame head:\")\n",
    "df.head()\n",
    "\n"
   ],
   "metadata": {
    "collapsed": false
   }
  },
  {
   "cell_type": "code",
   "execution_count": null,
   "outputs": [],
   "source": [
    "import numpy as np\n",
    "import pandas as pd\n",
    "import seaborn as sns\n",
    "import matplotlib.pyplot as plt\n",
    "\n",
    "# Get unique agglomeration IDs from your data\n",
    "agglo_ids = [67017133, 66090332, 67016897, 67016249, 72815935, 67016897, 66120761, 66892606, 23602233]\n",
    "\n",
    "# Create empty matrix\n",
    "n = len(agglo_ids)\n",
    "overlap_matrix = np.zeros((n, n), dtype=int)\n",
    "\n",
    "# Fill the matrix\n",
    "for i, agglo1 in enumerate(agglo_ids):\n",
    "    for j, agglo2 in enumerate(agglo_ids):\n",
    "        # Get segments for each agglomeration\n",
    "        segments1 = set(groups_dict[tuple(centroids_xyz[i])][agglo1])\n",
    "        segments2 = set(groups_dict[tuple(centroids_xyz[j])][agglo2])\n",
    "        # Calculate overlap\n",
    "        overlap = len(segments1.intersection(segments2))\n",
    "        overlap_matrix[i,j] = overlap\n",
    "\n",
    "# Create DataFrame\n",
    "overlap_df = pd.DataFrame(\n",
    "    overlap_matrix,\n",
    "    index=[f'Agglo_{id}' for id in agglo_ids],\n",
    "    columns=[f'Agglo_{id}' for id in agglo_ids]\n",
    ")\n",
    "\n",
    "# Create heatmap\n",
    "plt.figure(figsize=(12, 10))\n",
    "sns.heatmap(overlap_df,\n",
    "            annot=True,  # Show numbers in cells\n",
    "            fmt='d',     # Format as integers\n",
    "            cmap='YlOrRd',  # Yellow to Red colormap\n",
    "            square=True,    # Make cells square\n",
    "            cbar_kws={'label': 'Number of shared segments'})\n",
    "\n",
    "plt.title('Agglomeration Overlap Matrix')\n",
    "plt.tight_layout()\n",
    "plt.show()\n",
    "\n",
    "# Also print the raw numbers\n",
    "print(\"\\nOverlap Matrix:\")\n",
    "print(overlap_df)"
   ],
   "metadata": {
    "collapsed": false
   }
  },
  {
   "cell_type": "code",
   "execution_count": null,
   "outputs": [],
   "source": [
    "import numpy as np\n",
    "import pandas as pd\n",
    "\n",
    "# Create dummy segments data with overlapping spatial regions but unique segment IDs\n",
    "segments_data = {\n",
    "    'id': range(1, 31),  # 30 unique segments\n",
    "    'x': [\n",
    "        # Agglomeration 1 (segments 1-10) - Central region\n",
    "        10000, 10100, 10200, 10300, 10400, 10500, 10600, 10700, 10800, 10900,\n",
    "        # Agglomeration 2 (segments 11-20) - Overlaps with Agglomeration 1\n",
    "        10200, 10300, 10400, 10500, 10600, 10700, 10800, 10900, 11000, 11100,\n",
    "        # Agglomeration 3 (segments 21-30) - Overlaps with Agglomeration 2\n",
    "        10400, 10500, 10600, 10700, 10800, 10900, 11000, 11100, 11200, 11300\n",
    "    ],\n",
    "    'y': [\n",
    "        # Agglomeration 1\n",
    "        10000, 10100, 10200, 10300, 10400, 10500, 10600, 10700, 10800, 10900,\n",
    "        # Agglomeration 2 (shifted)\n",
    "        10200, 10300, 10400, 10500, 10600, 10700, 10800, 10900, 11000, 11100,\n",
    "        # Agglomeration 3 (shifted)\n",
    "        10400, 10500, 10600, 10700, 10800, 10900, 11000, 11100, 11200, 11300\n",
    "    ],\n",
    "    'z': [\n",
    "        # All z coordinates\n",
    "        1000, 1100, 1200, 1300, 1400, 1500, 1600, 1700, 1800, 1900,\n",
    "        1000, 1100, 1200, 1300, 1400, 1500, 1600, 1700, 1800, 1900,\n",
    "        1000, 1100, 1200, 1300, 1400, 1500, 1600, 1700, 1800, 1900\n",
    "    ],\n",
    "    'x_1': [40] * 30,  # Size in x\n",
    "    'y_1': [40] * 30,  # Size in y\n",
    "    'z_1': [40] * 30   # Size in z\n",
    "}\n",
    "\n",
    "df = pd.DataFrame(segments_data)\n",
    "\n",
    "# Create groups dictionary with spatially overlapping but unique segments\n",
    "groups_dict = {\n",
    "    (10500, 10500, 1500): {  # Central point\n",
    "        'agglo_1': list(range(1, 11)),      # Segments 1-10\n",
    "    },\n",
    "    (10700, 10700, 1500): {  # Shifted point\n",
    "        'agglo_2': list(range(11, 21)),     # Segments 11-20\n",
    "    },\n",
    "    (10900, 10900, 1500): {  # Further shifted point\n",
    "        'agglo_3': list(range(21, 31)),     # Segments 21-30\n",
    "    }\n",
    "}\n",
    "\n",
    "# Add agglomeration IDs to DataFrame\n",
    "df['agglo_id'] = None\n",
    "for point, agglos in groups_dict.items():\n",
    "    for agglo_id, segments in agglos.items():\n",
    "        df.loc[df['id'].isin(segments), 'agglo_id'] = agglo_id\n",
    "\n",
    "print(\"\\nDataFrame head:\")\n",
    "print(df.head())\n",
    "print(\"\\nSpatial overlap but unique segments:\")\n",
    "for point, agglos in groups_dict.items():\n",
    "    print(f\"\\nPoint {point}:\")\n",
    "    for agglo_id, segments in agglos.items():\n",
    "        print(f\"{agglo_id}: {segments}\")"
   ],
   "metadata": {
    "collapsed": false
   }
  },
  {
   "cell_type": "code",
   "execution_count": null,
   "outputs": [],
   "source": [
    "import napari\n",
    "import numpy as np\n",
    "import matplotlib.pyplot as plt\n",
    "import seaborn as sns\n",
    "from napari_pymeshlab import convex_hull, taubin_smooth\n",
    "\n",
    "def create_overlap_matrix(groups_dict):\n",
    "    \"\"\"Create overlap matrix between agglomerations\"\"\"\n",
    "    # Get unique agglomeration IDs\n",
    "    agglo_ids = []\n",
    "    for point, groups in groups_dict.items():\n",
    "        for agglo_id in groups.keys():\n",
    "            if agglo_id not in agglo_ids:\n",
    "                agglo_ids.append(agglo_id)\n",
    "\n",
    "    # Create empty matrix\n",
    "    n = len(agglo_ids)\n",
    "    overlap_matrix = np.zeros((n, n), dtype=int)\n",
    "\n",
    "    # Fill matrix\n",
    "    for i, agglo1 in enumerate(agglo_ids):\n",
    "        for j, agglo2 in enumerate(agglo_ids):\n",
    "            # Get segments for each agglomeration\n",
    "            segments1 = set()\n",
    "            segments2 = set()\n",
    "            for point, groups in groups_dict.items():\n",
    "                if agglo1 in groups:\n",
    "                    segments1.update(groups[agglo1])\n",
    "                if agglo2 in groups:\n",
    "                    segments2.update(groups[agglo2])\n",
    "\n",
    "            # Calculate overlap\n",
    "            overlap = len(segments1.intersection(segments2))\n",
    "            overlap_matrix[i,j] = overlap\n",
    "\n",
    "    return overlap_matrix, agglo_ids\n",
    "\n",
    "def visualize_agglomerations_and_matrix(df, groups_dict):\n",
    "    \"\"\"Visualize agglomerations in napari and overlap matrix in matplotlib\"\"\"\n",
    "    # Create napari viewer\n",
    "    viewer = napari.Viewer()\n",
    "\n",
    "    # Create convex hulls for each agglomeration\n",
    "    colors = ['red', 'blue', 'green', 'yellow', 'magenta', 'cyan']\n",
    "    color_idx = 0\n",
    "\n",
    "    for point, groups in groups_dict.items():\n",
    "        for agglo_id, segments in groups.items():\n",
    "            # Get all vertices for segments in this agglomeration\n",
    "            all_vertices = []\n",
    "            for segment_id in segments:\n",
    "                segment_data = df[df['id'] == segment_id]\n",
    "                if len(segment_data) == 0:\n",
    "                    continue\n",
    "\n",
    "                # Get coordinates and size\n",
    "                start = np.array([\n",
    "                    segment_data['x'].iloc[0],\n",
    "                    segment_data['y'].iloc[0],\n",
    "                    segment_data['z'].iloc[0]\n",
    "                ])\n",
    "                size = np.array([\n",
    "                    segment_data['x_1'].iloc[0],\n",
    "                    segment_data['y_1'].iloc[0],\n",
    "                    segment_data['z_1'].iloc[0]\n",
    "                ])\n",
    "\n",
    "                # Create box vertices\n",
    "                vertices = np.array([\n",
    "                    start,\n",
    "                    start + [size[0], 0, 0],\n",
    "                    start + [0, size[1], 0],\n",
    "                    start + [0, 0, size[2]],\n",
    "                    start + [size[0], size[1], 0],\n",
    "                    start + [size[0], 0, size[2]],\n",
    "                    start + [0, size[1], size[2]],\n",
    "                    start + size\n",
    "                ])\n",
    "                all_vertices.extend(vertices)\n",
    "\n",
    "            # Create convex hull\n",
    "            vertices = np.array(all_vertices)\n",
    "            faces = np.array([[i, i+1, i+2] for i in range(0, len(vertices)-2)])\n",
    "            hull_data = convex_hull((vertices, faces))\n",
    "\n",
    "            # Add to viewer\n",
    "            viewer.add_surface(\n",
    "                hull_data,\n",
    "                name=f'Agglo_{agglo_id}',\n",
    "                colormap=colors[color_idx % len(colors)],\n",
    "                opacity=0.5\n",
    "            )\n",
    "            color_idx += 1\n",
    "\n",
    "    # Create overlap matrix\n",
    "    overlap_matrix, agglo_ids = create_overlap_matrix(groups_dict)\n",
    "\n",
    "    # Plot matrix\n",
    "    plt.figure(figsize=(10, 8))\n",
    "    sns.heatmap(overlap_matrix,\n",
    "                xticklabels=[f'Agglo_{id}' for id in agglo_ids],\n",
    "                yticklabels=[f'Agglo_{id}' for id in agglo_ids],\n",
    "                annot=True,\n",
    "                fmt='d',\n",
    "                cmap='YlOrRd')\n",
    "    plt.title('Agglomeration Overlap Matrix')\n",
    "    plt.tight_layout()\n",
    "    plt.show()\n",
    "\n",
    "    return viewer\n",
    "\n",
    "# Use the function\n",
    "viewer = visualize_agglomerations_and_matrix(df, groups_dict)\n",
    "napari.run()"
   ],
   "metadata": {
    "collapsed": false
   }
  },
  {
   "cell_type": "code",
   "execution_count": null,
   "outputs": [],
   "source": [
    "df"
   ],
   "metadata": {
    "collapsed": false
   }
  },
  {
   "cell_type": "code",
   "execution_count": null,
   "outputs": [],
   "source": [],
   "metadata": {
    "collapsed": false
   }
  },
  {
   "cell_type": "code",
   "execution_count": 89,
   "outputs": [],
   "source": [
    "agglo_1 = 72815935\n",
    "agglo_2 = 23602233\n",
    "agglo_3 = 67016897"
   ],
   "metadata": {
    "collapsed": false
   }
  },
  {
   "cell_type": "code",
   "execution_count": 91,
   "outputs": [],
   "source": [
    "# Calculate overlap\n",
    "import trimesh\n",
    "vertices, hull = hulls[agglo_1]\n",
    "# Use hull.simplices instead of hull directly\n",
    "faces = hull.simplices\n",
    "mesh = trimesh.Trimesh(vertices=vertices, faces=faces)"
   ],
   "metadata": {
    "collapsed": false
   }
  },
  {
   "cell_type": "code",
   "execution_count": 93,
   "outputs": [
    {
     "data": {
      "text/plain": "<Surface layer 'Surface' at 0x2b44937d970>"
     },
     "execution_count": 93,
     "metadata": {},
     "output_type": "execute_result"
    }
   ],
   "source": [
    "viewer.add_surface((vertices, faces))"
   ],
   "metadata": {
    "collapsed": false
   }
  },
  {
   "cell_type": "code",
   "execution_count": 81,
   "outputs": [
    {
     "ename": "TypeError",
     "evalue": "int() argument must be a string, a bytes-like object or a number, not 'ConvexHull'",
     "output_type": "error",
     "traceback": [
      "\u001B[1;31m---------------------------------------------------------------------------\u001B[0m",
      "\u001B[1;31mTypeError\u001B[0m                                 Traceback (most recent call last)",
      "Cell \u001B[1;32mIn[81], line 70\u001B[0m\n\u001B[0;32m     67\u001B[0m     \u001B[38;5;28;01mreturn\u001B[39;00m overlap_df, percent_df, volumes\n\u001B[0;32m     69\u001B[0m \u001B[38;5;66;03m# Compute overlaps\u001B[39;00m\n\u001B[1;32m---> 70\u001B[0m overlap_df, percent_df, volumes \u001B[38;5;241m=\u001B[39m \u001B[43mcompute_hull_overlaps\u001B[49m\u001B[43m(\u001B[49m\u001B[43mhulls\u001B[49m\u001B[43m)\u001B[49m\n\u001B[0;32m     72\u001B[0m \u001B[38;5;28mprint\u001B[39m(\u001B[38;5;124m\"\u001B[39m\u001B[38;5;130;01m\\n\u001B[39;00m\u001B[38;5;124mVolumes of individual segments (cubic units):\u001B[39m\u001B[38;5;124m\"\u001B[39m)\n\u001B[0;32m     73\u001B[0m \u001B[38;5;28;01mfor\u001B[39;00m segment_id, volume \u001B[38;5;129;01min\u001B[39;00m volumes\u001B[38;5;241m.\u001B[39mitems():\n",
      "Cell \u001B[1;32mIn[81], line 17\u001B[0m, in \u001B[0;36mcompute_hull_overlaps\u001B[1;34m(hulls)\u001B[0m\n\u001B[0;32m     14\u001B[0m meshes \u001B[38;5;241m=\u001B[39m {}\n\u001B[0;32m     15\u001B[0m \u001B[38;5;28;01mfor\u001B[39;00m segment_id, (vertices, faces) \u001B[38;5;129;01min\u001B[39;00m hulls\u001B[38;5;241m.\u001B[39mitems():\n\u001B[0;32m     16\u001B[0m     \u001B[38;5;66;03m# Create mesh and ensure it's watertight\u001B[39;00m\n\u001B[1;32m---> 17\u001B[0m     mesh \u001B[38;5;241m=\u001B[39m \u001B[43mtrimesh\u001B[49m\u001B[38;5;241;43m.\u001B[39;49m\u001B[43mTrimesh\u001B[49m\u001B[43m(\u001B[49m\u001B[43mvertices\u001B[49m\u001B[38;5;241;43m=\u001B[39;49m\u001B[43mvertices\u001B[49m\u001B[43m,\u001B[49m\u001B[43m \u001B[49m\u001B[43mfaces\u001B[49m\u001B[38;5;241;43m=\u001B[39;49m\u001B[43mfaces\u001B[49m\u001B[43m)\u001B[49m\n\u001B[0;32m     18\u001B[0m     \u001B[38;5;66;03m# Fix potential mesh issues\u001B[39;00m\n\u001B[0;32m     19\u001B[0m     mesh\u001B[38;5;241m.\u001B[39mfix_normals()\n",
      "File \u001B[1;32m~\\miniconda3\\envs\\apr\\lib\\site-packages\\trimesh\\base.py:160\u001B[0m, in \u001B[0;36mTrimesh.__init__\u001B[1;34m(self, vertices, faces, face_normals, vertex_normals, face_colors, vertex_colors, face_attributes, vertex_attributes, metadata, process, validate, merge_tex, merge_norm, use_embree, initial_cache, visual, **kwargs)\u001B[0m\n\u001B[0;32m    157\u001B[0m \u001B[38;5;28mself\u001B[39m\u001B[38;5;241m.\u001B[39mvertices \u001B[38;5;241m=\u001B[39m vertices\n\u001B[0;32m    159\u001B[0m \u001B[38;5;66;03m# (m, 3) int of triangle faces that references self.vertices\u001B[39;00m\n\u001B[1;32m--> 160\u001B[0m \u001B[38;5;28;43mself\u001B[39;49m\u001B[38;5;241;43m.\u001B[39;49m\u001B[43mfaces\u001B[49m \u001B[38;5;241m=\u001B[39m faces\n\u001B[0;32m    162\u001B[0m \u001B[38;5;66;03m# hold visual information about the mesh (vertex and face colors)\u001B[39;00m\n\u001B[0;32m    163\u001B[0m \u001B[38;5;28;01mif\u001B[39;00m visual \u001B[38;5;129;01mis\u001B[39;00m \u001B[38;5;28;01mNone\u001B[39;00m:\n",
      "File \u001B[1;32m~\\miniconda3\\envs\\apr\\lib\\site-packages\\trimesh\\base.py:330\u001B[0m, in \u001B[0;36mTrimesh.faces\u001B[1;34m(self, values)\u001B[0m\n\u001B[0;32m    328\u001B[0m     values \u001B[38;5;241m=\u001B[39m np\u001B[38;5;241m.\u001B[39mzeros(shape\u001B[38;5;241m=\u001B[39m(\u001B[38;5;241m0\u001B[39m, \u001B[38;5;241m3\u001B[39m), dtype\u001B[38;5;241m=\u001B[39mint64)\n\u001B[0;32m    329\u001B[0m \u001B[38;5;28;01melse\u001B[39;00m:\n\u001B[1;32m--> 330\u001B[0m     values \u001B[38;5;241m=\u001B[39m \u001B[43mnp\u001B[49m\u001B[38;5;241;43m.\u001B[39;49m\u001B[43masanyarray\u001B[49m\u001B[43m(\u001B[49m\u001B[43mvalues\u001B[49m\u001B[43m,\u001B[49m\u001B[43m \u001B[49m\u001B[43mdtype\u001B[49m\u001B[38;5;241;43m=\u001B[39;49m\u001B[43mint64\u001B[49m\u001B[43m)\u001B[49m\n\u001B[0;32m    332\u001B[0m \u001B[38;5;66;03m# automatically triangulate quad faces\u001B[39;00m\n\u001B[0;32m    333\u001B[0m \u001B[38;5;28;01mif\u001B[39;00m \u001B[38;5;28mlen\u001B[39m(values\u001B[38;5;241m.\u001B[39mshape) \u001B[38;5;241m==\u001B[39m \u001B[38;5;241m2\u001B[39m \u001B[38;5;129;01mand\u001B[39;00m values\u001B[38;5;241m.\u001B[39mshape[\u001B[38;5;241m1\u001B[39m] \u001B[38;5;241m!=\u001B[39m \u001B[38;5;241m3\u001B[39m:\n",
      "\u001B[1;31mTypeError\u001B[0m: int() argument must be a string, a bytes-like object or a number, not 'ConvexHull'"
     ]
    }
   ],
   "source": [
    "import trimesh\n",
    "import numpy as np\n",
    "import pandas as pd\n",
    "\n",
    "def compute_hull_overlaps(hulls):\n",
    "    # Get unique segment IDs\n",
    "    segment_ids = list(hulls.keys())\n",
    "    n_segments = len(segment_ids)\n",
    "\n",
    "    # Create empty overlap matrix\n",
    "    overlap_matrix = np.zeros((n_segments, n_segments))\n",
    "\n",
    "    # Convert hull data into trimesh objects\n",
    "    meshes = {}\n",
    "    for segment_id, (vertices, faces) in hulls.items():\n",
    "        # Create mesh and ensure it's watertight\n",
    "        mesh = trimesh.Trimesh(vertices=vertices, faces=faces)\n",
    "        # Fix potential mesh issues\n",
    "        mesh.fix_normals()\n",
    "        mesh.fill_holes()\n",
    "        mesh.remove_degenerate_faces()\n",
    "        mesh.remove_duplicate_faces()\n",
    "        meshes[segment_id] = mesh\n",
    "\n",
    "    # Calculate overlaps\n",
    "    for i, id1 in enumerate(segment_ids):\n",
    "        for j, id2 in enumerate(segment_ids):\n",
    "            if i < j:  # Only compute upper triangle (symmetric matrix)\n",
    "                mesh1 = meshes[id1]\n",
    "                mesh2 = meshes[id2]\n",
    "                try:\n",
    "                    # Check if meshes are valid\n",
    "                    if mesh1.is_watertight and mesh2.is_watertight:\n",
    "                        # Compute intersection\n",
    "                        intersection = trimesh.boolean.intersection([mesh1, mesh2])\n",
    "                        if intersection is not None:\n",
    "                            overlap_volume = intersection.volume\n",
    "                            # Store volume in both positions (symmetric matrix)\n",
    "                            overlap_matrix[i, j] = overlap_volume\n",
    "                            overlap_matrix[j, i] = overlap_volume\n",
    "                except Exception as e:\n",
    "                    print(f\"Error computing overlap between segments {id1} and {id2}: {e}\")\n",
    "\n",
    "    # Create DataFrame for better visualization\n",
    "    overlap_df = pd.DataFrame(\n",
    "        overlap_matrix,\n",
    "        index=segment_ids,\n",
    "        columns=segment_ids\n",
    "    )\n",
    "\n",
    "    # Compute percentage overlap\n",
    "    volumes = {sid: meshes[sid].volume for sid in segment_ids}\n",
    "    percent_matrix = np.zeros_like(overlap_matrix)\n",
    "\n",
    "    for i, id1 in enumerate(segment_ids):\n",
    "        for j, id2 in enumerate(segment_ids):\n",
    "            if i != j and overlap_matrix[i, j] > 0:\n",
    "                min_volume = min(volumes[id1], volumes[id2])\n",
    "                percent_matrix[i, j] = (overlap_matrix[i, j] / min_volume) * 100\n",
    "\n",
    "    percent_df = pd.DataFrame(\n",
    "        percent_matrix,\n",
    "        index=segment_ids,\n",
    "        columns=segment_ids\n",
    "    )\n",
    "\n",
    "    return overlap_df, percent_df, volumes\n",
    "\n",
    "# Compute overlaps\n",
    "overlap_df, percent_df, volumes = compute_hull_overlaps(hulls)\n",
    "\n",
    "print(\"\\nVolumes of individual segments (cubic units):\")\n",
    "for segment_id, volume in volumes.items():\n",
    "    print(f\"Segment {segment_id}: {volume:.2f}\")\n",
    "\n",
    "print(\"\\nOverlap Volumes (cubic units):\")\n",
    "print(overlap_df)\n",
    "\n",
    "print(\"\\nOverlap Percentages (%):\")\n",
    "print(percent_df)"
   ],
   "metadata": {
    "collapsed": false
   }
  },
  {
   "cell_type": "code",
   "execution_count": 63,
   "outputs": [
    {
     "data": {
      "text/plain": "{}"
     },
     "execution_count": 63,
     "metadata": {},
     "output_type": "execute_result"
    }
   ],
   "source": [
    "overlaps"
   ],
   "metadata": {
    "collapsed": false
   }
  },
  {
   "cell_type": "code",
   "execution_count": 121,
   "outputs": [
    {
     "name": "stdout",
     "output_type": "stream",
     "text": [
      "Collecting open3d\n",
      "  Downloading open3d-0.18.0-cp39-cp39-win_amd64.whl (63.3 MB)\n",
      "Collecting configargparse\n",
      "  Downloading ConfigArgParse-1.7-py3-none-any.whl (25 kB)\n",
      "Requirement already satisfied: nbformat>=5.7.0 in c:\\users\\montruth\\miniconda3\\envs\\apr\\lib\\site-packages (from open3d) (5.10.4)\n",
      "Collecting ipywidgets>=8.0.4\n",
      "  Downloading ipywidgets-8.1.5-py3-none-any.whl (139 kB)\n",
      "Collecting werkzeug>=2.2.3\n",
      "  Downloading werkzeug-3.1.3-py3-none-any.whl (224 kB)\n",
      "Collecting dash>=2.6.0\n",
      "  Downloading dash-2.18.2-py3-none-any.whl (7.8 MB)\n",
      "Requirement already satisfied: numpy>=1.18.0 in c:\\users\\montruth\\miniconda3\\envs\\apr\\lib\\site-packages (from open3d) (1.26.4)\n",
      "Collecting werkzeug>=2.2.3\n",
      "  Downloading werkzeug-3.0.6-py3-none-any.whl (227 kB)\n",
      "Collecting Flask<3.1,>=1.0.4\n",
      "  Downloading flask-3.0.3-py3-none-any.whl (101 kB)\n",
      "Requirement already satisfied: typing-extensions>=4.1.1 in c:\\users\\montruth\\miniconda3\\envs\\apr\\lib\\site-packages (from dash>=2.6.0->open3d) (4.12.2)\n",
      "Requirement already satisfied: requests in c:\\users\\montruth\\miniconda3\\envs\\apr\\lib\\site-packages (from dash>=2.6.0->open3d) (2.32.3)\n",
      "Requirement already satisfied: importlib-metadata in c:\\users\\montruth\\miniconda3\\envs\\apr\\lib\\site-packages (from dash>=2.6.0->open3d) (8.5.0)\n",
      "Collecting plotly>=5.0.0\n",
      "  Downloading plotly-5.24.1-py3-none-any.whl (19.1 MB)\n",
      "Collecting dash-core-components==2.0.0\n",
      "  Downloading dash_core_components-2.0.0-py3-none-any.whl (3.8 kB)\n",
      "Collecting retrying\n",
      "  Downloading retrying-1.3.4-py3-none-any.whl (11 kB)\n",
      "Requirement already satisfied: nest-asyncio in c:\\users\\montruth\\miniconda3\\envs\\apr\\lib\\site-packages (from dash>=2.6.0->open3d) (1.6.0)\n",
      "Requirement already satisfied: setuptools in c:\\users\\montruth\\miniconda3\\envs\\apr\\lib\\site-packages (from dash>=2.6.0->open3d) (59.4.0)\n",
      "Collecting dash-table==5.0.0\n",
      "  Downloading dash_table-5.0.0-py3-none-any.whl (3.9 kB)\n",
      "Collecting dash-html-components==2.0.0\n",
      "  Downloading dash_html_components-2.0.0-py3-none-any.whl (4.1 kB)\n",
      "Requirement already satisfied: comm>=0.1.3 in c:\\users\\montruth\\miniconda3\\envs\\apr\\lib\\site-packages (from ipywidgets>=8.0.4->open3d) (0.2.2)\n",
      "Requirement already satisfied: traitlets>=4.3.1 in c:\\users\\montruth\\miniconda3\\envs\\apr\\lib\\site-packages (from ipywidgets>=8.0.4->open3d) (5.14.3)\n",
      "Collecting jupyterlab-widgets~=3.0.12\n",
      "  Downloading jupyterlab_widgets-3.0.13-py3-none-any.whl (214 kB)\n",
      "Requirement already satisfied: ipython>=6.1.0 in c:\\users\\montruth\\miniconda3\\envs\\apr\\lib\\site-packages (from ipywidgets>=8.0.4->open3d) (8.18.1)\n",
      "Collecting widgetsnbextension~=4.0.12\n",
      "  Downloading widgetsnbextension-4.0.13-py3-none-any.whl (2.3 MB)\n",
      "Requirement already satisfied: fastjsonschema>=2.15 in c:\\users\\montruth\\miniconda3\\envs\\apr\\lib\\site-packages (from nbformat>=5.7.0->open3d) (2.20.0)\n",
      "Requirement already satisfied: jsonschema>=2.6 in c:\\users\\montruth\\miniconda3\\envs\\apr\\lib\\site-packages (from nbformat>=5.7.0->open3d) (4.23.0)\n",
      "Requirement already satisfied: jupyter-core!=5.0.*,>=4.12 in c:\\users\\montruth\\miniconda3\\envs\\apr\\lib\\site-packages (from nbformat>=5.7.0->open3d) (5.7.2)\n",
      "Requirement already satisfied: MarkupSafe>=2.1.1 in c:\\users\\montruth\\miniconda3\\envs\\apr\\lib\\site-packages (from werkzeug>=2.2.3->open3d) (3.0.2)\n",
      "Requirement already satisfied: Jinja2>=3.1.2 in c:\\users\\montruth\\miniconda3\\envs\\apr\\lib\\site-packages (from Flask<3.1,>=1.0.4->dash>=2.6.0->open3d) (3.1.4)\n",
      "Collecting itsdangerous>=2.1.2\n",
      "  Downloading itsdangerous-2.2.0-py3-none-any.whl (16 kB)\n",
      "Collecting blinker>=1.6.2\n",
      "  Downloading blinker-1.9.0-py3-none-any.whl (8.5 kB)\n",
      "Requirement already satisfied: click>=8.1.3 in c:\\users\\montruth\\miniconda3\\envs\\apr\\lib\\site-packages (from Flask<3.1,>=1.0.4->dash>=2.6.0->open3d) (8.1.7)\n",
      "Requirement already satisfied: zipp>=3.20 in c:\\users\\montruth\\miniconda3\\envs\\apr\\lib\\site-packages (from importlib-metadata->dash>=2.6.0->open3d) (3.21.0)\n",
      "Requirement already satisfied: stack-data in c:\\users\\montruth\\miniconda3\\envs\\apr\\lib\\site-packages (from ipython>=6.1.0->ipywidgets>=8.0.4->open3d) (0.6.3)\n",
      "Requirement already satisfied: decorator in c:\\users\\montruth\\miniconda3\\envs\\apr\\lib\\site-packages (from ipython>=6.1.0->ipywidgets>=8.0.4->open3d) (5.1.1)\n",
      "Requirement already satisfied: prompt-toolkit<3.1.0,>=3.0.41 in c:\\users\\montruth\\miniconda3\\envs\\apr\\lib\\site-packages (from ipython>=6.1.0->ipywidgets>=8.0.4->open3d) (3.0.48)\n",
      "Requirement already satisfied: pygments>=2.4.0 in c:\\users\\montruth\\miniconda3\\envs\\apr\\lib\\site-packages (from ipython>=6.1.0->ipywidgets>=8.0.4->open3d) (2.18.0)\n",
      "Requirement already satisfied: jedi>=0.16 in c:\\users\\montruth\\miniconda3\\envs\\apr\\lib\\site-packages (from ipython>=6.1.0->ipywidgets>=8.0.4->open3d) (0.19.2)\n",
      "Requirement already satisfied: matplotlib-inline in c:\\users\\montruth\\miniconda3\\envs\\apr\\lib\\site-packages (from ipython>=6.1.0->ipywidgets>=8.0.4->open3d) (0.1.7)\n",
      "Requirement already satisfied: exceptiongroup in c:\\users\\montruth\\miniconda3\\envs\\apr\\lib\\site-packages (from ipython>=6.1.0->ipywidgets>=8.0.4->open3d) (1.2.2)\n",
      "Requirement already satisfied: colorama in c:\\users\\montruth\\miniconda3\\envs\\apr\\lib\\site-packages (from ipython>=6.1.0->ipywidgets>=8.0.4->open3d) (0.4.6)\n",
      "Requirement already satisfied: referencing>=0.28.4 in c:\\users\\montruth\\miniconda3\\envs\\apr\\lib\\site-packages (from jsonschema>=2.6->nbformat>=5.7.0->open3d) (0.35.1)\n",
      "Requirement already satisfied: rpds-py>=0.7.1 in c:\\users\\montruth\\miniconda3\\envs\\apr\\lib\\site-packages (from jsonschema>=2.6->nbformat>=5.7.0->open3d) (0.21.0)\n",
      "Requirement already satisfied: jsonschema-specifications>=2023.03.6 in c:\\users\\montruth\\miniconda3\\envs\\apr\\lib\\site-packages (from jsonschema>=2.6->nbformat>=5.7.0->open3d) (2024.10.1)\n",
      "Requirement already satisfied: attrs>=22.2.0 in c:\\users\\montruth\\miniconda3\\envs\\apr\\lib\\site-packages (from jsonschema>=2.6->nbformat>=5.7.0->open3d) (24.2.0)\n",
      "Requirement already satisfied: platformdirs>=2.5 in c:\\users\\montruth\\miniconda3\\envs\\apr\\lib\\site-packages (from jupyter-core!=5.0.*,>=4.12->nbformat>=5.7.0->open3d) (4.3.6)\n",
      "Requirement already satisfied: pywin32>=300 in c:\\users\\montruth\\miniconda3\\envs\\apr\\lib\\site-packages (from jupyter-core!=5.0.*,>=4.12->nbformat>=5.7.0->open3d) (308)\n",
      "Collecting tenacity>=6.2.0\n",
      "  Downloading tenacity-9.0.0-py3-none-any.whl (28 kB)\n",
      "Requirement already satisfied: packaging in c:\\users\\montruth\\miniconda3\\envs\\apr\\lib\\site-packages (from plotly>=5.0.0->dash>=2.6.0->open3d) (24.2)\n",
      "Requirement already satisfied: certifi>=2017.4.17 in c:\\users\\montruth\\miniconda3\\envs\\apr\\lib\\site-packages (from requests->dash>=2.6.0->open3d) (2021.10.8)\n",
      "Requirement already satisfied: urllib3<3,>=1.21.1 in c:\\users\\montruth\\miniconda3\\envs\\apr\\lib\\site-packages (from requests->dash>=2.6.0->open3d) (1.26.7)\n",
      "Requirement already satisfied: charset-normalizer<4,>=2 in c:\\users\\montruth\\miniconda3\\envs\\apr\\lib\\site-packages (from requests->dash>=2.6.0->open3d) (2.0.9)\n",
      "Requirement already satisfied: idna<4,>=2.5 in c:\\users\\montruth\\miniconda3\\envs\\apr\\lib\\site-packages (from requests->dash>=2.6.0->open3d) (3.1)\n",
      "Requirement already satisfied: six>=1.7.0 in c:\\users\\montruth\\miniconda3\\envs\\apr\\lib\\site-packages (from retrying->dash>=2.6.0->open3d) (1.16.0)\n",
      "Requirement already satisfied: parso<0.9.0,>=0.8.4 in c:\\users\\montruth\\miniconda3\\envs\\apr\\lib\\site-packages (from jedi>=0.16->ipython>=6.1.0->ipywidgets>=8.0.4->open3d) (0.8.4)\n",
      "Requirement already satisfied: wcwidth in c:\\users\\montruth\\miniconda3\\envs\\apr\\lib\\site-packages (from prompt-toolkit<3.1.0,>=3.0.41->ipython>=6.1.0->ipywidgets>=8.0.4->open3d) (0.2.13)\n",
      "Requirement already satisfied: pure-eval in c:\\users\\montruth\\miniconda3\\envs\\apr\\lib\\site-packages (from stack-data->ipython>=6.1.0->ipywidgets>=8.0.4->open3d) (0.2.3)\n",
      "Requirement already satisfied: executing>=1.2.0 in c:\\users\\montruth\\miniconda3\\envs\\apr\\lib\\site-packages (from stack-data->ipython>=6.1.0->ipywidgets>=8.0.4->open3d) (2.1.0)\n",
      "Requirement already satisfied: asttokens>=2.1.0 in c:\\users\\montruth\\miniconda3\\envs\\apr\\lib\\site-packages (from stack-data->ipython>=6.1.0->ipywidgets>=8.0.4->open3d) (2.4.1)\n",
      "Installing collected packages: werkzeug, tenacity, itsdangerous, blinker, widgetsnbextension, retrying, plotly, jupyterlab-widgets, Flask, dash-table, dash-html-components, dash-core-components, ipywidgets, dash, configargparse, open3d\n",
      "Successfully installed Flask-3.0.3 blinker-1.9.0 configargparse-1.7 dash-2.18.2 dash-core-components-2.0.0 dash-html-components-2.0.0 dash-table-5.0.0 ipywidgets-8.1.5 itsdangerous-2.2.0 jupyterlab-widgets-3.0.13 open3d-0.18.0 plotly-5.24.1 retrying-1.3.4 tenacity-9.0.0 werkzeug-3.0.6 widgetsnbextension-4.0.13\n"
     ]
    },
    {
     "name": "stderr",
     "output_type": "stream",
     "text": [
      "WARNING: Ignoring invalid distribution -illow (c:\\users\\montruth\\miniconda3\\envs\\apr\\lib\\site-packages)\n",
      "WARNING: Ignoring invalid distribution -illow (c:\\users\\montruth\\miniconda3\\envs\\apr\\lib\\site-packages)\n",
      "WARNING: Ignoring invalid distribution -illow (c:\\users\\montruth\\miniconda3\\envs\\apr\\lib\\site-packages)\n",
      "WARNING: Ignoring invalid distribution -illow (c:\\users\\montruth\\miniconda3\\envs\\apr\\lib\\site-packages)\n",
      "WARNING: Ignoring invalid distribution -illow (c:\\users\\montruth\\miniconda3\\envs\\apr\\lib\\site-packages)\n",
      "WARNING: Ignoring invalid distribution -illow (c:\\users\\montruth\\miniconda3\\envs\\apr\\lib\\site-packages)\n",
      "WARNING: Ignoring invalid distribution -illow (c:\\users\\montruth\\miniconda3\\envs\\apr\\lib\\site-packages)\n",
      "WARNING: Ignoring invalid distribution -illow (c:\\users\\montruth\\miniconda3\\envs\\apr\\lib\\site-packages)\n",
      "WARNING: Ignoring invalid distribution -illow (c:\\users\\montruth\\miniconda3\\envs\\apr\\lib\\site-packages)\n",
      "WARNING: Ignoring invalid distribution -illow (c:\\users\\montruth\\miniconda3\\envs\\apr\\lib\\site-packages)\n",
      "WARNING: Ignoring invalid distribution -illow (c:\\users\\montruth\\miniconda3\\envs\\apr\\lib\\site-packages)\n",
      "WARNING: Ignoring invalid distribution -illow (c:\\users\\montruth\\miniconda3\\envs\\apr\\lib\\site-packages)\n",
      "WARNING: Ignoring invalid distribution -illow (c:\\users\\montruth\\miniconda3\\envs\\apr\\lib\\site-packages)\n",
      "WARNING: Ignoring invalid distribution -illow (c:\\users\\montruth\\miniconda3\\envs\\apr\\lib\\site-packages)\n",
      "WARNING: Ignoring invalid distribution -illow (c:\\users\\montruth\\miniconda3\\envs\\apr\\lib\\site-packages)\n",
      "WARNING: Ignoring invalid distribution -illow (c:\\users\\montruth\\miniconda3\\envs\\apr\\lib\\site-packages)\n",
      "WARNING: Ignoring invalid distribution -illow (c:\\users\\montruth\\miniconda3\\envs\\apr\\lib\\site-packages)\n",
      "WARNING: Ignoring invalid distribution -illow (c:\\users\\montruth\\miniconda3\\envs\\apr\\lib\\site-packages)\n",
      "WARNING: Ignoring invalid distribution -illow (c:\\users\\montruth\\miniconda3\\envs\\apr\\lib\\site-packages)\n",
      "WARNING: Ignoring invalid distribution -illow (c:\\users\\montruth\\miniconda3\\envs\\apr\\lib\\site-packages)\n",
      "WARNING: Ignoring invalid distribution -illow (c:\\users\\montruth\\miniconda3\\envs\\apr\\lib\\site-packages)\n",
      "WARNING: Ignoring invalid distribution -illow (c:\\users\\montruth\\miniconda3\\envs\\apr\\lib\\site-packages)\n"
     ]
    }
   ],
   "source": [
    "!pip install open3d"
   ],
   "metadata": {
    "collapsed": false
   }
  },
  {
   "cell_type": "code",
   "execution_count": null,
   "outputs": [],
   "source": [],
   "metadata": {
    "collapsed": false
   }
  },
  {
   "cell_type": "code",
   "execution_count": null,
   "outputs": [],
   "source": [],
   "metadata": {
    "collapsed": false
   }
  },
  {
   "cell_type": "code",
   "execution_count": 32,
   "outputs": [
    {
     "data": {
      "text/plain": "<Surface layer 'Convex Hull' at 0x2b394d9a9a0>"
     },
     "execution_count": 32,
     "metadata": {},
     "output_type": "execute_result"
    }
   ],
   "source": [
    "\n",
    "# Add surface using triangular faces\n",
    "vertices = points\n",
    "faces = hull.simplices\n",
    "\n",
    "viewer.add_surface(\n",
    "    (vertices, faces),\n",
    "    name='Convex Hull',\n",
    "    colormap='red',\n",
    "    opacity=0.5\n",
    ")\n",
    "\n"
   ],
   "metadata": {
    "collapsed": false
   }
  },
  {
   "cell_type": "code",
   "execution_count": 40,
   "outputs": [
    {
     "ename": "PyMeshLabException",
     "evalue": "Error while creating mesh: bad vertex index 11003 in face 0; vertex 0.",
     "output_type": "error",
     "traceback": [
      "\u001B[1;31m---------------------------------------------------------------------------\u001B[0m",
      "\u001B[1;31mPyMeshLabException\u001B[0m                        Traceback (most recent call last)",
      "Cell \u001B[1;32mIn[40], line 23\u001B[0m\n\u001B[0;32m     20\u001B[0m points_layer \u001B[38;5;241m=\u001B[39m viewer\u001B[38;5;241m.\u001B[39madd_points(points, size\u001B[38;5;241m=\u001B[39m\u001B[38;5;241m10\u001B[39m, name\u001B[38;5;241m=\u001B[39m\u001B[38;5;124m'\u001B[39m\u001B[38;5;124mOriginal Points\u001B[39m\u001B[38;5;124m'\u001B[39m, face_color\u001B[38;5;241m=\u001B[39m\u001B[38;5;124m'\u001B[39m\u001B[38;5;124mblue\u001B[39m\u001B[38;5;124m'\u001B[39m)\n\u001B[0;32m     22\u001B[0m \u001B[38;5;66;03m# Create initial surface using convex hull\u001B[39;00m\n\u001B[1;32m---> 23\u001B[0m hull_surface \u001B[38;5;241m=\u001B[39m \u001B[43mconvex_hull\u001B[49m\u001B[43m(\u001B[49m\u001B[43mpoints\u001B[49m\u001B[43m)\u001B[49m\n\u001B[0;32m     25\u001B[0m \u001B[38;5;66;03m# Apply smoothing filters\u001B[39;00m\n\u001B[0;32m     26\u001B[0m smoothed_surface \u001B[38;5;241m=\u001B[39m laplacian_smooth(hull_surface, step_smooth_num\u001B[38;5;241m=\u001B[39m\u001B[38;5;241m3\u001B[39m)\n",
      "File \u001B[1;32m~\\miniconda3\\envs\\apr\\lib\\site-packages\\napari_pymeshlab\\_widget.py:87\u001B[0m, in \u001B[0;36mconvex_hull\u001B[1;34m(surface)\u001B[0m\n\u001B[0;32m     71\u001B[0m \u001B[38;5;250m\u001B[39m\u001B[38;5;124;03m\"\"\"Determine the convex hull of a surface\u001B[39;00m\n\u001B[0;32m     72\u001B[0m \n\u001B[0;32m     73\u001B[0m \u001B[38;5;124;03mParameters\u001B[39;00m\n\u001B[1;32m   (...)\u001B[0m\n\u001B[0;32m     83\u001B[0m \u001B[38;5;124;03m..[0] https://pymeshlab.readthedocs.io/en/0.1.9/tutorials/apply_filter.html\u001B[39;00m\n\u001B[0;32m     84\u001B[0m \u001B[38;5;124;03m\"\"\"\u001B[39;00m\n\u001B[0;32m     85\u001B[0m \u001B[38;5;28;01mimport\u001B[39;00m \u001B[38;5;21;01mpymeshlab\u001B[39;00m\n\u001B[1;32m---> 87\u001B[0m mesh \u001B[38;5;241m=\u001B[39m \u001B[43mpymeshlab\u001B[49m\u001B[38;5;241;43m.\u001B[39;49m\u001B[43mMesh\u001B[49m\u001B[43m(\u001B[49m\u001B[43msurface\u001B[49m\u001B[43m[\u001B[49m\u001B[38;5;241;43m0\u001B[39;49m\u001B[43m]\u001B[49m\u001B[43m,\u001B[49m\u001B[43m \u001B[49m\u001B[43msurface\u001B[49m\u001B[43m[\u001B[49m\u001B[38;5;241;43m1\u001B[39;49m\u001B[43m]\u001B[49m\u001B[43m)\u001B[49m\n\u001B[0;32m     88\u001B[0m ms \u001B[38;5;241m=\u001B[39m pymeshlab\u001B[38;5;241m.\u001B[39mMeshSet()\n\u001B[0;32m     89\u001B[0m ms\u001B[38;5;241m.\u001B[39madd_mesh(mesh)\n",
      "\u001B[1;31mPyMeshLabException\u001B[0m: Error while creating mesh: bad vertex index 11003 in face 0; vertex 0."
     ]
    }
   ],
   "source": [
    "import napari\n",
    "import numpy as np\n",
    "from scipy.spatial import ConvexHull\n",
    "from napari_pymeshlab import (\n",
    "    convex_hull,\n",
    "    laplacian_smooth,\n",
    "    taubin_smooth,\n",
    "    simplification_clustering_decimation,\n",
    "    colorize_curvature_apss,\n",
    "    make_shell\n",
    ")\n",
    "\n",
    "# Create viewer\n",
    "viewer = napari.Viewer()\n",
    "\n",
    "# Get points for first_agglo_id\n",
    "points = df[df['agglo_id'] == first_agglo_id][['start_x', 'start_y', 'start_z']].values\n",
    "\n",
    "# Add original points\n",
    "points_layer = viewer.add_points(points, size=10, name='Original Points', face_color='blue')\n",
    "\n",
    "# Create initial surface using convex hull\n",
    "hull_surface = convex_hull(points)\n",
    "\n",
    "# Apply smoothing filters\n",
    "smoothed_surface = laplacian_smooth(hull_surface, step_smooth_num=3)\n",
    "\n",
    "# Optional: apply Taubin smoothing instead\n",
    "# smoothed_surface = taubin_smooth(hull_surface)\n",
    "\n",
    "# Optional: simplify the mesh\n",
    "# simplified_surface = simplification_clustering_decimation(smoothed_surface)\n",
    "\n",
    "# Add curvature coloring\n",
    "colored_surface = colorize_curvature_apss(smoothed_surface)\n",
    "\n",
    "# Optional: create a shell with thickness\n",
    "# final_surface = make_shell(colored_surface, thickness=2.0)\n",
    "\n",
    "# Center view on points\n",
    "viewer.camera.center = points.mean(axis=0)"
   ],
   "metadata": {
    "collapsed": false
   }
  },
  {
   "cell_type": "code",
   "execution_count": 19,
   "outputs": [],
   "source": [
    "from skimage.measure import marching_cubes\n",
    "from napari_pymeshlab import convex_hull, \\\n",
    "    laplacian_smooth, \\\n",
    "    taubin_smooth, \\\n",
    "    simplification_clustering_decimation, \\\n",
    "    colorize_curvature_apss, \\\n",
    "    make_shell"
   ],
   "metadata": {
    "collapsed": false
   }
  },
  {
   "cell_type": "code",
   "execution_count": 18,
   "outputs": [],
   "source": [],
   "metadata": {
    "collapsed": false
   }
  },
  {
   "cell_type": "code",
   "execution_count": null,
   "outputs": [],
   "source": [],
   "metadata": {
    "collapsed": false
   }
  },
  {
   "cell_type": "code",
   "execution_count": null,
   "outputs": [],
   "source": [],
   "metadata": {
    "collapsed": false
   }
  },
  {
   "cell_type": "code",
   "execution_count": 39,
   "outputs": [
    {
     "ename": "MemoryError",
     "evalue": "Unable to allocate 2.06 TiB for an array with shape (16040, 21008, 6724) and data type bool",
     "output_type": "error",
     "traceback": [
      "\u001B[1;31m---------------------------------------------------------------------------\u001B[0m",
      "\u001B[1;31mMemoryError\u001B[0m                               Traceback (most recent call last)",
      "Cell \u001B[1;32mIn[39], line 52\u001B[0m\n\u001B[0;32m     50\u001B[0m \u001B[38;5;66;03m# Example usage:\u001B[39;00m\n\u001B[0;32m     51\u001B[0m point_key \u001B[38;5;241m=\u001B[39m \u001B[38;5;28mtuple\u001B[39m(centroids_xyz[\u001B[38;5;241m0\u001B[39m])  \u001B[38;5;66;03m# First point\u001B[39;00m\n\u001B[1;32m---> 52\u001B[0m mask \u001B[38;5;241m=\u001B[39m \u001B[43mcreate_binary_mask_from_segments\u001B[49m\u001B[43m(\u001B[49m\u001B[43msegment_info\u001B[49m\u001B[43m,\u001B[49m\u001B[43m \u001B[49m\u001B[43mgroups_dict\u001B[49m\u001B[43m,\u001B[49m\u001B[43m \u001B[49m\u001B[43mpoint_key\u001B[49m\u001B[43m)\u001B[49m\n\u001B[0;32m     54\u001B[0m \u001B[38;5;66;03m# Visualize in napari\u001B[39;00m\n\u001B[0;32m     55\u001B[0m viewer \u001B[38;5;241m=\u001B[39m napari\u001B[38;5;241m.\u001B[39mViewer()\n",
      "Cell \u001B[1;32mIn[39], line 25\u001B[0m, in \u001B[0;36mcreate_binary_mask_from_segments\u001B[1;34m(df, groups_dict, point_key, volume_shape)\u001B[0m\n\u001B[0;32m     22\u001B[0m     volume_shape \u001B[38;5;241m=\u001B[39m (max_x \u001B[38;5;241m+\u001B[39m \u001B[38;5;241m1\u001B[39m, max_y \u001B[38;5;241m+\u001B[39m \u001B[38;5;241m1\u001B[39m, max_z \u001B[38;5;241m+\u001B[39m \u001B[38;5;241m1\u001B[39m)\n\u001B[0;32m     24\u001B[0m \u001B[38;5;66;03m# Create empty binary mask\u001B[39;00m\n\u001B[1;32m---> 25\u001B[0m mask \u001B[38;5;241m=\u001B[39m \u001B[43mnp\u001B[49m\u001B[38;5;241;43m.\u001B[39;49m\u001B[43mzeros\u001B[49m\u001B[43m(\u001B[49m\u001B[43mvolume_shape\u001B[49m\u001B[43m,\u001B[49m\u001B[43m \u001B[49m\u001B[43mdtype\u001B[49m\u001B[38;5;241;43m=\u001B[39;49m\u001B[38;5;28;43mbool\u001B[39;49m\u001B[43m)\u001B[49m\n\u001B[0;32m     27\u001B[0m \u001B[38;5;66;03m# Fill mask with segments\u001B[39;00m\n\u001B[0;32m     28\u001B[0m \u001B[38;5;28;01mfor\u001B[39;00m agglo_id, segments \u001B[38;5;129;01min\u001B[39;00m agglo_groups\u001B[38;5;241m.\u001B[39mitems():\n",
      "\u001B[1;31mMemoryError\u001B[0m: Unable to allocate 2.06 TiB for an array with shape (16040, 21008, 6724) and data type bool"
     ]
    }
   ],
   "source": [
    "import numpy as np\n",
    "import napari\n",
    "\n",
    "def create_binary_mask_from_segments(df, groups_dict, point_key, volume_shape=None):\n",
    "    \"\"\"\n",
    "    Create a 3D binary mask from segments in an agglomeration\n",
    "\n",
    "    Parameters:\n",
    "    df: DataFrame with segment coordinates and sizes\n",
    "    groups_dict: Dictionary mapping points to agglomeration groups\n",
    "    point_key: Tuple of coordinates identifying the agglomeration\n",
    "    volume_shape: Optional tuple defining the volume size (x,y,z)\n",
    "    \"\"\"\n",
    "    # Get segments for this agglomeration\n",
    "    agglo_groups = groups_dict[point_key]\n",
    "\n",
    "    # If volume_shape not provided, calculate from data\n",
    "    if volume_shape is None:\n",
    "        max_x = df['x'].max() + df['x_1'].max()\n",
    "        max_y = df['y'].max() + df['y_1'].max()\n",
    "        max_z = df['z'].max() + df['z_1'].max()\n",
    "        volume_shape = (max_x + 1, max_y + 1, max_z + 1)\n",
    "\n",
    "    # Create empty binary mask\n",
    "    mask = np.zeros(volume_shape, dtype=bool)\n",
    "\n",
    "    # Fill mask with segments\n",
    "    for agglo_id, segments in agglo_groups.items():\n",
    "        print(f\"Processing agglomeration ID: {agglo_id}\")\n",
    "\n",
    "        for segment_id in segments:\n",
    "            segment_data = df[df['id'] == segment_id]\n",
    "            if len(segment_data) == 0:\n",
    "                continue\n",
    "\n",
    "            # Get coordinates and size\n",
    "            x = int(segment_data['x'].iloc[0])\n",
    "            y = int(segment_data['y'].iloc[0])\n",
    "            z = int(segment_data['z'].iloc[0])\n",
    "\n",
    "            size_x = int(segment_data['x_1'].iloc[0])\n",
    "            size_y = int(segment_data['y_1'].iloc[0])\n",
    "            size_z = int(segment_data['z_1'].iloc[0])\n",
    "\n",
    "            # Set mask to True for this segment\n",
    "            mask[x:x+size_x, y:y+size_y, z:z+size_z] = True\n",
    "\n",
    "    return mask\n",
    "\n",
    "# Example usage:\n",
    "point_key = tuple(centroids_xyz[0])  # First point\n",
    "mask = create_binary_mask_from_segments(df, groups_dict, point_key)\n",
    "\n",
    "# Visualize in napari\n",
    "viewer = napari.Viewer()\n",
    "viewer.add_image(mask, name='Binary Mask', colormap='red', opacity=0.5)\n",
    "napari.run()"
   ],
   "metadata": {
    "collapsed": false
   }
  },
  {
   "cell_type": "code",
   "execution_count": null,
   "outputs": [],
   "source": [],
   "metadata": {
    "collapsed": false
   }
  },
  {
   "cell_type": "code",
   "execution_count": 21,
   "outputs": [
    {
     "name": "stdout",
     "output_type": "stream",
     "text": [
      "23602233\n"
     ]
    }
   ],
   "source": [
    "first_agglo_id = list(hulls.keys())[0]\n",
    "print(first_agglo_id)\n",
    "group_convex_hull = create_convex_hull(df, first_agglo_id)"
   ],
   "metadata": {
    "collapsed": false
   }
  },
  {
   "cell_type": "code",
   "execution_count": 22,
   "outputs": [
    {
     "name": "stdout",
     "output_type": "stream",
     "text": [
      "(array([[ 8128, 12406,   295],\n",
      "       [ 8176, 12406,   295],\n",
      "       [ 8128, 12472,   295],\n",
      "       ...,\n",
      "       [ 9297, 13547,  1049],\n",
      "       [ 9296, 13548,  1049],\n",
      "       [ 9297, 13548,  1049]]), <scipy.spatial._qhull.ConvexHull object at 0x00000206373AEBB0>)\n"
     ]
    }
   ],
   "source": [
    "print(group_convex_hull)"
   ],
   "metadata": {
    "collapsed": false
   }
  },
  {
   "cell_type": "code",
   "execution_count": 23,
   "outputs": [],
   "source": [
    "viewer = napari.Viewer()"
   ],
   "metadata": {
    "collapsed": false
   }
  },
  {
   "cell_type": "code",
   "execution_count": 24,
   "outputs": [
    {
     "ename": "ValueError",
     "evalue": "too many values to unpack (expected 2)",
     "output_type": "error",
     "traceback": [
      "\u001B[1;31m---------------------------------------------------------------------------\u001B[0m",
      "\u001B[1;31mValueError\u001B[0m                                Traceback (most recent call last)",
      "Cell \u001B[1;32mIn[24], line 51\u001B[0m\n\u001B[0;32m     47\u001B[0m mesh_layer \u001B[38;5;241m=\u001B[39m viewer\u001B[38;5;241m.\u001B[39madd_surface((vertices, faces), name\u001B[38;5;241m=\u001B[39m\u001B[38;5;124m'\u001B[39m\u001B[38;5;124mOriginal\u001B[39m\u001B[38;5;124m'\u001B[39m)\n\u001B[0;32m     49\u001B[0m \u001B[38;5;66;03m# Apply mesh processing operations\u001B[39;00m\n\u001B[0;32m     50\u001B[0m \u001B[38;5;66;03m# 1. Create convex hull\u001B[39;00m\n\u001B[1;32m---> 51\u001B[0m hull_verts, hull_faces \u001B[38;5;241m=\u001B[39m convex_hull((vertices, faces))\n\u001B[0;32m     52\u001B[0m viewer\u001B[38;5;241m.\u001B[39madd_surface((hull_verts, hull_faces), name\u001B[38;5;241m=\u001B[39m\u001B[38;5;124m'\u001B[39m\u001B[38;5;124mConvex Hull\u001B[39m\u001B[38;5;124m'\u001B[39m, colormap\u001B[38;5;241m=\u001B[39m\u001B[38;5;124m'\u001B[39m\u001B[38;5;124mblue\u001B[39m\u001B[38;5;124m'\u001B[39m)\n\u001B[0;32m     54\u001B[0m \u001B[38;5;66;03m# 2. Apply smoothing\u001B[39;00m\n",
      "\u001B[1;31mValueError\u001B[0m: too many values to unpack (expected 2)"
     ]
    }
   ],
   "source": [
    "import napari\n",
    "import numpy as np\n",
    "from napari_pymeshlab import (\n",
    "    convex_hull,\n",
    "    laplacian_smooth,\n",
    "    taubin_smooth,\n",
    "    simplification_clustering_decimation,\n",
    "    colorize_curvature_apss,\n",
    "    make_shell\n",
    ")\n",
    "\n",
    "# Create viewer\n",
    "viewer = napari.Viewer()\n",
    "\n",
    "# Function to create box vertices and faces\n",
    "def create_box_mesh(start_coords, size):\n",
    "    vertices = np.array([\n",
    "        start_coords,\n",
    "        start_coords + [size[0], 0, 0],\n",
    "        start_coords + [0, size[1], 0],\n",
    "        start_coords + [0, 0, size[2]],\n",
    "        start_coords + [size[0], size[1], 0],\n",
    "        start_coords + [size[0], 0, size[2]],\n",
    "        start_coords + [0, size[1], size[2]],\n",
    "        start_coords + size\n",
    "    ])\n",
    "\n",
    "    faces = np.array([\n",
    "        [0,1,2], [1,4,2],  # front\n",
    "        [0,2,3], [2,6,3],  # left\n",
    "        [1,5,4], [4,5,7],  # right\n",
    "        [2,4,6], [4,7,6],  # top\n",
    "        [0,3,1], [1,3,5],  # bottom\n",
    "        [3,6,7], [3,7,5]   # back\n",
    "    ])\n",
    "    return vertices, faces\n",
    "\n",
    "# Get first segment data\n",
    "segment_id = 116984320  # example segment\n",
    "start = np.array([11315, 11308, 1028])\n",
    "size = np.array([40, 16, 15])\n",
    "\n",
    "# Create initial mesh\n",
    "vertices, faces = create_box_mesh(start, size)\n",
    "\n",
    "# Add initial mesh to viewer\n",
    "mesh_layer = viewer.add_surface((vertices, faces), name='Original')\n",
    "\n",
    "# Apply mesh processing operations\n",
    "# 1. Create convex hull\n",
    "hull_verts, hull_faces = convex_hull((vertices, faces))\n",
    "viewer.add_surface((hull_verts, hull_faces), name='Convex Hull', colormap='blue')\n",
    "\n",
    "# 2. Apply smoothing\n",
    "smooth_verts, smooth_faces = laplacian_smooth((hull_verts, hull_faces), iterations=5)\n",
    "viewer.add_surface((smooth_verts, smooth_faces), name='Smoothed', colormap='green')\n",
    "\n",
    "# 3. Create shell\n",
    "shell_verts, shell_faces = make_shell((smooth_verts, smooth_faces), thickness=2.0)\n",
    "viewer.add_surface((shell_verts, shell_faces), name='Shell', colormap='red')\n",
    "\n",
    "# 4. Add curvature coloring\n",
    "colored_verts = colorize_curvature_apss((shell_verts, shell_faces))\n",
    "viewer.add_surface((colored_verts, shell_faces), name='Curvature', colormap='viridis')\n",
    "\n",
    "# Optional: Simplify mesh if needed\n",
    "simplified_verts, simplified_faces = simplification_clustering_decimation(\n",
    "    (shell_verts, shell_faces),\n",
    "    cell_size=5.0\n",
    ")\n",
    "viewer.add_surface((simplified_verts, simplified_faces), name='Simplified', colormap='magma')\n",
    "\n",
    "napari.run()"
   ],
   "metadata": {
    "collapsed": false
   }
  },
  {
   "cell_type": "code",
   "execution_count": null,
   "outputs": [],
   "source": [
    "import napari\n",
    "import numpy as np\n",
    "from napari_pymeshlab import convex_hull\n",
    "\n",
    "# Create viewer\n",
    "viewer = napari.Viewer()\n",
    "\n",
    "# Function to create box vertices and faces\n",
    "def create_box_mesh(start_coords, size):\n",
    "    vertices = np.array([\n",
    "        start_coords,\n",
    "        start_coords + [size[0], 0, 0],\n",
    "        start_coords + [0, size[1], 0],\n",
    "        start_coords + [0, 0, size[2]],\n",
    "        start_coords + [size[0], size[1], 0],\n",
    "        start_coords + [size[0], 0, size[2]],\n",
    "        start_coords + [0, size[1], size[2]],\n",
    "        start_coords + size\n",
    "    ])\n",
    "\n",
    "    faces = np.array([\n",
    "        [0,1,2], [1,4,2],  # front\n",
    "        [0,2,3], [2,6,3],  # left\n",
    "        [1,5,4], [4,5,7],  # right\n",
    "        [2,4,6], [4,7,6],  # top\n",
    "        [0,3,1], [1,3,5],  # bottom\n",
    "        [3,6,7], [3,7,5]   # back\n",
    "    ])\n",
    "    return vertices, faces\n",
    "\n",
    "# Get first segment data\n",
    "start = np.array([11315, 11308, 1028])\n",
    "size = np.array([40, 16, 15])\n",
    "\n",
    "# Create initial mesh\n",
    "vertices, faces = create_box_mesh(start, size)\n",
    "\n",
    "# Add initial mesh to viewer\n",
    "mesh_layer = viewer.add_surface((vertices, faces), name='Original')\n",
    "\n",
    "# Apply convex hull\n",
    "# The function returns a tuple with the new mesh data\n",
    "hull_data = convex_hull((vertices, faces))\n",
    "# Extract vertices and faces from the returned data\n",
    "hull_verts = hull_data[0]\n",
    "hull_faces = hull_data[1]\n",
    "\n",
    "# Add convex hull to viewer\n",
    "viewer.add_surface((hull_verts, hull_faces), name='Convex Hull', colormap='blue')\n",
    "\n",
    "napari.run()"
   ],
   "metadata": {
    "collapsed": false
   }
  },
  {
   "cell_type": "code",
   "execution_count": 25,
   "outputs": [
    {
     "data": {
      "text/plain": "array([23602233, 66090332, 66120761, 66892606, 67016249, 67016897,\n       67017133, 72815935], dtype=int64)"
     },
     "execution_count": 25,
     "metadata": {},
     "output_type": "execute_result"
    }
   ],
   "source": [
    "np.unique(df.agglo_id)"
   ],
   "metadata": {
    "collapsed": false
   }
  },
  {
   "cell_type": "code",
   "execution_count": 26,
   "outputs": [
    {
     "data": {
      "text/plain": "0       23602233\n314    212754422\n313    212754421\n312    212754419\n311    212754418\n         ...    \n153    120252822\n154    120252892\n155    120252904\n152    120252788\n146    120252600\nName: segment_id, Length: 461, dtype: int64"
     },
     "execution_count": 26,
     "metadata": {},
     "output_type": "execute_result"
    }
   ],
   "source": [
    "df.segment_id[df.agglo_id==np.unique(df.agglo_id)[0]]"
   ],
   "metadata": {
    "collapsed": false
   }
  },
  {
   "cell_type": "code",
   "execution_count": 27,
   "outputs": [
    {
     "name": "stdout",
     "output_type": "stream",
     "text": [
      "[23602233, 212754422, 212754421, 212754419, 212754418, 212754416, 212754414, 212754409, 212754407, 212754401, 212754399, 212754398, 212754423, 212754397, 212754395, 212754391, 212754390, 212754389, 212754387, 212754386, 212754385, 212754383, 212754381, 212754377, 212754374, 212754396, 212754429, 212754430, 212754431, 212754550, 212754542, 212754536, 212754529, 212754524, 212754523, 212754511, 212754506, 212754485, 212754479, 212754478, 212754477, 212754475, 212754466, 212754465, 212754459, 212754458, 212754457, 212754453, 212754452, 212754450, 212754448, 212754440, 212754439, 212754436, 212754372, 212754364, 212754361, 212754355, 212754213, 212754181, 212739038, 212739036, 212738991, 212738983, 212738976, 212738975, 212738970, 212738965, 212738962, 212738958, 212738952, 212738938, 212738932, 212738931, 212738926, 212738917, 212738914, 212738911, 212738910, 212738907, 212738906, 212738903, 212738890, 212754217, 212754556, 212754219, 212754237, 212754353, 212754352, 212754351, 212754350, 212754345, 212754344, 212754342, 212754341, 212754340, 212754333, 212754332, 212754329, 212754328, 212754323, 212754318, 212754313, 212754304, 212754298, 212754292, 212754289, 212754284, 212754270, 212754264, 212754251, 212754242, 212754231, 212754561, 212754567, 212754573, 213587223, 213587219, 213587218, 213587201, 213587200, 213587188, 213587168, 213587159, 213587151, 213587128, 213587056, 213571364, 213556018, 212770772, 212770760, 212770740, 212770731, 212770730, 212770715, 212770654, 212770641, 212770634, 212770632, 212770611, 212770605, 213587231, 212770598, 213587232, 213587236, 213603305, 213603271, 213603259, 213603251, 213602983, 213587544, 213587502, 213587501, 213587496, 213587453, 213587407, 213587404, 213587388, 213587322, 213587318, 213587308, 213587307, 213587304, 213587303, 213587298, 213587295, 213587292, 213587281, 213587251, 213587246, 213587233, 212738889, 212770583, 212770575, 212770342, 212770332, 212770330, 212770323, 212770313, 212770311, 212770309, 212770308, 212770298, 212770287, 212770273, 212770221, 212770188, 212770156, 212770150, 212754714, 212754694, 212754676, 212754660, 212754634, 212754616, 212754612, 212754607, 212754604, 212754590, 212770344, 212770580, 212770345, 212770351, 212770571, 212770569, 212770553, 212770547, 212770545, 212770540, 212770539, 212770537, 212770504, 212770502, 212770454, 212770443, 212770424, 212770423, 212770409, 212770401, 212770400, 212770397, 212770388, 212770385, 212770376, 212770372, 212770361, 212770356, 212770352, 212770346, 212738883, 212754460, 212738869, 117000289, 116985599, 116985561, 116985514, 116985450, 116985105, 116168330, 116168173, 116167055, 116153497, 116152662, 116152308, 116152082, 116152068, 116152003, 116151970, 116151963, 116151641, 116136044, 116136032, 116135357, 116135335, 116135298, 116135292, 116135250, 117000438, 116120516, 117000542, 117000651, 118570883, 118570687, 118556522, 118556450, 118556435, 118539713, 117834902, 117818463, 117818198, 117801758, 117786184, 117785946, 117785945, 117785719, 117031392, 117031382, 117015918, 117015875, 117015824, 117015780, 117015704, 117015651, 117000763, 117000722, 117000707, 117000565, 118651335, 116120476, 115302286, 68700011, 68700002, 68699978, 68699784, 68683563, 68667586, 67834769, 67834750, 67834680, 212738875, 67834440, 67834433, 67834344, 67834323, 67834308, 67016657, 67001299, 23618423, 23602385, 23602384, 23602357, 23602356, 23602352, 23602349, 23602348, 68700037, 116072744, 68700182, 70271269, 115302243, 72785497, 72785386, 72785383, 72785357, 72785334, 72785262, 72769187, 72769045, 72768769, 72768748, 72768731, 71936756, 71936561, 71104343, 71088869, 71088866, 71088860, 71088276, 71088181, 71087585, 71087458, 70332262, 70286948, 70286673, 69453697, 118651555, 67834679, 118651690, 165254780, 165254566, 165254538, 165254441, 165254424, 165254089, 165254088, 165253909, 165253882, 165253840, 165238364, 165238354, 164436918, 164389590, 164389588, 163619673, 121102257, 121102215, 121102196, 121102116, 121102063, 121101814, 121086456, 121086132, 121085957, 165254831, 121085956, 165254864, 165254889, 118651653, 212738863, 212738859, 212738858, 212738853, 212738844, 212738840, 212723420, 212723243, 166103151, 166088326, 166088101, 166088048, 166088027, 166087954, 166071828, 166071799, 165285759, 165285703, 165269986, 165269921, 165269887, 165255258, 165255238, 165254905, 165254874, 121085880, 166920782, 121085831, 120252563, 120252507, 120252497, 120252491, 120252490, 120252470, 120252433, 120252419, 120252418, 120252400, 120252356, 120252346, 120236575, 120236546, 120236538, 120236516, 120236492, 120236474, 120236448, 120236431, 120235946, 120235944, 120235936, 121085832, 118651922, 120252564, 120252576, 120236432, 120252590, 120252588, 121085793, 121085543, 121085541, 121085548, 121085463, 121085145, 121085127, 121085098, 121085061, 121084989, 121069746, 121069740, 121085536, 120252929, 121069614, 120252606, 120252658, 120252752, 120252771, 120252667, 120252822, 120252892, 120252904, 120252788, 120252600]\n"
     ]
    }
   ],
   "source": [
    "agglo_id_test = np.unique(df.agglo_id)[0]\n",
    "segments_list = df.segment_id[df.agglo_id==agglo_id_test].tolist()\n",
    "print(segments_list)"
   ],
   "metadata": {
    "collapsed": false
   }
  },
  {
   "cell_type": "code",
   "execution_count": 28,
   "outputs": [],
   "source": [
    "def get_segment_coords(df, segment_id):\n",
    "    \"\"\"\n",
    "    Get start coordinates and size for a specific segment_id\n",
    "\n",
    "    Parameters:\n",
    "    df: DataFrame containing segment information\n",
    "    segment_id: ID of the segment to look up\n",
    "\n",
    "    Returns:\n",
    "    tuple: (start_coords, size) or None if segment not found\n",
    "    \"\"\"\n",
    "    # Filter DataFrame for the specific segment_id\n",
    "    segment = df[df['segment_id'] == segment_id]\n",
    "\n",
    "    if len(segment) == 0:\n",
    "        print(f\"Segment ID {segment_id} not found\")\n",
    "        return None\n",
    "\n",
    "    # Get start coordinates and size\n",
    "    start_coords = np.array([\n",
    "        segment['start_x'].iloc[0],\n",
    "        segment['start_y'].iloc[0],\n",
    "        segment['start_z'].iloc[0]\n",
    "    ])\n",
    "\n",
    "    size = np.array([\n",
    "        segment['size_x'].iloc[0],\n",
    "        segment['size_y'].iloc[0],\n",
    "        segment['size_z'].iloc[0]\n",
    "    ])\n",
    "\n",
    "    return start_coords, size"
   ],
   "metadata": {
    "collapsed": false
   }
  },
  {
   "cell_type": "code",
   "execution_count": 29,
   "outputs": [
    {
     "name": "stdout",
     "output_type": "stream",
     "text": [
      "Segment 116984320:\n",
      "Start coordinates: [ 8128 12406   295]\n",
      "Size: [48 66 25]\n"
     ]
    }
   ],
   "source": [
    "coords = get_segment_coords(df, segment_list[0])\n",
    "\n",
    "if coords:\n",
    "    start_coords, size = coords\n",
    "    print(f\"Segment {segment_id}:\")\n",
    "    print(f\"Start coordinates: {start_coords}\")\n",
    "    print(f\"Size: {size}\")"
   ],
   "metadata": {
    "collapsed": false
   }
  },
  {
   "cell_type": "code",
   "execution_count": 47,
   "outputs": [],
   "source": [
    "\n",
    "for segment_id in segments_list[:100]:\n",
    "    start_coords, size = get_segment_coords(df, segment_id)\n",
    "    # Create initial mesh\n",
    "    vertices, faces = create_box_mesh(start_coords, size)\n",
    "\n",
    "    # Add initial mesh to viewer\n",
    "    mesh_layer = viewer.add_surface((vertices, faces), name=f'{segment_id}')\n"
   ],
   "metadata": {
    "collapsed": false
   }
  },
  {
   "cell_type": "code",
   "execution_count": 41,
   "outputs": [
    {
     "name": "stdout",
     "output_type": "stream",
     "text": [
      "Processing agglomeration ID: 67017133\n"
     ]
    }
   ],
   "source": [
    "import numpy as np\n",
    "from napari_pymeshlab import convex_hull\n",
    "\n",
    "def create_agglomeration_hull(df, agglo_id):\n",
    "    \"\"\"\n",
    "    Create a convex hull from all segments in an agglomeration\n",
    "\n",
    "    Parameters:\n",
    "    df: DataFrame with segment coordinates\n",
    "    groups_dict: Dictionary mapping points to agglomeration groups\n",
    "    point_key: Tuple of coordinates identifying the agglomeration\n",
    "    \"\"\"\n",
    "    # Get all segments for this agglomeration\n",
    "    agglo_groups = groups_dict[point_key]\n",
    "\n",
    "    # Initialize list to store all vertices\n",
    "    all_vertices = []\n",
    "\n",
    "    # Process each segment in the agglomeration\n",
    "    for agglo_id, segments in agglo_groups.items():\n",
    "        print(f\"Processing agglomeration ID: {agglo_id}\")\n",
    "\n",
    "        for segment_id in segments:\n",
    "            start_coords, size = get_segment_coords(df, segment_id)\n",
    "            # Create mesh\n",
    "            vertices, faces = create_box_mesh(start_coords, size)\n",
    "\n",
    "\n",
    "            # Add vertices to the collection\n",
    "            all_vertices.extend(vertices)\n",
    "\n",
    "    # Convert to numpy array\n",
    "    all_vertices = np.array(all_vertices)\n",
    "\n",
    "    # Create faces for the combined vertices\n",
    "    faces = np.array([[i, i+1, i+2] for i in range(0, len(all_vertices)-2)])\n",
    "\n",
    "    # Create convex hull from all vertices\n",
    "    hull_data = convex_hull((all_vertices, faces))\n",
    "\n",
    "    return hull_data\n",
    "\n",
    "# Example usage:\n",
    "viewer = napari.Viewer()\n",
    "\n",
    "# Choose a point from your data\n",
    "point_key = tuple(centroids_xyz[0])\n",
    "\n",
    "# Create hull for the agglomeration\n",
    "hull_data = create_agglomeration_hull(df, agglo_id_test)\n",
    "\n",
    "# Add to viewer\n",
    "viewer.add_surface(\n",
    "    (hull_data[0], hull_data[1]),\n",
    "    name='Agglomeration_Hull',\n",
    "    colormap='viridis',\n",
    "    opacity=0.5\n",
    ")\n",
    "\n",
    "napari.run()"
   ],
   "metadata": {
    "collapsed": false
   }
  },
  {
   "cell_type": "code",
   "execution_count": 45,
   "outputs": [
    {
     "name": "stderr",
     "output_type": "stream",
     "text": [
      "WARNING: QWindowsWindow::setGeometry: Unable to set geometry 853x491+3521+38 (frame: 869x530+3513+7) on QWidgetWindow/\"_QtMainWindowClassWindow\" on \"\\\\.\\DISPLAY2\". Resulting geometry: 567x653+3518+24 (frame: 583x692+3510-7) margins: 8, 31, 8, 8 minimum size: 385x492 MINMAXINFO maxSize=0,0 maxpos=0,0 mintrack=401,531 maxtrack=0,0)\n"
     ]
    },
    {
     "name": "stdout",
     "output_type": "stream",
     "text": [
      "Processing agglomeration ID: 67017133\n"
     ]
    }
   ],
   "source": [
    "import napari\n",
    "import numpy as np\n",
    "from napari_pymeshlab import convex_hull, taubin_smooth\n",
    "\n",
    "def create_agglomeration_hull(df, agglo_id):\n",
    "    \"\"\"Create a convex hull from all segments in an agglomeration and apply Taubin smoothing\"\"\"\n",
    "    # Get all segments for this agglomeration\n",
    "    agglo_groups = groups_dict[point_key]\n",
    "\n",
    "    # Initialize list to store all vertices\n",
    "    all_vertices = []\n",
    "\n",
    "    # Process each segment in the agglomeration\n",
    "    for agglo_id, segments in agglo_groups.items():\n",
    "        print(f\"Processing agglomeration ID: {agglo_id}\")\n",
    "\n",
    "        for segment_id in segments:\n",
    "            start_coords, size = get_segment_coords(df, segment_id)\n",
    "            # Create mesh\n",
    "            vertices, faces = create_box_mesh(start_coords, size)\n",
    "            # Add vertices to the collection\n",
    "            all_vertices.extend(vertices)\n",
    "\n",
    "    # Convert to numpy array\n",
    "    all_vertices = np.array(all_vertices)\n",
    "\n",
    "    # Create faces for the combined vertices\n",
    "    faces = np.array([[i, i+1, i+2] for i in range(0, len(all_vertices)-2)])\n",
    "\n",
    "    # Create convex hull\n",
    "    hull_data = convex_hull((all_vertices, faces))\n",
    "\n",
    "    # Apply Taubin smoothing with correct parameter names\n",
    "    smoothed_data = laplacian_smooth(\n",
    "        hull_data, step_smooth_num=5)  # number of iterations\n",
    "\n",
    "\n",
    "    return hull_data, smoothed_data\n",
    "\n",
    "# Example usage:\n",
    "viewer = napari.Viewer()\n",
    "\n",
    "# Create hull and smooth it\n",
    "hull_data, smoothed_data = create_agglomeration_hull(df, agglo_id_test)\n",
    "\n",
    "# Hide all existing layers\n",
    "for layer in viewer.layers:\n",
    "    layer.visible = False\n",
    "\n",
    "# Add original hull (hidden by default)\n",
    "viewer.add_surface(\n",
    "    hull_data,\n",
    "    name='Original_Hull',\n",
    "    colormap='viridis',\n",
    "    opacity=0.5,\n",
    "    visible=False\n",
    ")\n",
    "\n",
    "# Add smoothed surface\n",
    "viewer.add_surface(\n",
    "    smoothed_data,\n",
    "    name='Smoothed_Hull',\n",
    "    colormap='magma',\n",
    "    opacity=0.5\n",
    ")\n",
    "\n",
    "\n",
    "napari.run()"
   ],
   "metadata": {
    "collapsed": false
   }
  },
  {
   "cell_type": "code",
   "execution_count": 49,
   "outputs": [
    {
     "name": "stdout",
     "output_type": "stream",
     "text": [
      "\n",
      "agglo_1 segments: [1, 2, 3, 4, 5, 6, 7, 8, 9, 10]\n",
      "Overlaps with agglo_2: [8, 9, 10]\n",
      "\n",
      "agglo_2 segments: [8, 9, 10, 11, 12, 13, 14, 15, 16, 17]\n",
      "Overlaps with agglo_1: [8, 9, 10]\n",
      "Overlaps with agglo_3: [16, 17, 15]\n",
      "\n",
      "agglo_3 segments: [15, 16, 17, 18, 19, 20, 21, 22, 23, 24]\n",
      "Overlaps with agglo_2: [16, 17, 15]\n",
      "Overlaps with agglo_4: [24, 21, 22, 23]\n",
      "\n",
      "agglo_4 segments: [21, 22, 23, 24, 25, 26, 27, 28, 29, 30]\n",
      "Overlaps with agglo_3: [24, 21, 22, 23]\n",
      "\n",
      "DataFrame head:\n"
     ]
    },
    {
     "data": {
      "text/plain": "   id      x      y     z  x_1  y_1  z_1 agglo_id\n0   1  10065  10718  1926   58   46   21  agglo_1\n1   2  10225  10829  1553   50   35   22  agglo_1\n2   3  11126  11845  1818   44   37   22  agglo_1\n3   4  11680  11103  2153   32   25   27  agglo_1\n4   5  10386  11800  1736   36   40   23  agglo_1",
      "text/html": "<div>\n<style scoped>\n    .dataframe tbody tr th:only-of-type {\n        vertical-align: middle;\n    }\n\n    .dataframe tbody tr th {\n        vertical-align: top;\n    }\n\n    .dataframe thead th {\n        text-align: right;\n    }\n</style>\n<table border=\"1\" class=\"dataframe\">\n  <thead>\n    <tr style=\"text-align: right;\">\n      <th></th>\n      <th>id</th>\n      <th>x</th>\n      <th>y</th>\n      <th>z</th>\n      <th>x_1</th>\n      <th>y_1</th>\n      <th>z_1</th>\n      <th>agglo_id</th>\n    </tr>\n  </thead>\n  <tbody>\n    <tr>\n      <th>0</th>\n      <td>1</td>\n      <td>10065</td>\n      <td>10718</td>\n      <td>1926</td>\n      <td>58</td>\n      <td>46</td>\n      <td>21</td>\n      <td>agglo_1</td>\n    </tr>\n    <tr>\n      <th>1</th>\n      <td>2</td>\n      <td>10225</td>\n      <td>10829</td>\n      <td>1553</td>\n      <td>50</td>\n      <td>35</td>\n      <td>22</td>\n      <td>agglo_1</td>\n    </tr>\n    <tr>\n      <th>2</th>\n      <td>3</td>\n      <td>11126</td>\n      <td>11845</td>\n      <td>1818</td>\n      <td>44</td>\n      <td>37</td>\n      <td>22</td>\n      <td>agglo_1</td>\n    </tr>\n    <tr>\n      <th>3</th>\n      <td>4</td>\n      <td>11680</td>\n      <td>11103</td>\n      <td>2153</td>\n      <td>32</td>\n      <td>25</td>\n      <td>27</td>\n      <td>agglo_1</td>\n    </tr>\n    <tr>\n      <th>4</th>\n      <td>5</td>\n      <td>10386</td>\n      <td>11800</td>\n      <td>1736</td>\n      <td>36</td>\n      <td>40</td>\n      <td>23</td>\n      <td>agglo_1</td>\n    </tr>\n  </tbody>\n</table>\n</div>"
     },
     "execution_count": 49,
     "metadata": {},
     "output_type": "execute_result"
    }
   ],
   "source": [
    "### start again\n",
    "## Dummy test\n",
    "import numpy as np\n",
    "import pandas as pd\n",
    "\n",
    "# Create dummy segments data\n",
    "segments_data = {\n",
    "    'id': range(1, 31),  # 30 segments total\n",
    "    'x': np.random.randint(10000, 12000, 30),\n",
    "    'y': np.random.randint(10000, 12000, 30),\n",
    "    'z': np.random.randint(1000, 2500, 30),\n",
    "    'x_1': np.random.randint(20, 70, 30),\n",
    "    'y_1': np.random.randint(15, 50, 30),\n",
    "    'z_1': np.random.randint(15, 35, 30)\n",
    "}\n",
    "\n",
    "df = pd.DataFrame(segments_data)\n",
    "\n",
    "# Create 4 overlapping agglomerations\n",
    "agglo_groups = {\n",
    "    'agglo_1': list(range(1, 11)),           # segments 1-10\n",
    "    'agglo_2': list(range(8, 18)),           # segments 8-17 (overlaps with agglo_1)\n",
    "    'agglo_3': list(range(15, 25)),          # segments 15-24 (overlaps with agglo_2)\n",
    "    'agglo_4': list(range(21, 31))           # segments 21-30 (overlaps with agglo_3)\n",
    "}\n",
    "\n",
    "# Add agglomeration IDs to DataFrame\n",
    "df['agglo_id'] = None\n",
    "for agglo_id, segments in agglo_groups.items():\n",
    "    df.loc[df['id'].isin(segments), 'agglo_id'] = agglo_id\n",
    "\n",
    "# Print overlap information\n",
    "for agglo_id, segments in agglo_groups.items():\n",
    "    print(f\"\\n{agglo_id} segments: {segments}\")\n",
    "    for other_agglo, other_segments in agglo_groups.items():\n",
    "        if other_agglo != agglo_id:\n",
    "            overlap = set(segments) & set(other_segments)\n",
    "            if overlap:\n",
    "                print(f\"Overlaps with {other_agglo}: {list(overlap)}\")\n",
    "\n",
    "print(\"\\nDataFrame head:\")\n",
    "df.head()\n",
    "\n"
   ],
   "metadata": {
    "collapsed": false
   }
  },
  {
   "cell_type": "code",
   "execution_count": 53,
   "outputs": [
    {
     "data": {
      "text/plain": "<Figure size 1200x1000 with 2 Axes>",
      "image/png": "[encoded data removed]"
     },
     "metadata": {},
     "output_type": "display_data"
    },
    {
     "name": "stdout",
     "output_type": "stream",
     "text": [
      "\n",
      "Overlap Matrix:\n",
      "                Agglo_67017133  Agglo_66090332  Agglo_67016897  \\\n",
      "Agglo_67017133             177               0               0   \n",
      "Agglo_66090332               0             400               0   \n",
      "Agglo_67016897               0               0             141   \n",
      "Agglo_67016249               0               0               0   \n",
      "Agglo_72815935               0               0               0   \n",
      "Agglo_67016897               0               0             141   \n",
      "Agglo_66120761               0               0               0   \n",
      "Agglo_66892606               0               0               0   \n",
      "Agglo_23602233               0               0               0   \n",
      "\n",
      "                Agglo_67016249  Agglo_72815935  Agglo_67016897  \\\n",
      "Agglo_67017133               0               0               0   \n",
      "Agglo_66090332               0               0               0   \n",
      "Agglo_67016897               0               0             141   \n",
      "Agglo_67016249             410               0               0   \n",
      "Agglo_72815935               0             210               0   \n",
      "Agglo_67016897               0               0             141   \n",
      "Agglo_66120761               0               0               0   \n",
      "Agglo_66892606               0               0               0   \n",
      "Agglo_23602233               0               0               0   \n",
      "\n",
      "                Agglo_66120761  Agglo_66892606  Agglo_23602233  \n",
      "Agglo_67017133               0               0               0  \n",
      "Agglo_66090332               0               0               0  \n",
      "Agglo_67016897               0               0               0  \n",
      "Agglo_67016249               0               0               0  \n",
      "Agglo_72815935               0               0               0  \n",
      "Agglo_67016897               0               0               0  \n",
      "Agglo_66120761             447               0               0  \n",
      "Agglo_66892606               0             775               0  \n",
      "Agglo_23602233               0               0             461  \n"
     ]
    }
   ],
   "source": [
    "import numpy as np\n",
    "import pandas as pd\n",
    "import seaborn as sns\n",
    "import matplotlib.pyplot as plt\n",
    "\n",
    "# Get unique agglomeration IDs from your data\n",
    "agglo_ids = [67017133, 66090332, 67016897, 67016249, 72815935, 67016897, 66120761, 66892606, 23602233]\n",
    "\n",
    "# Create empty matrix\n",
    "n = len(agglo_ids)\n",
    "overlap_matrix = np.zeros((n, n), dtype=int)\n",
    "\n",
    "# Fill the matrix\n",
    "for i, agglo1 in enumerate(agglo_ids):\n",
    "    for j, agglo2 in enumerate(agglo_ids):\n",
    "        # Get segments for each agglomeration\n",
    "        segments1 = set(groups_dict[tuple(centroids_xyz[i])][agglo1])\n",
    "        segments2 = set(groups_dict[tuple(centroids_xyz[j])][agglo2])\n",
    "        # Calculate overlap\n",
    "        overlap = len(segments1.intersection(segments2))\n",
    "        overlap_matrix[i,j] = overlap\n",
    "\n",
    "# Create DataFrame\n",
    "overlap_df = pd.DataFrame(\n",
    "    overlap_matrix,\n",
    "    index=[f'Agglo_{id}' for id in agglo_ids],\n",
    "    columns=[f'Agglo_{id}' for id in agglo_ids]\n",
    ")\n",
    "\n",
    "# Create heatmap\n",
    "plt.figure(figsize=(12, 10))\n",
    "sns.heatmap(overlap_df,\n",
    "            annot=True,  # Show numbers in cells\n",
    "            fmt='d',     # Format as integers\n",
    "            cmap='YlOrRd',  # Yellow to Red colormap\n",
    "            square=True,    # Make cells square\n",
    "            cbar_kws={'label': 'Number of shared segments'})\n",
    "\n",
    "plt.title('Agglomeration Overlap Matrix')\n",
    "plt.tight_layout()\n",
    "plt.show()\n",
    "\n",
    "# Also print the raw numbers\n",
    "print(\"\\nOverlap Matrix:\")\n",
    "print(overlap_df)"
   ],
   "metadata": {
    "collapsed": false
   }
  },
  {
   "cell_type": "code",
   "execution_count": 54,
   "outputs": [
    {
     "name": "stdout",
     "output_type": "stream",
     "text": [
      "\n",
      "DataFrame head:\n",
      "   id      x      y     z  x_1  y_1  z_1 agglo_id\n",
      "0   1  10000  10000  1000   40   40   40  agglo_1\n",
      "1   2  10100  10100  1100   40   40   40  agglo_1\n",
      "2   3  10200  10200  1200   40   40   40  agglo_1\n",
      "3   4  10300  10300  1300   40   40   40  agglo_1\n",
      "4   5  10400  10400  1400   40   40   40  agglo_1\n",
      "\n",
      "Spatial overlap but unique segments:\n",
      "\n",
      "Point (10500, 10500, 1500):\n",
      "agglo_1: [1, 2, 3, 4, 5, 6, 7, 8, 9, 10]\n",
      "\n",
      "Point (10700, 10700, 1500):\n",
      "agglo_2: [11, 12, 13, 14, 15, 16, 17, 18, 19, 20]\n",
      "\n",
      "Point (10900, 10900, 1500):\n",
      "agglo_3: [21, 22, 23, 24, 25, 26, 27, 28, 29, 30]\n"
     ]
    }
   ],
   "source": [
    "import numpy as np\n",
    "import pandas as pd\n",
    "\n",
    "# Create dummy segments data with overlapping spatial regions but unique segment IDs\n",
    "segments_data = {\n",
    "    'id': range(1, 31),  # 30 unique segments\n",
    "    'x': [\n",
    "        # Agglomeration 1 (segments 1-10) - Central region\n",
    "        10000, 10100, 10200, 10300, 10400, 10500, 10600, 10700, 10800, 10900,\n",
    "        # Agglomeration 2 (segments 11-20) - Overlaps with Agglomeration 1\n",
    "        10200, 10300, 10400, 10500, 10600, 10700, 10800, 10900, 11000, 11100,\n",
    "        # Agglomeration 3 (segments 21-30) - Overlaps with Agglomeration 2\n",
    "        10400, 10500, 10600, 10700, 10800, 10900, 11000, 11100, 11200, 11300\n",
    "    ],\n",
    "    'y': [\n",
    "        # Agglomeration 1\n",
    "        10000, 10100, 10200, 10300, 10400, 10500, 10600, 10700, 10800, 10900,\n",
    "        # Agglomeration 2 (shifted)\n",
    "        10200, 10300, 10400, 10500, 10600, 10700, 10800, 10900, 11000, 11100,\n",
    "        # Agglomeration 3 (shifted)\n",
    "        10400, 10500, 10600, 10700, 10800, 10900, 11000, 11100, 11200, 11300\n",
    "    ],\n",
    "    'z': [\n",
    "        # All z coordinates\n",
    "        1000, 1100, 1200, 1300, 1400, 1500, 1600, 1700, 1800, 1900,\n",
    "        1000, 1100, 1200, 1300, 1400, 1500, 1600, 1700, 1800, 1900,\n",
    "        1000, 1100, 1200, 1300, 1400, 1500, 1600, 1700, 1800, 1900\n",
    "    ],\n",
    "    'x_1': [40] * 30,  # Size in x\n",
    "    'y_1': [40] * 30,  # Size in y\n",
    "    'z_1': [40] * 30   # Size in z\n",
    "}\n",
    "\n",
    "df = pd.DataFrame(segments_data)\n",
    "\n",
    "# Create groups dictionary with spatially overlapping but unique segments\n",
    "groups_dict = {\n",
    "    (10500, 10500, 1500): {  # Central point\n",
    "        'agglo_1': list(range(1, 11)),      # Segments 1-10\n",
    "    },\n",
    "    (10700, 10700, 1500): {  # Shifted point\n",
    "        'agglo_2': list(range(11, 21)),     # Segments 11-20\n",
    "    },\n",
    "    (10900, 10900, 1500): {  # Further shifted point\n",
    "        'agglo_3': list(range(21, 31)),     # Segments 21-30\n",
    "    }\n",
    "}\n",
    "\n",
    "# Add agglomeration IDs to DataFrame\n",
    "df['agglo_id'] = None\n",
    "for point, agglos in groups_dict.items():\n",
    "    for agglo_id, segments in agglos.items():\n",
    "        df.loc[df['id'].isin(segments), 'agglo_id'] = agglo_id\n",
    "\n",
    "print(\"\\nDataFrame head:\")\n",
    "print(df.head())\n",
    "print(\"\\nSpatial overlap but unique segments:\")\n",
    "for point, agglos in groups_dict.items():\n",
    "    print(f\"\\nPoint {point}:\")\n",
    "    for agglo_id, segments in agglos.items():\n",
    "        print(f\"{agglo_id}: {segments}\")"
   ],
   "metadata": {
    "collapsed": false
   }
  },
  {
   "cell_type": "code",
   "execution_count": 55,
   "outputs": [
    {
     "data": {
      "text/plain": "<Figure size 1000x800 with 2 Axes>",
      "image/png": "[encoded data removed]"
     },
     "metadata": {},
     "output_type": "display_data"
    }
   ],
   "source": [
    "import napari\n",
    "import numpy as np\n",
    "import matplotlib.pyplot as plt\n",
    "import seaborn as sns\n",
    "from napari_pymeshlab import convex_hull, taubin_smooth\n",
    "\n",
    "def create_overlap_matrix(groups_dict):\n",
    "    \"\"\"Create overlap matrix between agglomerations\"\"\"\n",
    "    # Get unique agglomeration IDs\n",
    "    agglo_ids = []\n",
    "    for point, groups in groups_dict.items():\n",
    "        for agglo_id in groups.keys():\n",
    "            if agglo_id not in agglo_ids:\n",
    "                agglo_ids.append(agglo_id)\n",
    "\n",
    "    # Create empty matrix\n",
    "    n = len(agglo_ids)\n",
    "    overlap_matrix = np.zeros((n, n), dtype=int)\n",
    "\n",
    "    # Fill matrix\n",
    "    for i, agglo1 in enumerate(agglo_ids):\n",
    "        for j, agglo2 in enumerate(agglo_ids):\n",
    "            # Get segments for each agglomeration\n",
    "            segments1 = set()\n",
    "            segments2 = set()\n",
    "            for point, groups in groups_dict.items():\n",
    "                if agglo1 in groups:\n",
    "                    segments1.update(groups[agglo1])\n",
    "                if agglo2 in groups:\n",
    "                    segments2.update(groups[agglo2])\n",
    "\n",
    "            # Calculate overlap\n",
    "            overlap = len(segments1.intersection(segments2))\n",
    "            overlap_matrix[i,j] = overlap\n",
    "\n",
    "    return overlap_matrix, agglo_ids\n",
    "\n",
    "def visualize_agglomerations_and_matrix(df, groups_dict):\n",
    "    \"\"\"Visualize agglomerations in napari and overlap matrix in matplotlib\"\"\"\n",
    "    # Create napari viewer\n",
    "    viewer = napari.Viewer()\n",
    "\n",
    "    # Create convex hulls for each agglomeration\n",
    "    colors = ['red', 'blue', 'green', 'yellow', 'magenta', 'cyan']\n",
    "    color_idx = 0\n",
    "\n",
    "    for point, groups in groups_dict.items():\n",
    "        for agglo_id, segments in groups.items():\n",
    "            # Get all vertices for segments in this agglomeration\n",
    "            all_vertices = []\n",
    "            for segment_id in segments:\n",
    "                segment_data = df[df['id'] == segment_id]\n",
    "                if len(segment_data) == 0:\n",
    "                    continue\n",
    "\n",
    "                # Get coordinates and size\n",
    "                start = np.array([\n",
    "                    segment_data['x'].iloc[0],\n",
    "                    segment_data['y'].iloc[0],\n",
    "                    segment_data['z'].iloc[0]\n",
    "                ])\n",
    "                size = np.array([\n",
    "                    segment_data['x_1'].iloc[0],\n",
    "                    segment_data['y_1'].iloc[0],\n",
    "                    segment_data['z_1'].iloc[0]\n",
    "                ])\n",
    "\n",
    "                # Create box vertices\n",
    "                vertices = np.array([\n",
    "                    start,\n",
    "                    start + [size[0], 0, 0],\n",
    "                    start + [0, size[1], 0],\n",
    "                    start + [0, 0, size[2]],\n",
    "                    start + [size[0], size[1], 0],\n",
    "                    start + [size[0], 0, size[2]],\n",
    "                    start + [0, size[1], size[2]],\n",
    "                    start + size\n",
    "                ])\n",
    "                all_vertices.extend(vertices)\n",
    "\n",
    "            # Create convex hull\n",
    "            vertices = np.array(all_vertices)\n",
    "            faces = np.array([[i, i+1, i+2] for i in range(0, len(vertices)-2)])\n",
    "            hull_data = convex_hull((vertices, faces))\n",
    "\n",
    "            # Add to viewer\n",
    "            viewer.add_surface(\n",
    "                hull_data,\n",
    "                name=f'Agglo_{agglo_id}',\n",
    "                colormap=colors[color_idx % len(colors)],\n",
    "                opacity=0.5\n",
    "            )\n",
    "            color_idx += 1\n",
    "\n",
    "    # Create overlap matrix\n",
    "    overlap_matrix, agglo_ids = create_overlap_matrix(groups_dict)\n",
    "\n",
    "    # Plot matrix\n",
    "    plt.figure(figsize=(10, 8))\n",
    "    sns.heatmap(overlap_matrix,\n",
    "                xticklabels=[f'Agglo_{id}' for id in agglo_ids],\n",
    "                yticklabels=[f'Agglo_{id}' for id in agglo_ids],\n",
    "                annot=True,\n",
    "                fmt='d',\n",
    "                cmap='YlOrRd')\n",
    "    plt.title('Agglomeration Overlap Matrix')\n",
    "    plt.tight_layout()\n",
    "    plt.show()\n",
    "\n",
    "    return viewer\n",
    "\n",
    "# Use the function\n",
    "viewer = visualize_agglomerations_and_matrix(df, groups_dict)\n",
    "napari.run()"
   ],
   "metadata": {
    "collapsed": false
   }
  },
  {
   "cell_type": "code",
   "execution_count": 56,
   "outputs": [
    {
     "data": {
      "text/plain": "    id      x      y     z  x_1  y_1  z_1 agglo_id\n0    1  10000  10000  1000   40   40   40  agglo_1\n1    2  10100  10100  1100   40   40   40  agglo_1\n2    3  10200  10200  1200   40   40   40  agglo_1\n3    4  10300  10300  1300   40   40   40  agglo_1\n4    5  10400  10400  1400   40   40   40  agglo_1\n5    6  10500  10500  1500   40   40   40  agglo_1\n6    7  10600  10600  1600   40   40   40  agglo_1\n7    8  10700  10700  1700   40   40   40  agglo_1\n8    9  10800  10800  1800   40   40   40  agglo_1\n9   10  10900  10900  1900   40   40   40  agglo_1\n10  11  10200  10200  1000   40   40   40  agglo_2\n11  12  10300  10300  1100   40   40   40  agglo_2\n12  13  10400  10400  1200   40   40   40  agglo_2\n13  14  10500  10500  1300   40   40   40  agglo_2\n14  15  10600  10600  1400   40   40   40  agglo_2\n15  16  10700  10700  1500   40   40   40  agglo_2\n16  17  10800  10800  1600   40   40   40  agglo_2\n17  18  10900  10900  1700   40   40   40  agglo_2\n18  19  11000  11000  1800   40   40   40  agglo_2\n19  20  11100  11100  1900   40   40   40  agglo_2\n20  21  10400  10400  1000   40   40   40  agglo_3\n21  22  10500  10500  1100   40   40   40  agglo_3\n22  23  10600  10600  1200   40   40   40  agglo_3\n23  24  10700  10700  1300   40   40   40  agglo_3\n24  25  10800  10800  1400   40   40   40  agglo_3\n25  26  10900  10900  1500   40   40   40  agglo_3\n26  27  11000  11000  1600   40   40   40  agglo_3\n27  28  11100  11100  1700   40   40   40  agglo_3\n28  29  11200  11200  1800   40   40   40  agglo_3\n29  30  11300  11300  1900   40   40   40  agglo_3",
      "text/html": "<div>\n<style scoped>\n    .dataframe tbody tr th:only-of-type {\n        vertical-align: middle;\n    }\n\n    .dataframe tbody tr th {\n        vertical-align: top;\n    }\n\n    .dataframe thead th {\n        text-align: right;\n    }\n</style>\n<table border=\"1\" class=\"dataframe\">\n  <thead>\n    <tr style=\"text-align: right;\">\n      <th></th>\n      <th>id</th>\n      <th>x</th>\n      <th>y</th>\n      <th>z</th>\n      <th>x_1</th>\n      <th>y_1</th>\n      <th>z_1</th>\n      <th>agglo_id</th>\n    </tr>\n  </thead>\n  <tbody>\n    <tr>\n      <th>0</th>\n      <td>1</td>\n      <td>10000</td>\n      <td>10000</td>\n      <td>1000</td>\n      <td>40</td>\n      <td>40</td>\n      <td>40</td>\n      <td>agglo_1</td>\n    </tr>\n    <tr>\n      <th>1</th>\n      <td>2</td>\n      <td>10100</td>\n      <td>10100</td>\n      <td>1100</td>\n      <td>40</td>\n      <td>40</td>\n      <td>40</td>\n      <td>agglo_1</td>\n    </tr>\n    <tr>\n      <th>2</th>\n      <td>3</td>\n      <td>10200</td>\n      <td>10200</td>\n      <td>1200</td>\n      <td>40</td>\n      <td>40</td>\n      <td>40</td>\n      <td>agglo_1</td>\n    </tr>\n    <tr>\n      <th>3</th>\n      <td>4</td>\n      <td>10300</td>\n      <td>10300</td>\n      <td>1300</td>\n      <td>40</td>\n      <td>40</td>\n      <td>40</td>\n      <td>agglo_1</td>\n    </tr>\n    <tr>\n      <th>4</th>\n      <td>5</td>\n      <td>10400</td>\n      <td>10400</td>\n      <td>1400</td>\n      <td>40</td>\n      <td>40</td>\n      <td>40</td>\n      <td>agglo_1</td>\n    </tr>\n    <tr>\n      <th>5</th>\n      <td>6</td>\n      <td>10500</td>\n      <td>10500</td>\n      <td>1500</td>\n      <td>40</td>\n      <td>40</td>\n      <td>40</td>\n      <td>agglo_1</td>\n    </tr>\n    <tr>\n      <th>6</th>\n      <td>7</td>\n      <td>10600</td>\n      <td>10600</td>\n      <td>1600</td>\n      <td>40</td>\n      <td>40</td>\n      <td>40</td>\n      <td>agglo_1</td>\n    </tr>\n    <tr>\n      <th>7</th>\n      <td>8</td>\n      <td>10700</td>\n      <td>10700</td>\n      <td>1700</td>\n      <td>40</td>\n      <td>40</td>\n      <td>40</td>\n      <td>agglo_1</td>\n    </tr>\n    <tr>\n      <th>8</th>\n      <td>9</td>\n      <td>10800</td>\n      <td>10800</td>\n      <td>1800</td>\n      <td>40</td>\n      <td>40</td>\n      <td>40</td>\n      <td>agglo_1</td>\n    </tr>\n    <tr>\n      <th>9</th>\n      <td>10</td>\n      <td>10900</td>\n      <td>10900</td>\n      <td>1900</td>\n      <td>40</td>\n      <td>40</td>\n      <td>40</td>\n      <td>agglo_1</td>\n    </tr>\n    <tr>\n      <th>10</th>\n      <td>11</td>\n      <td>10200</td>\n      <td>10200</td>\n      <td>1000</td>\n      <td>40</td>\n      <td>40</td>\n      <td>40</td>\n      <td>agglo_2</td>\n    </tr>\n    <tr>\n      <th>11</th>\n      <td>12</td>\n      <td>10300</td>\n      <td>10300</td>\n      <td>1100</td>\n      <td>40</td>\n      <td>40</td>\n      <td>40</td>\n      <td>agglo_2</td>\n    </tr>\n    <tr>\n      <th>12</th>\n      <td>13</td>\n      <td>10400</td>\n      <td>10400</td>\n      <td>1200</td>\n      <td>40</td>\n      <td>40</td>\n      <td>40</td>\n      <td>agglo_2</td>\n    </tr>\n    <tr>\n      <th>13</th>\n      <td>14</td>\n      <td>10500</td>\n      <td>10500</td>\n      <td>1300</td>\n      <td>40</td>\n      <td>40</td>\n      <td>40</td>\n      <td>agglo_2</td>\n    </tr>\n    <tr>\n      <th>14</th>\n      <td>15</td>\n      <td>10600</td>\n      <td>10600</td>\n      <td>1400</td>\n      <td>40</td>\n      <td>40</td>\n      <td>40</td>\n      <td>agglo_2</td>\n    </tr>\n    <tr>\n      <th>15</th>\n      <td>16</td>\n      <td>10700</td>\n      <td>10700</td>\n      <td>1500</td>\n      <td>40</td>\n      <td>40</td>\n      <td>40</td>\n      <td>agglo_2</td>\n    </tr>\n    <tr>\n      <th>16</th>\n      <td>17</td>\n      <td>10800</td>\n      <td>10800</td>\n      <td>1600</td>\n      <td>40</td>\n      <td>40</td>\n      <td>40</td>\n      <td>agglo_2</td>\n    </tr>\n    <tr>\n      <th>17</th>\n      <td>18</td>\n      <td>10900</td>\n      <td>10900</td>\n      <td>1700</td>\n      <td>40</td>\n      <td>40</td>\n      <td>40</td>\n      <td>agglo_2</td>\n    </tr>\n    <tr>\n      <th>18</th>\n      <td>19</td>\n      <td>11000</td>\n      <td>11000</td>\n      <td>1800</td>\n      <td>40</td>\n      <td>40</td>\n      <td>40</td>\n      <td>agglo_2</td>\n    </tr>\n    <tr>\n      <th>19</th>\n      <td>20</td>\n      <td>11100</td>\n      <td>11100</td>\n      <td>1900</td>\n      <td>40</td>\n      <td>40</td>\n      <td>40</td>\n      <td>agglo_2</td>\n    </tr>\n    <tr>\n      <th>20</th>\n      <td>21</td>\n      <td>10400</td>\n      <td>10400</td>\n      <td>1000</td>\n      <td>40</td>\n      <td>40</td>\n      <td>40</td>\n      <td>agglo_3</td>\n    </tr>\n    <tr>\n      <th>21</th>\n      <td>22</td>\n      <td>10500</td>\n      <td>10500</td>\n      <td>1100</td>\n      <td>40</td>\n      <td>40</td>\n      <td>40</td>\n      <td>agglo_3</td>\n    </tr>\n    <tr>\n      <th>22</th>\n      <td>23</td>\n      <td>10600</td>\n      <td>10600</td>\n      <td>1200</td>\n      <td>40</td>\n      <td>40</td>\n      <td>40</td>\n      <td>agglo_3</td>\n    </tr>\n    <tr>\n      <th>23</th>\n      <td>24</td>\n      <td>10700</td>\n      <td>10700</td>\n      <td>1300</td>\n      <td>40</td>\n      <td>40</td>\n      <td>40</td>\n      <td>agglo_3</td>\n    </tr>\n    <tr>\n      <th>24</th>\n      <td>25</td>\n      <td>10800</td>\n      <td>10800</td>\n      <td>1400</td>\n      <td>40</td>\n      <td>40</td>\n      <td>40</td>\n      <td>agglo_3</td>\n    </tr>\n    <tr>\n      <th>25</th>\n      <td>26</td>\n      <td>10900</td>\n      <td>10900</td>\n      <td>1500</td>\n      <td>40</td>\n      <td>40</td>\n      <td>40</td>\n      <td>agglo_3</td>\n    </tr>\n    <tr>\n      <th>26</th>\n      <td>27</td>\n      <td>11000</td>\n      <td>11000</td>\n      <td>1600</td>\n      <td>40</td>\n      <td>40</td>\n      <td>40</td>\n      <td>agglo_3</td>\n    </tr>\n    <tr>\n      <th>27</th>\n      <td>28</td>\n      <td>11100</td>\n      <td>11100</td>\n      <td>1700</td>\n      <td>40</td>\n      <td>40</td>\n      <td>40</td>\n      <td>agglo_3</td>\n    </tr>\n    <tr>\n      <th>28</th>\n      <td>29</td>\n      <td>11200</td>\n      <td>11200</td>\n      <td>1800</td>\n      <td>40</td>\n      <td>40</td>\n      <td>40</td>\n      <td>agglo_3</td>\n    </tr>\n    <tr>\n      <th>29</th>\n      <td>30</td>\n      <td>11300</td>\n      <td>11300</td>\n      <td>1900</td>\n      <td>40</td>\n      <td>40</td>\n      <td>40</td>\n      <td>agglo_3</td>\n    </tr>\n  </tbody>\n</table>\n</div>"
     },
     "execution_count": 56,
     "metadata": {},
     "output_type": "execute_result"
    }
   ],
   "source": [
    "df"
   ],
   "metadata": {
    "collapsed": false
   }
  },
  {
   "cell_type": "code",
   "execution_count": null,
   "outputs": [],
   "source": [],
   "metadata": {
    "collapsed": false
   }
  }
 ],
 "metadata": {
  "kernelspec": {
   "display_name": "Python 3",
   "language": "python",
   "name": "python3"
  },
  "language_info": {
   "codemirror_mode": {
    "name": "ipython",
    "version": 2
   },
   "file_extension": ".py",
   "mimetype": "text/x-python",
   "name": "python",
   "nbconvert_exporter": "python",
   "pygments_lexer": "ipython2",
   "version": "2.7.6"
  }
 },
 "nbformat": 4,
 "nbformat_minor": 0
}
